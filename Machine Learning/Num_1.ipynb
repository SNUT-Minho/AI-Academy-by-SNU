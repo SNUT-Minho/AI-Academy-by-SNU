{
 "cells": [
  {
   "cell_type": "code",
   "execution_count": 4,
   "metadata": {},
   "outputs": [],
   "source": [
    "import sys"
   ]
  },
  {
   "cell_type": "code",
   "execution_count": null,
   "metadata": {},
   "outputs": [],
   "source": [
    "inTrFile = sys.argv[1] # Training data file\n",
    "inTsFile = sys.argv[2] # Test data file"
   ]
  },
  {
   "cell_type": "code",
   "execution_count": 13,
   "metadata": {},
   "outputs": [],
   "source": [
    "inTrFile = \"training_exam.txt\"\n",
    "inTsFile = \"test_exam.txt\""
   ]
  },
  {
   "cell_type": "code",
   "execution_count": 14,
   "metadata": {},
   "outputs": [],
   "source": [
    "# Variables\n",
    "lstTest = []\t\t# Store test data\n",
    "#\t\t\tex) \"Sunny Cool High Strong\"\t=> [\"Sunny\", \"Cool\", \"High\", \"Strong\"]\n",
    "dctClassCount = {}\t# Store the count of each class\n",
    "#\t\t\tex) { 'Yes': 9, 'No': 5 } \n",
    "dctOccur = {}\t\t# Count the occurrence of each pair of feature and class\n",
    "#\t\t \tex) \"Sunny Cool ... Yes\"\n",
    "#\t\t\t    \"Sunny Mild ... Yes\"\n",
    "#\t\t\t    \"Overcast Cool ... Yes\"\n",
    "#\t\t\t    \"...\"\n",
    "#\t\t\t     => (Sunny & Yes: 2), (Cool & Yes: 2), (Mild & Yes: 1), (Overcast & Yes: 1) ...\n",
    "dctLikelihood = {}\t# Store the likelihood calculated by dividing the occurrence counts by the class counts\n",
    "dctPrior = {}\t\t# Calculate and store prior probability using the values of 'dctClassCount'\n",
    "\n",
    "sInFile = open ( inTrFile, 'r' ) # Open training data file\n",
    "\n",
    "for sReadLine in sInFile.readlines():\t# Read the lines in the file one by one\n",
    "\tsReadLine = sReadLine.replace ( '\\n', '' )\t# Remove newline character\n",
    "\tlstToken = sReadLine.split( '\\t' )\t\t# Split the line by '\\t' and store the separated items in a list, lstToken\n",
    "\t\t\t\t\t\t\t# ex) \"Sunny\tCool\tHigh\tStrong\"\t=> lstToken = [\"Sunny\", \"Cool\", \"High\", \"Strong\"]\n",
    "\tfor i in range ( len (lstToken[:-1]) ):\t\t# The last element of the list, lstToken[-1], is class label.\n",
    "\t\t\t\t\t\t\t# Visit every feature but the class.\n",
    "\t\t\t\t\t\t\t# ex) \n",
    "\t\t\t\t\t\t\t# \t0\t1\t2\t3\t4(or -1)\n",
    "\t\t\t\t\t\t\t#\tSunny\tCool\tHigh\tStrong\tYes\t=>\trange(0, 4)\n",
    "\t\ttry:\n",
    "\t\t\tdctOccur[lstToken[i]][lstToken[-1]] += 1\n",
    "\t\t\t\t\t\t\t# Count the occurrence of each feature-class pair and store in a dictionary, dctOccur.\n",
    "\t\texcept KeyError:\n",
    "\t\t\tdctOccur[lstToken[i]] = dctOccur.get ( lstToken[i], {} )\n",
    "\t\t\tdctOccur[lstToken[i]][lstToken[-1]] = 1\t\t\t# 2) Complete this line by initializing 'dctOccur[key1][key2]'\n",
    "\ttry:\n",
    "\t\tdctClassCount[lstToken[-1]] += 1 \t# 3) Complete this line. Count the number of each class.\n",
    "\texcept KeyError:\n",
    "\t\tdctClassCount[lstToken[-1]] = 1\t# 4) Complete this line. Initialize the variable, dctClassCount."
   ]
  },
  {
   "cell_type": "code",
   "execution_count": 15,
   "metadata": {},
   "outputs": [
    {
     "name": "stdout",
     "output_type": "stream",
     "text": [
      "*** Prior ***\n",
      "P( + ) =  0.42857142857142855\n",
      "P( - ) =  0.5714285714285714\n",
      "\n",
      "*** Training Results ***\n",
      "P( a1 | + ) = 0.33\n",
      "P( a1 | - ) = 0.75\n",
      "P( b1 | + ) = 0.67\n",
      "P( b1 | - ) = 0.50\n",
      "P( c1 | + ) = 0.67\n",
      "P( c1 | - ) = 0.25\n",
      "P( a2 | + ) = 0.67\n",
      "P( a2 | - ) = 0.25\n",
      "P( c2 | - ) = 0.75\n",
      "P( c2 | + ) = 0.33\n",
      "P( b2 | - ) = 0.50\n",
      "P( b2 | + ) = 0.33\n",
      "\n",
      "*** Testing ***\n",
      "Test data 1 :\n",
      "P(+)P(a2|+)P(b2|+)P(c1|+) = 0.06349\n",
      "P(-)P(a2|-)P(b2|-)P(c1|-) = 0.01786\n"
     ]
    }
   ],
   "source": [
    "sInFile.close()\t\t\t# Close training data file\n",
    "\n",
    "sInFile = open ( inTsFile, 'r' )\t# Open test data file\n",
    "\n",
    "for sReadLine in sInFile.readlines():\n",
    "\tsReadLine = sReadLine.replace ( '\\n', '' )\n",
    "\tlstToken = sReadLine.split ( '\\t' )\n",
    "\tlstTest.append ( lstToken )\n",
    "\n",
    "sInFile.close()\t\t\t\t# Close test data file\n",
    "\n",
    "print ( \"*** Prior ***\" )\n",
    "for label in dctClassCount.keys():\n",
    "\tdctPrior[label] = dctClassCount[label] / float ( sum ( dctClassCount.values() ) )\n",
    "\tprint ( \"P(\", label, \") = \", dctPrior[label] )\n",
    "print ( \"\\n*** Training Results ***\" )\n",
    "\n",
    "for i in dctOccur.keys():\n",
    "\tfor j in dctOccur[i].keys():\n",
    "\t\ttry:\n",
    "\t\t\tdctLikelihood[i][j] = dctOccur[i][j] / float ( dctClassCount[j] )\n",
    "\t\texcept KeyError:\n",
    "\t\t\tdctLikelihood[i] = dctLikelihood.get ( i, {} )\n",
    "\t\t\tdctLikelihood[i][j] = dctOccur[i][j] / float ( dctClassCount[j] )\n",
    "\n",
    "\t\tprint ( \"P(\", i, \"|\",j, \") = %.2f\" % dctLikelihood[i][j],  )\n",
    "\n",
    "print ( \"\\n*** Testing ***\" )\n",
    "for i in range ( len(lstTest) ):\n",
    "\tprint ( \"Test data\", i + 1, \":\" )  \n",
    "\tfor label in dctPrior.keys():\n",
    "\t\tsOutLine = \"\"\n",
    "\t\ttmp = 1\n",
    "\t\tfor j in range ( len(lstTest[i]) ):\n",
    "\t\t\ttmp *= dctLikelihood[lstTest[i][j]][label]\n",
    "\t\t\tsOutLine += \"P(\" + lstTest[i][j] + \"|\" + label + \")\"\n",
    "\t\ttmp *= dctPrior[label]\n",
    "\t\tsOutLine = \"P(\" + label + \")\" + sOutLine + \" =\"\n",
    "\t\tprint ( sOutLine, \"%.5f\" % tmp )"
   ]
  },
  {
   "cell_type": "code",
   "execution_count": null,
   "metadata": {},
   "outputs": [],
   "source": []
  }
 ],
 "metadata": {
  "kernelspec": {
   "display_name": "Python 3",
   "language": "python",
   "name": "python3"
  },
  "language_info": {
   "codemirror_mode": {
    "name": "ipython",
    "version": 3
   },
   "file_extension": ".py",
   "mimetype": "text/x-python",
   "name": "python",
   "nbconvert_exporter": "python",
   "pygments_lexer": "ipython3",
   "version": "3.6.5"
  }
 },
 "nbformat": 4,
 "nbformat_minor": 2
}
