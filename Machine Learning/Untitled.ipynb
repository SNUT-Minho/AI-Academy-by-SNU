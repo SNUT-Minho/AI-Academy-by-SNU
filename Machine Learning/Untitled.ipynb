{
 "cells": [
  {
   "cell_type": "code",
   "execution_count": 2,
   "metadata": {},
   "outputs": [],
   "source": [
    "import pandas as pd\n",
    "import numpy as np\n",
    "from sklearn.metrics import accuracy_score\n",
    "import time\n",
    "from sklearn.decomposition import PCA\n",
    "from sklearn.preprocessing import StandardScaler\n",
    "#########################\n",
    "#Load MNIST training data\n",
    "#code code code code\n",
    "#\n",
    "\n",
    "#########################\n",
    "#Pre-process data\n",
    "#code code code code\n",
    "#\n",
    "train_data_url = \"https://archive.ics.uci.edu/ml/machine-learning-databases/gisette/GISETTE/gisette_train.data\"\n",
    "train_label_url = \"https://archive.ics.uci.edu/ml/machine-learning-databases/gisette/GISETTE/gisette_train.labels\"\n",
    "\n",
    "test_data_url = \"https://archive.ics.uci.edu/ml/machine-learning-databases/gisette/GISETTE/gisette_valid.data\"\n",
    "test_label_url =\"https://archive.ics.uci.edu/ml/machine-learning-databases/gisette/gisette_valid.labels\""
   ]
  },
  {
   "cell_type": "code",
   "execution_count": null,
   "metadata": {},
   "outputs": [],
   "source": []
  },
  {
   "cell_type": "code",
   "execution_count": null,
   "metadata": {},
   "outputs": [],
   "source": [
    "train_y = pd.read_csv(train_label_url, names=['sepal length','sepal width','petal length','petal width','target'])\n",
    "test_x = pd.read_csv(test_data_url, names=['sepal length','sepal width','petal length','petal width','target'])\n",
    "test_y = pd.read_csv(test_label_url, names=['sepal length','sepal width','petal length','petal width','target'])\n",
    "    "
   ]
  },
  {
   "cell_type": "code",
   "execution_count": null,
   "metadata": {},
   "outputs": [],
   "source": [
    "##########################\n",
    "st = time.time()\n",
    "#make classifier and fit\n",
    "#code code code code\n",
    "#\n",
    "\n",
    "\n",
    "\n",
    "\n",
    "ed = time.time()\n",
    "print \"training time\",ed-st\n",
    "\n",
    "\n",
    "\n",
    "\n",
    "##########################\n",
    "st = time.time()\n",
    "#model testing code\n",
    "#code code code code\n",
    "#\n",
    "\n",
    "\n",
    "\n",
    "\n",
    "ed = time.time()\n",
    "print \"test time\",ed-st\n",
    "\n",
    "\n",
    "##########################\n",
    "#Measure accuracy of the prediction\n",
    "acc_svm = accuracy_score(y_test, y_pred_svm)\n",
    "print \"SVM accuracy: \",acc_svm"
   ]
  },
  {
   "cell_type": "code",
   "execution_count": null,
   "metadata": {},
   "outputs": [],
   "source": []
  }
 ],
 "metadata": {
  "kernelspec": {
   "display_name": "Python 3",
   "language": "python",
   "name": "python3"
  },
  "language_info": {
   "codemirror_mode": {
    "name": "ipython",
    "version": 3
   },
   "file_extension": ".py",
   "mimetype": "text/x-python",
   "name": "python",
   "nbconvert_exporter": "python",
   "pygments_lexer": "ipython3",
   "version": "3.6.5"
  }
 },
 "nbformat": 4,
 "nbformat_minor": 2
}
