{
 "cells": [
  {
   "cell_type": "code",
   "execution_count": 26,
   "metadata": {},
   "outputs": [],
   "source": [
    "import math\n",
    "from sklearn import tree\n",
    "from sklearn.ensemble import RandomForestClassifier\n",
    "from sklearn.metrics import accuracy_score"
   ]
  },
  {
   "cell_type": "code",
   "execution_count": 5,
   "metadata": {},
   "outputs": [
    {
     "name": "stdout",
     "output_type": "stream",
     "text": [
      "   fixed acidity  volatile acidity  citric acid  residual sugar  chlorides  \\\n",
      "0            7.4              0.70         0.00             1.9      0.076   \n",
      "1            7.8              0.88         0.00             2.6      0.098   \n",
      "2            7.8              0.76         0.04             2.3      0.092   \n",
      "3           11.2              0.28         0.56             1.9      0.075   \n",
      "4            7.4              0.70         0.00             1.9      0.076   \n",
      "\n",
      "   free sulfur dioxide  total sulfur dioxide  density    pH  sulphates  \\\n",
      "0                 11.0                  34.0   0.9978  3.51       0.56   \n",
      "1                 25.0                  67.0   0.9968  3.20       0.68   \n",
      "2                 15.0                  54.0   0.9970  3.26       0.65   \n",
      "3                 17.0                  60.0   0.9980  3.16       0.58   \n",
      "4                 11.0                  34.0   0.9978  3.51       0.56   \n",
      "\n",
      "   alcohol  quality  \n",
      "0      9.4        5  \n",
      "1      9.8        5  \n",
      "2      9.8        5  \n",
      "3      9.8        6  \n",
      "4      9.4        5  \n"
     ]
    }
   ],
   "source": [
    "import csv\n",
    "import numpy as np\n",
    "import pandas as pd\n",
    "df = pd.read_csv('winequality-red.csv', delimiter = ';')\n",
    "print(df.head())"
   ]
  },
  {
   "cell_type": "code",
   "execution_count": 6,
   "metadata": {},
   "outputs": [],
   "source": [
    "df.loc[df['quality'] >5, 'quality'] = 'good'\n",
    "df.loc[df['quality'] !='good', 'quality'] = 'bad'"
   ]
  },
  {
   "cell_type": "code",
   "execution_count": 7,
   "metadata": {},
   "outputs": [
    {
     "name": "stdout",
     "output_type": "stream",
     "text": [
      "   fixed acidity  volatile acidity  citric acid  residual sugar  chlorides  \\\n",
      "0            7.4              0.70         0.00             1.9      0.076   \n",
      "1            7.8              0.88         0.00             2.6      0.098   \n",
      "2            7.8              0.76         0.04             2.3      0.092   \n",
      "3           11.2              0.28         0.56             1.9      0.075   \n",
      "4            7.4              0.70         0.00             1.9      0.076   \n",
      "\n",
      "   free sulfur dioxide  total sulfur dioxide  density    pH  sulphates  \\\n",
      "0                 11.0                  34.0   0.9978  3.51       0.56   \n",
      "1                 25.0                  67.0   0.9968  3.20       0.68   \n",
      "2                 15.0                  54.0   0.9970  3.26       0.65   \n",
      "3                 17.0                  60.0   0.9980  3.16       0.58   \n",
      "4                 11.0                  34.0   0.9978  3.51       0.56   \n",
      "\n",
      "   alcohol quality  \n",
      "0      9.4     bad  \n",
      "1      9.8     bad  \n",
      "2      9.8     bad  \n",
      "3      9.8    good  \n",
      "4      9.4     bad  \n"
     ]
    }
   ],
   "source": [
    "print(df.head())"
   ]
  },
  {
   "cell_type": "code",
   "execution_count": 14,
   "metadata": {},
   "outputs": [
    {
     "data": {
      "text/plain": [
       "1599"
      ]
     },
     "execution_count": 14,
     "metadata": {},
     "output_type": "execute_result"
    }
   ],
   "source": [
    "len(df['quality'])"
   ]
  },
  {
   "cell_type": "code",
   "execution_count": 16,
   "metadata": {},
   "outputs": [],
   "source": [
    "ind = range(len(df['quality']))"
   ]
  },
  {
   "cell_type": "code",
   "execution_count": 19,
   "metadata": {},
   "outputs": [
    {
     "name": "stdout",
     "output_type": "stream",
     "text": [
      "[False  True  True ... False  True  True]\n"
     ]
    }
   ],
   "source": [
    "print(ind)"
   ]
  },
  {
   "cell_type": "code",
   "execution_count": 11,
   "metadata": {},
   "outputs": [],
   "source": [
    "ind = range(len(df['quality']))"
   ]
  },
  {
   "cell_type": "code",
   "execution_count": 18,
   "metadata": {},
   "outputs": [
    {
     "name": "stdout",
     "output_type": "stream",
     "text": [
      "[False  True  True ... False  True  True]\n"
     ]
    }
   ],
   "source": [
    "ind = np.array(ind)\n",
    "ind = ind%4 != 0\n",
    "print(ind)"
   ]
  },
  {
   "cell_type": "code",
   "execution_count": 21,
   "metadata": {},
   "outputs": [
    {
     "name": "stdout",
     "output_type": "stream",
     "text": [
      "Index(['fixed acidity', 'volatile acidity', 'citric acid', 'residual sugar',\n",
      "       'chlorides', 'free sulfur dioxide', 'total sulfur dioxide', 'density',\n",
      "       'pH', 'sulphates', 'alcohol'],\n",
      "      dtype='object')\n"
     ]
    }
   ],
   "source": [
    "train = df[ind==True]\n",
    "test = df[ind==False]\n",
    "features = df.columns[:11]\n",
    "print(features)"
   ]
  },
  {
   "cell_type": "code",
   "execution_count": 23,
   "metadata": {
    "scrolled": true
   },
   "outputs": [
    {
     "name": "stdout",
     "output_type": "stream",
     "text": [
      "   fixed acidity  volatile acidity  citric acid  residual sugar  chlorides  \\\n",
      "1            7.8              0.88         0.00             2.6      0.098   \n",
      "2            7.8              0.76         0.04             2.3      0.092   \n",
      "3           11.2              0.28         0.56             1.9      0.075   \n",
      "5            7.4              0.66         0.00             1.8      0.075   \n",
      "6            7.9              0.60         0.06             1.6      0.069   \n",
      "\n",
      "   free sulfur dioxide  total sulfur dioxide  density    pH  sulphates  \\\n",
      "1                 25.0                  67.0   0.9968  3.20       0.68   \n",
      "2                 15.0                  54.0   0.9970  3.26       0.65   \n",
      "3                 17.0                  60.0   0.9980  3.16       0.58   \n",
      "5                 13.0                  40.0   0.9978  3.51       0.56   \n",
      "6                 15.0                  59.0   0.9964  3.30       0.46   \n",
      "\n",
      "   alcohol  \n",
      "1      9.8  \n",
      "2      9.8  \n",
      "3      9.8  \n",
      "5      9.4  \n",
      "6      9.4  \n"
     ]
    }
   ],
   "source": [
    "train_x = train[features]\n",
    "train_y = train['quality']\n",
    "test_x = test[features]\n",
    "test_y = test['quality']\n",
    "print(train_x.head())"
   ]
  },
  {
   "cell_type": "code",
   "execution_count": null,
   "metadata": {},
   "outputs": [],
   "source": [
    "def entropy(arr):\n",
    "\tclassCounts = np.unique(arr, return_counts=True)[1]\n",
    "\tsampleNum = arr.shape[0]\n",
    "\tif sampleNum==0:\n",
    "\t\treturn 0\n",
    "\tp_arr = classCounts / float(sampleNum)\n",
    "\tret = -np.log(p_arr)*p_arr\n",
    "\treturn sum(ret)"
   ]
  },
  {
   "cell_type": "code",
   "execution_count": null,
   "metadata": {},
   "outputs": [],
   "source": [
    "\n",
    "\n",
    "def gini(arr):\n",
    "\tclassCounts = np.unique(arr, return_counts=True)[1]\n",
    "\tsampleNum = arr.shape[0]\n",
    "\tp_arr = classCounts / float(sampleNum)\n",
    "\tret = 1. - (p_arr**2).sum()\n",
    "\treturn ret\n",
    "\n",
    "def giniSplit(arr1, arr2):\n",
    "\tsampleNum1 = float(arr1.shape[0])\n",
    "\tsampleNum2 = float(arr2.shape[0])\n",
    "\ttotalSampleNum = sampleNum1 + sampleNum2\n",
    "#\treturn entropy(arr1) * sampleNum1 / totalSampleNum + \\\n",
    "\t#\t   entropy(arr2) * sampleNum2 / totalSampleNum\n",
    "\treturn gini(arr1) * sampleNum1 / totalSampleNum + \\\n",
    "\t\t   gini(arr2) * sampleNum2 / totalSampleNum\n",
    "\n",
    "\n",
    "minGiniSplit = np.inf\n",
    "minSplitFeature = None\n",
    "minSplitBoundary = None\n",
    "feature = train_x\n",
    "\n",
    "\n",
    "for fIdx in range(feature.shape[1]):\n",
    "\tfeatureArr = train_x[train_x.columns[fIdx]]\n",
    "\tuniqueSorted = np.unique(np.sort(featureArr))\n",
    "\tfor i in range(len(uniqueSorted)-1):\n",
    "\t\tsplitBoundary = (uniqueSorted[i] + uniqueSorted[i+1]) / 2.\n",
    "\t\tsplit1 = train_y[featureArr <= splitBoundary]\n",
    "\t\tsplit2 = train_y[featureArr > splitBoundary]\n",
    "\t\tginiSplitValue = giniSplit(split1, split2)\n",
    "\n",
    "\t\tif giniSplitValue < minGiniSplit:\n",
    "\t\t\tminGiniSplit = giniSplitValue\n",
    "\t\t\tminSplitFeature = fIdx\n",
    "\t\t\tminSplitBoundary = splitBoundary\n",
    "\n",
    "\n",
    "print 'minSplitValue:     {}'.format(minGiniSplit)\n",
    "print 'minSplitFeature:   {}'.format(train_x.columns[minSplitFeature])\n",
    "print 'minSplitBoundary:  {}'.format(minSplitBoundary)"
   ]
  }
 ],
 "metadata": {
  "kernelspec": {
   "display_name": "Python 3",
   "language": "python",
   "name": "python3"
  },
  "language_info": {
   "codemirror_mode": {
    "name": "ipython",
    "version": 3
   },
   "file_extension": ".py",
   "mimetype": "text/x-python",
   "name": "python",
   "nbconvert_exporter": "python",
   "pygments_lexer": "ipython3",
   "version": "3.6.5"
  }
 },
 "nbformat": 4,
 "nbformat_minor": 2
}
