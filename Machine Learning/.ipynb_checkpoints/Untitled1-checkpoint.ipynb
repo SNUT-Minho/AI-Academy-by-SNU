{
 "cells": [
  {
   "cell_type": "code",
   "execution_count": 3,
   "metadata": {},
   "outputs": [],
   "source": [
    "import sys\n",
    "\n",
    "#inTrFile = sys.argv[1] # Training data file\n",
    "#inTsFile = sys.argv[2] # Test data file\n",
    "inTrFile = sys.argv[1]\n"
   ]
  },
  {
   "cell_type": "code",
   "execution_count": 4,
   "metadata": {},
   "outputs": [
    {
     "ename": "FileNotFoundError",
     "evalue": "[Errno 2] No such file or directory: '-f'",
     "output_type": "error",
     "traceback": [
      "\u001b[1;31m---------------------------------------------------------------------------\u001b[0m",
      "\u001b[1;31mFileNotFoundError\u001b[0m                         Traceback (most recent call last)",
      "\u001b[1;32m<ipython-input-4-ea24f9ea3212>\u001b[0m in \u001b[0;36m<module>\u001b[1;34m()\u001b[0m\n\u001b[0;32m     18\u001b[0m \u001b[0mdctPrior\u001b[0m \u001b[1;33m=\u001b[0m \u001b[1;33m{\u001b[0m\u001b[1;33m}\u001b[0m           \u001b[1;31m# Calculate and store prior probability using the values of 'dctClassCount'\u001b[0m\u001b[1;33m\u001b[0m\u001b[0m\n\u001b[0;32m     19\u001b[0m \u001b[1;33m\u001b[0m\u001b[0m\n\u001b[1;32m---> 20\u001b[1;33m \u001b[0msInFile\u001b[0m \u001b[1;33m=\u001b[0m \u001b[0mopen\u001b[0m \u001b[1;33m(\u001b[0m \u001b[0minTrFile\u001b[0m\u001b[1;33m,\u001b[0m \u001b[1;34m'r'\u001b[0m \u001b[1;33m)\u001b[0m \u001b[1;31m# Open training data file\u001b[0m\u001b[1;33m\u001b[0m\u001b[0m\n\u001b[0m",
      "\u001b[1;31mFileNotFoundError\u001b[0m: [Errno 2] No such file or directory: '-f'"
     ]
    }
   ],
   "source": [
    "# Variables\n",
    "lstTest = []\t\t# Store test data\n",
    "#\t\t\tex) \"Sunny Cool High Strong\"\t=> [\"Sunny\", \"Cool\", \"High\", \"Strong\"]\n",
    "\n",
    "dctClassCount = {}\t# Store the count of each class\n",
    "#\t\t\tex) { 'Yes': 9, 'No': 5 } \n",
    "\n",
    "\n",
    "dctOccur = {}\t\t# Count the occurrence of each pair of feature and class\n",
    "#\t\t \tex) \"Sunny Cool ... Yes\"\n",
    "#\t\t\t    \"Sunny Mild ... Yes\"\n",
    "#\t\t\t    \"Overcast Cool ... Yes\"\n",
    "#\t\t\t    \"...\"\n",
    "#\t\t\t     => (Sunny & Yes: 2), (Cool & Yes: 2), (Mild & Yes: 1), (Overcast & Yes: 1) ...\n",
    "\n",
    "\n",
    "dctLikelihood = {}\t# Store the likelihood calculated by dividing the occurrence counts by the class counts\n",
    "dctPrior = {}\t\t# Calculate and store prior probability using the values of 'dctClassCount'\n",
    "\n",
    "sInFile = open ( inTrFile, 'r' ) # Open training data file"
   ]
  },
  {
   "cell_type": "code",
   "execution_count": null,
   "metadata": {},
   "outputs": [],
   "source": [
    "for sReadLine in sInFile.readlines():\n",
    "\tsReadLine = sReadLine.replace ( '\\n', '' )\n",
    "\tlstToken = sReadLine.split( '\\t' )\n",
    "\tfor i in range ( len (lstToken[:-1]) ):\n",
    "\t\ttry:\n",
    "\t\t\tdctOccur\t\t\t# 1) Complete this line. \n",
    "            if(dctOccur[lstToken[i]])\n",
    "\t\t\t\t\t\t\t# Count the occurrence of each feature-class pair and store in a dictionary, dctOccur.\n",
    "\t\texcept KeyError:\n",
    "\t\t\tdctOccur[lstToken[i]] = dctOccur.get ( lstToken[i], {} )\n",
    "\t\t\tdctOccur\t\t\t# 2) Complete this line by initializing 'dctOccur[key1][key2]'\n",
    "\n",
    "\ttry:\n",
    "\t\tdctClassCount\t# 3) Complete this line. Count the number of each class.\n",
    "        if(dctClassCount[lstToken[-1]]==none)\n",
    "\texcept KeyError:\n",
    "\t\tdctClassCount\t# 4) Complete this line. Initialize the variable, dctClassCount.\n",
    "\n",
    "sInFile.close()\t\t\t# Close training data file\n",
    "\n",
    "sInFile = open ( inTsFile, 'r' )\t# Open test data file\n",
    "\n",
    "for sReadLine in sInFile.readlines():\n",
    "\tsReadLine = sReadLine.replace ( '\\n', '' )\n",
    "\tlstToken = sReadLine.split ( '\\t' )\n",
    "\tlstTest.append ( lstToken )\n",
    "\n",
    "sInFile.close()\t\t\t\t# Close test data file\n",
    "\n",
    "print ( \"*** Prior ***\" )\n",
    "for label in dctClassCount.keys():\n",
    "\tdctPrior[label] = dctClassCount[label] / float ( sum ( dctClassCount.values() ) )\n",
    "\tprint ( \"P(\", label, \") = \", dctPrior[label] )\n",
    "print ( \"\\n*** Training Results ***\" )\n",
    "\n",
    "for i in dctOccur.keys():\n",
    "\tfor j in dctOccur[i].keys():\n",
    "\t\ttry:\n",
    "\t\t\tdctLikelihood[i][j] = dctOccur[i][j] / float ( dctClassCount[j] )\n",
    "\t\texcept KeyError:\n",
    "\t\t\tdctLikelihood[i] = dctLikelihood.get ( i, {} )\n",
    "\t\t\tdctLikelihood[i][j] = dctOccur[i][j] / float ( dctClassCount[j] )\n",
    "\n",
    "\t\tprint ( \"P(\", i, \"|\",j, \") = %.2f\" % dctLikelihood[i][j],  )\n",
    "\n",
    "print ( \"\\n*** Testing ***\" )\n",
    "for i in range ( len(lstTest) ):\n",
    "\tprint ( \"Test data\", i + 1, \":\" )  \n",
    "\tfor label in dctPrior.keys():\n",
    "\t\tsOutLine = \"\"\n",
    "\t\ttmp = 1\n",
    "\t\tfor j in range ( len(lstTest[i]) ):\n",
    "\t\t\ttmp *= dctLikelihood[lstTest[i][j]][label]\n",
    "\t\t\tsOutLine += \"P(\" + lstTest[i][j] + \"|\" + label + \")\"\n",
    "\t\ttmp *= dctPrior[label]\n",
    "\t\tsOutLine = \"P(\" + label + \")\" + sOutLine + \" =\"\n",
    "\t\tprint ( sOutLine, \"%.5f\" % tmp )"
   ]
  }
 ],
 "metadata": {
  "kernelspec": {
   "display_name": "Python 3",
   "language": "python",
   "name": "python3"
  },
  "language_info": {
   "codemirror_mode": {
    "name": "ipython",
    "version": 3
   },
   "file_extension": ".py",
   "mimetype": "text/x-python",
   "name": "python",
   "nbconvert_exporter": "python",
   "pygments_lexer": "ipython3",
   "version": "3.6.5"
  }
 },
 "nbformat": 4,
 "nbformat_minor": 2
}
