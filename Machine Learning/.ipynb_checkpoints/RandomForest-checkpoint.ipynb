{
 "cells": [
  {
   "cell_type": "code",
   "execution_count": 2,
   "metadata": {},
   "outputs": [
    {
     "name": "stderr",
     "output_type": "stream",
     "text": [
      "C:\\Users\\MinhoLee\\Anaconda3\\envs\\venv\\lib\\site-packages\\sklearn\\cross_validation.py:41: DeprecationWarning: This module was deprecated in version 0.18 in favor of the model_selection module into which all the refactored classes and functions are moved. Also note that the interface of the new CV iterators are different from that of this module. This module will be removed in 0.20.\n",
      "  \"This module will be removed in 0.20.\", DeprecationWarning)\n"
     ]
    }
   ],
   "source": [
    "import pandas as pd\n",
    "import numpy as np\n",
    "from sklearn import cross_validation\n",
    "from sklearn.ensemble import RandomForestClassifier\n",
    "from sklearn.metrics import accuracy_score\n",
    "import matplotlib.pyplot as plt"
   ]
  },
  {
   "cell_type": "code",
   "execution_count": 6,
   "metadata": {},
   "outputs": [],
   "source": [
    "train = pd.read_csv(\"./w4/train.csv\")"
   ]
  },
  {
   "cell_type": "code",
   "execution_count": 7,
   "metadata": {},
   "outputs": [],
   "source": [
    "features = train.columns[1:]"
   ]
  },
  {
   "cell_type": "code",
   "execution_count": 9,
   "metadata": {},
   "outputs": [],
   "source": [
    "x = train[features]\n",
    "y = train['label']\n",
    "x_train, x_test, y_train, y_test = cross_validation.train_test_split(x,y,test_size=0.1, random_state=0)"
   ]
  },
  {
   "cell_type": "code",
   "execution_count": null,
   "metadata": {},
   "outputs": [],
   "source": [
    "clf_rf = RandomForestClassifier(n_jobs=2, n_estimators=10)\n",
    "clf_rf.fit(x_train, y_train)"
   ]
  },
  {
   "cell_type": "code",
   "execution_count": null,
   "metadata": {},
   "outputs": [],
   "source": [
    "import pandas as pd\n",
    "import numpy as np\n",
    "from sklearn import cross_validation\n",
    "from sklearn.ensemble import RandomForestClassifier\n",
    "from sklearn.metrics import accuracy_score\n",
    "import matplotlib.pyplot as plt\n",
    "import csv\n",
    "\n",
    "\n",
    "#Load MNIST training data\n",
    "train = pd.read_csv(\"train.csv\")\n",
    "\n",
    "#Pre-process MNIST data and split it into train, test data sets\n",
    "features = train.columns[1:]\n",
    "X = train[features]\n",
    "y = train['label']\n",
    "X_train, X_test, y_train, y_test = cross_validation.train_test_split(X,y,test_size=0.1,random_state=0)\n",
    "\n",
    "#Train the Random Forest classifier. Fit the train data\n",
    "clf_rf = RandomForestClassifier(n_jobs=2,n_estimators=20)\n",
    "clf_rf.fit(X_train, y_train)\n",
    "\n",
    "#Predict the handwritten digits in the test data\n",
    "y_pred_rf = clf_rf.predict(X_test)\n",
    "\n",
    "#Measure accuracy of the prediction\n",
    "acc_rf = accuracy_score(y_test, y_pred_rf)\n",
    "print \"Random Forest accuracy: \",acc_rf\n",
    "\n",
    "# Now use the whole train set to predict the test set\n",
    "clf_rf = RandomForestClassifier()\n",
    "clf_rf.fit(X, y)\n",
    "#Predict the test data in 'test.csv' file\n",
    "#TestFile=\"test.csv\"\n",
    "#test=pd.read_csv(TestFile)\n",
    "TestFile=\"Drawing.csv\"#  when using your own csv data from png, use this code\n",
    "test=pd.read_csv(TestFile,header=None)\n",
    "\n",
    "\n",
    "y_pred_rf = clf_rf.predict(test)\n",
    "print y_pred_rf\n",
    "\n",
    "np.set_printoptions(linewidth=200)\n",
    "with open(TestFile, 'r') as csv_file:\n",
    "\tfor didx, data in enumerate(csv.reader(csv_file)):\n",
    "\t\tif \"pixel\" in data[0]: continue\n",
    "\n",
    "\t\t#label = data[0]\n",
    "\t\tpred_label=y_pred_rf[didx-1]\n",
    "\n",
    "\t\t# The rest of columns are pixels\n",
    "\t\tpixels = data\n",
    "\n",
    "\t\t# Make those columns into a array of 8-bits pixels\n",
    "\t\t# This array will be of 1D with length 784\n",
    "\t\t# The pixel intensity values are integers from 0 to 255\n",
    "\t\tpixels = np.array(pixels, dtype='uint8')\n",
    "\n",
    "\t\t# Reshape the array into 28 x 28 array (2-dimensional array)\n",
    "\t\tpixels = pixels.reshape((28, 28))\n",
    "\t\tprint pixels\n",
    "\n",
    "\t\t# Plot\n",
    "\t\tplt.title('Predicted as {label}'.format(label=pred_label))\n",
    "\t\tplt.imshow(pixels, cmap='gray')\n",
    "\t\tplt.show()\n"
   ]
  }
 ],
 "metadata": {
  "kernelspec": {
   "display_name": "Python 3",
   "language": "python",
   "name": "python3"
  },
  "language_info": {
   "codemirror_mode": {
    "name": "ipython",
    "version": 3
   },
   "file_extension": ".py",
   "mimetype": "text/x-python",
   "name": "python",
   "nbconvert_exporter": "python",
   "pygments_lexer": "ipython3",
   "version": "3.6.5"
  }
 },
 "nbformat": 4,
 "nbformat_minor": 2
}
