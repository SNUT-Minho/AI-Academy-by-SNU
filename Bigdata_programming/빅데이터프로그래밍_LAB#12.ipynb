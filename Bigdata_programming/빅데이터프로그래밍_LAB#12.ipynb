{
 "cells": [
  {
   "cell_type": "code",
   "execution_count": 8,
   "metadata": {},
   "outputs": [],
   "source": [
    "def forecast(weather):\n",
    "    year = weather[:4]\n",
    "    day = weather[4:8]\n",
    "    weather = weather[8:]\n",
    "    print(\"year is\", year, \",day is\", day, \",weather is\", weather)"
   ]
  },
  {
   "cell_type": "code",
   "execution_count": 9,
   "metadata": {},
   "outputs": [
    {
     "name": "stdout",
     "output_type": "stream",
     "text": [
      "year is 2017 ,day is 0622 ,weather is sunny\n"
     ]
    }
   ],
   "source": [
    "forecast(\"20170622sunny\")"
   ]
  },
  {
   "cell_type": "code",
   "execution_count": 40,
   "metadata": {},
   "outputs": [],
   "source": [
    "def isPalindrome(s):\n",
    "    r = \"\"\n",
    "    s = s.replace(\" \", \"\")\n",
    "    s = s.lower()\n",
    "    index = len(s)-1\n",
    "    for i in range(index,-1,-1):\n",
    "        r = r + s[i]\n",
    "    if(s==r):\n",
    "        print(\"True\")\n",
    "    else:\n",
    "        print(\"False\")"
   ]
  },
  {
   "cell_type": "code",
   "execution_count": 41,
   "metadata": {},
   "outputs": [
    {
     "name": "stdout",
     "output_type": "stream",
     "text": [
      "True\n"
     ]
    }
   ],
   "source": [
    "isPalindrome(\"A nut for a jar of tuna\")"
   ]
  },
  {
   "cell_type": "code",
   "execution_count": 42,
   "metadata": {},
   "outputs": [
    {
     "name": "stdout",
     "output_type": "stream",
     "text": [
      "False\n"
     ]
    }
   ],
   "source": [
    "isPalindrome(\"12343211\")"
   ]
  },
  {
   "cell_type": "code",
   "execution_count": 111,
   "metadata": {},
   "outputs": [],
   "source": [
    "def spiral(num):\n",
    "    arr = list()\n",
    "    for i in range(num):\n",
    "        line = list()\n",
    "        for i in range(num):\n",
    "            line.append(0)\n",
    "        arr.append(line)\n",
    "    arr = np.array(arr) \n",
    "    \n",
    "  \n",
    "    direction = 0  # 0 오른쪽 1 아래쪽 2 왼쪽 3 위쪽\n",
    "        \n",
    "    for i in range(0,int(num/2)):   \n",
    "        #print(arr)\n",
    "        x = i\n",
    "        y = i\n",
    "        # num - i\n",
    "        n = 0\n",
    "        for c in range((num-2*i)*4-4):\n",
    "            #print(\"X :\" , x)\n",
    "            #print(\"Y :\" , y)\n",
    "            #print(\"n :\" , n)\n",
    "            arr[x][y] = n\n",
    "            n = n + 1\n",
    "            if(direction==0):\n",
    "                y = y+1\n",
    "                if(y==(num-i)):\n",
    "                    y = y - 1\n",
    "                    x = x + 1\n",
    "                    direction = 1\n",
    "            elif(direction==1):\n",
    "                x = x + 1\n",
    "                if(x==(num-i)):\n",
    "                    x = x -1\n",
    "                    y = y -1\n",
    "                    direction = 2\n",
    "            elif(direction==2):\n",
    "                y = y -1\n",
    "                if(y==(i-1)):\n",
    "                    y = y + 1\n",
    "                    x = x -1\n",
    "                    direction = 3\n",
    "            elif(direction==3):\n",
    "                x = x - 1\n",
    "                if(x==(i)):\n",
    "                    direction = 0\n",
    "    return arr"
   ]
  },
  {
   "cell_type": "code",
   "execution_count": 116,
   "metadata": {},
   "outputs": [],
   "source": [
    "s = spiral(6)"
   ]
  },
  {
   "cell_type": "code",
   "execution_count": 117,
   "metadata": {},
   "outputs": [
    {
     "name": "stdout",
     "output_type": "stream",
     "text": [
      "[[ 0  1  2  3  4  5]\n",
      " [19  0  1  2  3  6]\n",
      " [18 11  0  1  4  7]\n",
      " [17 10  3  2  5  8]\n",
      " [16  9  8  7  6  9]\n",
      " [15 14 13 12 11 10]]\n"
     ]
    }
   ],
   "source": [
    "print(s)"
   ]
  },
  {
   "cell_type": "code",
   "execution_count": null,
   "metadata": {},
   "outputs": [],
   "source": []
  }
 ],
 "metadata": {
  "kernelspec": {
   "display_name": "Python 3",
   "language": "python",
   "name": "python3"
  },
  "language_info": {
   "codemirror_mode": {
    "name": "ipython",
    "version": 3
   },
   "file_extension": ".py",
   "mimetype": "text/x-python",
   "name": "python",
   "nbconvert_exporter": "python",
   "pygments_lexer": "ipython3",
   "version": "3.6.5"
  }
 },
 "nbformat": 4,
 "nbformat_minor": 2
}
