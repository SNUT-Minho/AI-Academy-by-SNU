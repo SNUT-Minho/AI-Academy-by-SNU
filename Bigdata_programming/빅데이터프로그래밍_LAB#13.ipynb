{
 "cells": [
  {
   "cell_type": "code",
   "execution_count": 68,
   "metadata": {},
   "outputs": [],
   "source": [
    "import numpy as np"
   ]
  },
  {
   "cell_type": "code",
   "execution_count": 129,
   "metadata": {},
   "outputs": [],
   "source": [
    "a = [[1,2,3],[4,5,6]]"
   ]
  },
  {
   "cell_type": "code",
   "execution_count": 131,
   "metadata": {},
   "outputs": [],
   "source": [
    "a = np.array(a)"
   ]
  },
  {
   "cell_type": "code",
   "execution_count": 132,
   "metadata": {},
   "outputs": [
    {
     "data": {
      "text/plain": [
       "(2, 3)"
      ]
     },
     "execution_count": 132,
     "metadata": {},
     "output_type": "execute_result"
    }
   ],
   "source": [
    "a.shape"
   ]
  },
  {
   "cell_type": "code",
   "execution_count": 70,
   "metadata": {},
   "outputs": [
    {
     "data": {
      "text/plain": [
       "(2, 3)"
      ]
     },
     "execution_count": 70,
     "metadata": {},
     "output_type": "execute_result"
    }
   ],
   "source": [
    "a.shape"
   ]
  },
  {
   "cell_type": "code",
   "execution_count": 78,
   "metadata": {},
   "outputs": [],
   "source": [
    "li = np.array(li)"
   ]
  },
  {
   "cell_type": "code",
   "execution_count": 76,
   "metadata": {},
   "outputs": [
    {
     "data": {
      "text/plain": [
       "(8,)"
      ]
     },
     "execution_count": 76,
     "metadata": {},
     "output_type": "execute_result"
    }
   ],
   "source": [
    "li.shape"
   ]
  },
  {
   "cell_type": "code",
   "execution_count": 67,
   "metadata": {},
   "outputs": [
    {
     "data": {
      "text/plain": [
       "3"
      ]
     },
     "execution_count": 67,
     "metadata": {},
     "output_type": "execute_result"
    }
   ],
   "source": [
    "li[0].shape[0]"
   ]
  },
  {
   "cell_type": "code",
   "execution_count": 116,
   "metadata": {},
   "outputs": [],
   "source": [
    "def ex1(st):\n",
    "    li = np.array([np.array(['A', 'B', 'C']),np.array(['D', 'E', 'F']),np.array(['G', 'H', 'I']),\n",
    "               np.array(['J', 'K', 'L']),np.array(['M', 'N','O']),np.array(['P','Q','R','S']),np.array(['T','U','V']),np.array(['W','X','Y','Z'])])\n",
    "    \n",
    "    sum = 0\n",
    "    for i in range(len(st)):\n",
    "        char = st[i]\n",
    "        for k in range(li.shape[0]): \n",
    "            s = li[k]\n",
    "            if char in s:\n",
    "                sum = sum + (3+k)\n",
    "    print(sum)                "
   ]
  },
  {
   "cell_type": "code",
   "execution_count": 117,
   "metadata": {},
   "outputs": [
    {
     "name": "stdout",
     "output_type": "stream",
     "text": [
      "9\n"
     ]
    }
   ],
   "source": [
    "ex1('AAA')"
   ]
  },
  {
   "cell_type": "code",
   "execution_count": 118,
   "metadata": {},
   "outputs": [
    {
     "name": "stdout",
     "output_type": "stream",
     "text": [
      "28\n"
     ]
    }
   ],
   "source": [
    "ex1('ZEBRA')"
   ]
  },
  {
   "cell_type": "code",
   "execution_count": 119,
   "metadata": {},
   "outputs": [
    {
     "name": "stdout",
     "output_type": "stream",
     "text": [
      "23\n"
     ]
    }
   ],
   "source": [
    "ex1('SOS')"
   ]
  },
  {
   "cell_type": "code",
   "execution_count": 133,
   "metadata": {},
   "outputs": [],
   "source": [
    "def ex2(st) :\n",
    "    str = ['c=','c-','dz=','d-','lj','nj','s=','z=']\n",
    "    i = 0\n",
    "    count = 0\n",
    "    while(i<len(str)):\n",
    "        flag = 0\n",
    "        s1 = st[i]+st[i+1]\n",
    "        if(i <len(st)-1 or i !=0):\n",
    "            s2 = st[i-1] + st[i] + st[i+1]\n",
    "        for j in range(len(str)) :\n",
    "            if(s1 == str[j]):\n",
    "                flag = 1\n",
    "                count += 1\n",
    "                i = i+2\n",
    "         \n",
    "                break\n",
    "            elif(s2== str[2]):\n",
    "                flag = 1\n",
    "                count += 1\n",
    "                i = i +3\n",
    "                break\n",
    "        if(flag == 0):\n",
    "          \n",
    "            count += 1\n",
    "            i = i+1\n",
    "               \n",
    "                \n",
    "    print(count+1)   "
   ]
  },
  {
   "cell_type": "code",
   "execution_count": 123,
   "metadata": {},
   "outputs": [
    {
     "name": "stdout",
     "output_type": "stream",
     "text": [
      "6\n"
     ]
    }
   ],
   "source": [
    "ex2('ljes=njak')"
   ]
  },
  {
   "cell_type": "code",
   "execution_count": 124,
   "metadata": {},
   "outputs": [
    {
     "name": "stdout",
     "output_type": "stream",
     "text": [
      "6\n"
     ]
    }
   ],
   "source": [
    "ex2('cc=d-z=ljj')"
   ]
  },
  {
   "cell_type": "code",
   "execution_count": 121,
   "metadata": {},
   "outputs": [],
   "source": [
    "def ex3(s, ptrn):\n",
    "    while(True) :\n",
    "        num = s.find(ptrn)\n",
    "        str = \"\"\n",
    "        if(num == -1) :\n",
    "            break\n",
    "        for i in range(num):\n",
    "            str = str + s[i]\n",
    "        for i in range(num+len(ptrn),len(s)):\n",
    "            str = str +s[i]\n",
    "        s= str\n",
    "    if(s==\"\") :\n",
    "        print(\"Candy Crush!\")\n",
    "    else:\n",
    "        print(s)"
   ]
  },
  {
   "cell_type": "code",
   "execution_count": 125,
   "metadata": {},
   "outputs": [
    {
     "name": "stdout",
     "output_type": "stream",
     "text": [
      "abcdabc\n"
     ]
    }
   ],
   "source": [
    "ex3('abcdF4abcFF44','F4')"
   ]
  },
  {
   "cell_type": "code",
   "execution_count": 126,
   "metadata": {},
   "outputs": [
    {
     "name": "stdout",
     "output_type": "stream",
     "text": [
      "abcd\n"
     ]
    }
   ],
   "source": [
    "ex3('F4abcd','F4')"
   ]
  },
  {
   "cell_type": "code",
   "execution_count": 127,
   "metadata": {},
   "outputs": [
    {
     "name": "stdout",
     "output_type": "stream",
     "text": [
      "abcd\n"
     ]
    }
   ],
   "source": [
    "ex3('abcdF4','F4')"
   ]
  },
  {
   "cell_type": "code",
   "execution_count": 128,
   "metadata": {},
   "outputs": [
    {
     "name": "stdout",
     "output_type": "stream",
     "text": [
      "Candy Crush!\n"
     ]
    }
   ],
   "source": [
    "ex3('F4','F4')"
   ]
  },
  {
   "cell_type": "code",
   "execution_count": null,
   "metadata": {},
   "outputs": [],
   "source": []
  }
 ],
 "metadata": {
  "kernelspec": {
   "display_name": "Python 3",
   "language": "python",
   "name": "python3"
  },
  "language_info": {
   "codemirror_mode": {
    "name": "ipython",
    "version": 3
   },
   "file_extension": ".py",
   "mimetype": "text/x-python",
   "name": "python",
   "nbconvert_exporter": "python",
   "pygments_lexer": "ipython3",
   "version": "3.6.5"
  }
 },
 "nbformat": 4,
 "nbformat_minor": 2
}
