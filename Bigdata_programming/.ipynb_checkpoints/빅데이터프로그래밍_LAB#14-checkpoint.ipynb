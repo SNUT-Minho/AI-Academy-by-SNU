{
 "cells": [
  {
   "cell_type": "code",
   "execution_count": 11,
   "metadata": {
    "scrolled": true
   },
   "outputs": [
    {
     "data": {
      "text/plain": [
       "'C:\\\\Projects\\\\keras_talk'"
      ]
     },
     "execution_count": 11,
     "metadata": {},
     "output_type": "execute_result"
    }
   ],
   "source": [
    "import os\n",
    "os.getcwd()"
   ]
  },
  {
   "cell_type": "code",
   "execution_count": 27,
   "metadata": {},
   "outputs": [
    {
     "data": {
      "text/plain": [
       "b'\\x19'"
      ]
     },
     "execution_count": 27,
     "metadata": {},
     "output_type": "execute_result"
    }
   ],
   "source": [
    "x = 25\n",
    "s = bytes(bytearray([x]))\n",
    "s"
   ]
  },
  {
   "cell_type": "code",
   "execution_count": 30,
   "metadata": {},
   "outputs": [],
   "source": [
    "import dbm"
   ]
  },
  {
   "cell_type": "code",
   "execution_count": 37,
   "metadata": {},
   "outputs": [],
   "source": [
    "def ex2():\n",
    "    db =dbm.open('mydbm2','c')\n",
    "    db[\"kr\"] = \"Korea\"\n",
    "    db[\"us\"] = \"USA\"\n",
    "    db[\"jp\"] = \"Japan\"\n",
    "    db[\"de\"] = \"Germany\"\n",
    "    db[\"hu\"] = \"Hungary\"\n",
    "    \n",
    "    \n",
    "    for i in db.keys():\n",
    "        if(i in db[i].lower()):\n",
    "            print(i , db[i])\n",
    "    "
   ]
  },
  {
   "cell_type": "code",
   "execution_count": 38,
   "metadata": {},
   "outputs": [
    {
     "name": "stdout",
     "output_type": "stream",
     "text": [
      "b'us' b'USA'\n",
      "b'hu' b'Hungary'\n"
     ]
    }
   ],
   "source": [
    "ex2()"
   ]
  },
  {
   "cell_type": "code",
   "execution_count": 16,
   "metadata": {},
   "outputs": [
    {
     "name": "stdout",
     "output_type": "stream",
     "text": [
      "[]\n"
     ]
    }
   ],
   "source": [
    "s = open('C:/Users/MinhoLee/Desktop/lab14.txt', 'r')"
   ]
  },
  {
   "cell_type": "code",
   "execution_count": 7,
   "metadata": {},
   "outputs": [],
   "source": [
    "def ex3(): \n",
    "\n",
    "    \n",
    "    m = [\n",
    "    [19],\n",
    "    [38, 57],\n",
    "    [13, 32, 51],\n",
    "    [7, 26, 45, 1],\n",
    "    [20, 39, 58, 14, 33],\n",
    "    [52, 8, 27, 46, 2, 21],\n",
    "    [40, 59, 15, 34, 53, 9, 28],\n",
    "    [47, 3, 22, 41, 60, 16, 35, 54],\n",
    "    [10, 29, 48, 4, 23, 42, 61, 17, 36],\n",
    "    [55, 11, 30, 49, 5, 24, 43, 62, 18, 37]\n",
    "    ]     \n",
    "\n",
    "    sum = 0\n",
    "    x = 0\n",
    "    for line in m:\n",
    "        if len(line)==1:\n",
    "            sum = sum + line[x]\n",
    "        else:    \n",
    "            left = line[x]\n",
    "            right = line[x+1]\n",
    "            if(right > left):\n",
    "                sum = sum + right\n",
    "                x = x+1\n",
    "            else:\n",
    "                sum = sum + left\n",
    "    print(sum)            "
   ]
  },
  {
   "cell_type": "code",
   "execution_count": 8,
   "metadata": {},
   "outputs": [
    {
     "name": "stdout",
     "output_type": "stream",
     "text": [
      "474\n"
     ]
    }
   ],
   "source": [
    "ex3()"
   ]
  },
  {
   "cell_type": "code",
   "execution_count": null,
   "metadata": {},
   "outputs": [],
   "source": []
  }
 ],
 "metadata": {
  "kernelspec": {
   "display_name": "Python 3",
   "language": "python",
   "name": "python3"
  },
  "language_info": {
   "codemirror_mode": {
    "name": "ipython",
    "version": 3
   },
   "file_extension": ".py",
   "mimetype": "text/x-python",
   "name": "python",
   "nbconvert_exporter": "python",
   "pygments_lexer": "ipython3",
   "version": "3.6.5"
  }
 },
 "nbformat": 4,
 "nbformat_minor": 2
}
