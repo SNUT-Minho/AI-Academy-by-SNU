{
 "cells": [
  {
   "cell_type": "markdown",
   "metadata": {},
   "source": [
    "# Lab 15"
   ]
  },
  {
   "cell_type": "markdown",
   "metadata": {},
   "source": [
    "## 1. numpy 패키지를 임포트"
   ]
  },
  {
   "cell_type": "code",
   "execution_count": 5,
   "metadata": {},
   "outputs": [],
   "source": [
    "import numpy as np"
   ]
  },
  {
   "cell_type": "markdown",
   "metadata": {},
   "source": [
    "## 2. 아래 ndarray를 생성\n",
    "a =\n",
    "<br>\n",
    "[20, 2, 15, 9]\n",
    "<br><br>\n",
    "b =\n",
    "<br>\n",
    "[[1, 10, 50, 100],\n",
    "<br>\n",
    "[20, 5, 30, 12]]\n",
    "<br><br>\n",
    "c =\n",
    "<br>\n",
    "[[[1,5,10,15],\n",
    "<br>\n",
    "[3, 6, 9, 12],\n",
    "<br>\n",
    "[4, 8, 12, 16]]]"
   ]
  },
  {
   "cell_type": "code",
   "execution_count": 6,
   "metadata": {},
   "outputs": [],
   "source": [
    "a = np.array([20, 2, 15, 9])\n",
    "b = np.array([[1, 10, 50, 100], [20, 5 , 30, 12]])\n",
    "c = np.array([[[1, 5, 10, 15],[3, 6, 9, 12],[4, 8, 12, 16]]])"
   ]
  },
  {
   "cell_type": "code",
   "execution_count": 7,
   "metadata": {
    "scrolled": true
   },
   "outputs": [
    {
     "data": {
      "text/plain": [
       "array([20,  2, 15,  9])"
      ]
     },
     "execution_count": 7,
     "metadata": {},
     "output_type": "execute_result"
    }
   ],
   "source": [
    "a"
   ]
  },
  {
   "cell_type": "code",
   "execution_count": 8,
   "metadata": {
    "scrolled": true
   },
   "outputs": [
    {
     "data": {
      "text/plain": [
       "array([[  1,  10,  50, 100],\n",
       "       [ 20,   5,  30,  12]])"
      ]
     },
     "execution_count": 8,
     "metadata": {},
     "output_type": "execute_result"
    }
   ],
   "source": [
    "b"
   ]
  },
  {
   "cell_type": "code",
   "execution_count": 9,
   "metadata": {},
   "outputs": [
    {
     "data": {
      "text/plain": [
       "array([[[ 1,  5, 10, 15],\n",
       "        [ 3,  6,  9, 12],\n",
       "        [ 4,  8, 12, 16]]])"
      ]
     },
     "execution_count": 9,
     "metadata": {},
     "output_type": "execute_result"
    }
   ],
   "source": [
    "c"
   ]
  },
  {
   "cell_type": "markdown",
   "metadata": {},
   "source": [
    "## 3. 위에서 만든 ndarray의 ndim과 shape를 각각 출력"
   ]
  },
  {
   "cell_type": "code",
   "execution_count": 10,
   "metadata": {},
   "outputs": [
    {
     "name": "stdout",
     "output_type": "stream",
     "text": [
      "1\n",
      "(4,)\n",
      "2\n",
      "(2, 4)\n",
      "3\n",
      "(1, 3, 4)\n"
     ]
    }
   ],
   "source": [
    "print(a.ndim)\n",
    "print(a.shape)\n",
    "print(b.ndim)\n",
    "print(b.shape)\n",
    "print(c.ndim)\n",
    "print(c.shape)"
   ]
  },
  {
   "cell_type": "markdown",
   "metadata": {},
   "source": [
    "2\n",
    "<br>\n",
    "(4, 4)\n",
    "<br>\n",
    "2\n",
    "<br>\n",
    "(2, 4)\n",
    "<br>\n",
    "3\n",
    "<br>\n",
    "(1, 3, 4)"
   ]
  },
  {
   "cell_type": "markdown",
   "metadata": {},
   "source": [
    "## 4. 크기 10인 널벡터를 생성 (단, 두 번째 요소의 값은 30)"
   ]
  },
  {
   "cell_type": "code",
   "execution_count": 15,
   "metadata": {},
   "outputs": [
    {
     "data": {
      "text/plain": [
       "array([ 0., 30.,  0.,  0.,  0.,  0.,  0.,  0.,  0.,  0.])"
      ]
     },
     "execution_count": 15,
     "metadata": {},
     "output_type": "execute_result"
    }
   ],
   "source": [
    "n = np.zeros(10)\n",
    "n[1] = 30\n",
    "n"
   ]
  },
  {
   "cell_type": "markdown",
   "metadata": {},
   "source": [
    "[ 0. 30.  0.  0.  0.  0.  0.  0.  0.  0.]"
   ]
  },
  {
   "cell_type": "markdown",
   "metadata": {},
   "source": [
    "## 5. 값이 3부터 49인 벡터 생성 "
   ]
  },
  {
   "cell_type": "code",
   "execution_count": 18,
   "metadata": {
    "scrolled": true
   },
   "outputs": [
    {
     "data": {
      "text/plain": [
       "array([ 3,  4,  5,  6,  7,  8,  9, 10, 11, 12, 13, 14, 15, 16, 17, 18, 19,\n",
       "       20, 21, 22, 23, 24, 25, 26, 27, 28, 29, 30, 31, 32, 33, 34, 35, 36,\n",
       "       37, 38, 39, 40, 41, 42, 43, 44, 45, 46, 47, 48, 49])"
      ]
     },
     "execution_count": 18,
     "metadata": {},
     "output_type": "execute_result"
    }
   ],
   "source": [
    "n = np.arange(3,50)\n",
    "n"
   ]
  },
  {
   "cell_type": "markdown",
   "metadata": {},
   "source": [
    "[ 3  4  5  6  7  8  9 10 11 12 13 14 15 16 17 18 19 20 21 22 23 24 25 26\n",
    " 27 28 29 30 31 32 33 34 35 36 37 38 39 40 41 42 43 44 45 46 47 48 49]"
   ]
  },
  {
   "cell_type": "markdown",
   "metadata": {},
   "source": [
    "## 6. 값이 0부터 15인 4x4 매트릭스 생성"
   ]
  },
  {
   "cell_type": "code",
   "execution_count": 22,
   "metadata": {
    "scrolled": false
   },
   "outputs": [
    {
     "data": {
      "text/plain": [
       "array([[ 0,  1,  2,  3],\n",
       "       [ 4,  5,  6,  7],\n",
       "       [ 8,  9, 10, 11],\n",
       "       [12, 13, 14, 15]])"
      ]
     },
     "execution_count": 22,
     "metadata": {},
     "output_type": "execute_result"
    }
   ],
   "source": [
    "n = np.arange(0,16)\n",
    "np.reshape(n,(4,4))"
   ]
  },
  {
   "cell_type": "markdown",
   "metadata": {},
   "source": [
    "[[ 0  1  2  3]<br>\n",
    " [ 4  5  6  7]<br>\n",
    " [ 8  9 10 11]<br>\n",
    " [12 13 14 15]]"
   ]
  },
  {
   "cell_type": "markdown",
   "metadata": {},
   "source": [
    "## 7. 'titanic.csv' 파일을 읽어서 data 변수에 저장"
   ]
  },
  {
   "cell_type": "code",
   "execution_count": 74,
   "metadata": {
    "scrolled": true
   },
   "outputs": [],
   "source": [
    "data = np.loadtxt('./titanic.csv',delimiter=',',skiprows=1)"
   ]
  },
  {
   "cell_type": "code",
   "execution_count": 75,
   "metadata": {},
   "outputs": [
    {
     "data": {
      "text/plain": [
       "array([[ 0.    , 40.    , 27.7208,  1.    ,  0.    ,  0.    ,  1.    ,\n",
       "         0.    ,  0.    ,  1.    ,  0.    ,  0.    ,  0.    ],\n",
       "       [ 1.    ,  4.    , 16.7   ,  0.    ,  0.    ,  1.    ,  0.    ,\n",
       "         1.    ,  0.    ,  0.    ,  1.    ,  1.    ,  1.    ],\n",
       "       [ 0.    , 47.    ,  9.    ,  0.    ,  0.    ,  1.    ,  0.    ,\n",
       "         1.    ,  0.    ,  1.    ,  0.    ,  0.    ,  0.    ],\n",
       "       [ 0.    ,  9.    , 31.3875,  0.    ,  0.    ,  1.    ,  0.    ,\n",
       "         1.    ,  0.    ,  1.    ,  0.    ,  2.    ,  4.    ],\n",
       "       [ 0.    , 20.    ,  9.8458,  0.    ,  0.    ,  1.    ,  0.    ,\n",
       "         1.    ,  0.    ,  1.    ,  0.    ,  0.    ,  0.    ]])"
      ]
     },
     "execution_count": 75,
     "metadata": {},
     "output_type": "execute_result"
    }
   ],
   "source": [
    "data[:5]"
   ]
  },
  {
   "cell_type": "code",
   "execution_count": 46,
   "metadata": {
    "scrolled": false
   },
   "outputs": [
    {
     "name": "stdout",
     "output_type": "stream",
     "text": [
      "[[ 0.     40.     27.7208  1.      0.      0.      1.      0.      0.\n",
      "   1.      0.      0.      0.    ]\n",
      " [ 1.      4.     16.7     0.      0.      1.      0.      1.      0.\n",
      "   0.      1.      1.      1.    ]\n",
      " [ 0.     47.      9.      0.      0.      1.      0.      1.      0.\n",
      "   1.      0.      0.      0.    ]\n",
      " [ 0.      9.     31.3875  0.      0.      1.      0.      1.      0.\n",
      "   1.      0.      2.      4.    ]\n",
      " [ 0.     20.      9.8458  0.      0.      1.      0.      1.      0.\n",
      "   1.      0.      0.      0.    ]]\n"
     ]
    }
   ],
   "source": [
    "'''\n",
    "file = open('./titanic.csv', 'r')\n",
    "data = [ line[:-1].split(',') for line in file.readlines()]\n",
    "data = data[1:]\n",
    "data = np.array(data, dtype='float64')\n",
    "print(data[:5])\n",
    "'''"
   ]
  },
  {
   "cell_type": "markdown",
   "metadata": {},
   "source": [
    "[[  0.      40.      27.7208 ...   0.       0.       0.    ]<br>\n",
    " [  1.       4.      16.7    ...   1.       1.       1.    ]<br>\n",
    " [  0.      47.       9.     ...   0.       0.       0.    ]<br>\n",
    " ...<br>\n",
    " [  0.      71.      49.5042 ...   0.       0.       0.    ]<br>\n",
    " [  0.      28.     221.7792 ...   0.       0.       0.    ]<br>\n",
    " [  0.      28.      25.925  ...   0.       0.       0.    ]]"
   ]
  },
  {
   "cell_type": "markdown",
   "metadata": {},
   "source": [
    "## 8. 사망자와 생존사의 수를 출력"
   ]
  },
  {
   "cell_type": "code",
   "execution_count": 50,
   "metadata": {
    "scrolled": true
   },
   "outputs": [
    {
     "name": "stdout",
     "output_type": "stream",
     "text": [
      "Survivied: 263\n",
      "Not Survived :  449\n"
     ]
    }
   ],
   "source": [
    "total = data.shape[0]\n",
    "print(\"Survivied:\" , int(np.sum(data[:,0])))\n",
    "print(\"Not Survived : \" ,total-  int(np.sum(data[:,0])))"
   ]
  },
  {
   "cell_type": "markdown",
   "metadata": {},
   "source": [
    "Survived: 449<br>\n",
    "Not Survived: 263"
   ]
  },
  {
   "cell_type": "markdown",
   "metadata": {},
   "source": [
    "## 9. 평균 운임을 출력"
   ]
  },
  {
   "cell_type": "code",
   "execution_count": 51,
   "metadata": {},
   "outputs": [
    {
     "data": {
      "text/plain": [
       "32.28905603932584"
      ]
     },
     "execution_count": 51,
     "metadata": {},
     "output_type": "execute_result"
    }
   ],
   "source": [
    "np.mean(data[:,2])"
   ]
  },
  {
   "cell_type": "markdown",
   "metadata": {},
   "source": [
    "Average Fare: 32.28905603932584"
   ]
  },
  {
   "cell_type": "markdown",
   "metadata": {},
   "source": [
    "## 10. 남성의 생존 확률과 여성의 생존 확률을 출력"
   ]
  },
  {
   "cell_type": "code",
   "execution_count": 55,
   "metadata": {},
   "outputs": [
    {
     "data": {
      "text/plain": [
       "253.0"
      ]
     },
     "execution_count": 55,
     "metadata": {},
     "output_type": "execute_result"
    }
   ],
   "source": [
    "maleCount = np.sum(data[:,9])\n",
    "femaleCount = np.sum(data[:,10])"
   ]
  },
  {
   "cell_type": "code",
   "execution_count": 62,
   "metadata": {},
   "outputs": [],
   "source": [
    "maleSurvived =np.dot(data[:,0],data[:,9])\n",
    "femaleSurvived = np.dot(data[:,0],data[:,10])"
   ]
  },
  {
   "cell_type": "code",
   "execution_count": 64,
   "metadata": {},
   "outputs": [
    {
     "name": "stdout",
     "output_type": "stream",
     "text": [
      "male:  0.1721132897603486\n",
      "male:  0.7272727272727273\n"
     ]
    }
   ],
   "source": [
    "print(\"male: \", maleSurvived/maleCount)\n",
    "print(\"male: \", femaleSurvived/femaleCount)"
   ]
  },
  {
   "cell_type": "markdown",
   "metadata": {},
   "source": [
    "male: 0.17248908296943233<br>\n",
    "female: 0.7272727272727273"
   ]
  },
  {
   "cell_type": "markdown",
   "metadata": {},
   "source": [
    "## 11. pClass 별 생존 확률을 출력"
   ]
  },
  {
   "cell_type": "code",
   "execution_count": 69,
   "metadata": {},
   "outputs": [],
   "source": [
    "PC1Count = np.sum(data[:,3])\n",
    "PC2Count = np.sum(data[:,4])\n",
    "PC3Count = np.sum(data[:,5])"
   ]
  },
  {
   "cell_type": "code",
   "execution_count": 70,
   "metadata": {},
   "outputs": [],
   "source": [
    "PC1Survived =np.dot(data[:,0],data[:,3])\n",
    "PC2Survived = np.dot(data[:,0],data[:,4])\n",
    "PC3Survived = np.dot(data[:,0],data[:,5])"
   ]
  },
  {
   "cell_type": "code",
   "execution_count": 71,
   "metadata": {},
   "outputs": [
    {
     "name": "stdout",
     "output_type": "stream",
     "text": [
      "PC1:  0.6057142857142858\n",
      "PC2:  0.4527027027027027\n",
      "PC3:  0.23136246786632392\n"
     ]
    }
   ],
   "source": [
    "print(\"PC1: \", PC1Survived/PC1Count)\n",
    "print(\"PC2: \", PC2Survived/PC2Count)\n",
    "print(\"PC3: \", PC3Survived/PC3Count)"
   ]
  },
  {
   "cell_type": "markdown",
   "metadata": {},
   "source": [
    "PC1: 0.6091954022988506<br>\n",
    "PC2: 0.4527027027027027<br>\n",
    "PC3: 0.23136246786632392"
   ]
  }
 ],
 "metadata": {
  "kernelspec": {
   "display_name": "Python 3",
   "language": "python",
   "name": "python3"
  },
  "language_info": {
   "codemirror_mode": {
    "name": "ipython",
    "version": 3
   },
   "file_extension": ".py",
   "mimetype": "text/x-python",
   "name": "python",
   "nbconvert_exporter": "python",
   "pygments_lexer": "ipython3",
   "version": "3.6.5"
  }
 },
 "nbformat": 4,
 "nbformat_minor": 2
}
