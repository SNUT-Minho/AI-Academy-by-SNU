{
 "cells": [
  {
   "cell_type": "code",
   "execution_count": 2,
   "metadata": {},
   "outputs": [],
   "source": [
    "import re\n",
    "import glob\n",
    "from nltk.tokenize import *\n",
    "from collections import defaultdict"
   ]
  },
  {
   "cell_type": "code",
   "execution_count": 40,
   "metadata": {},
   "outputs": [],
   "source": [
    "# 전달받은 list의 key값들을 count해서 distribution으로 만든다\n",
    "def freq_dict(gram_list):\n",
    "    d = defaultdict(lambda:0)\n",
    "    for gram in gram_list:\n",
    "        d[gram] += 1\n",
    "    return d    "
   ]
  },
  {
   "cell_type": "code",
   "execution_count": 51,
   "metadata": {},
   "outputs": [],
   "source": [
    "# Simple prob를 계산한다\n",
    "def simple_prob_sent(sent, bigram_count, bigram_freq):\n",
    "    source = zip(sent[:-1],sent[1:])\n",
    "    res = 1\n",
    "    for bigram in source:\n",
    "        simple_prob = (bigram_freq[bigram] + 1)/(bigram_count + len(bigram_freq))\n",
    "        res *= simple_prob\n",
    "    return res    "
   ]
  },
  {
   "cell_type": "code",
   "execution_count": 67,
   "metadata": {},
   "outputs": [],
   "source": [
    "# MLE prob를 계산한다.\n",
    "def MLE_prob_sent(sent, unigram_freq, bigram_freq):\n",
    "    source = zip(sent[:-1], sent[1:])\n",
    "    res = 1 \n",
    "    for bigram in source:\n",
    "        MLE_prob = (bigram_freq[bigram] + 1)/(unigram_freq[bigram[0]] + len(unigram_freq))\n",
    "        res *= MLE_prob\n",
    "    return res    "
   ]
  },
  {
   "cell_type": "code",
   "execution_count": 31,
   "metadata": {},
   "outputs": [],
   "source": [
    "# BROWN1_A1 코퍼스를 이용해서 unigram과 bigram을 생성한다.\n",
    "# bigram 생성시에는 zip을 이용한다.\n",
    "corpus = ''\n",
    "s = open('./brown/BROWN1_A1.txt', newline = '\\n').read()\n",
    "corpus = ''.join('^ ' + s + ' $' for s in sent_tokenize(s))\n",
    "unigrams = [re.sub('[_~\\*,]','',word) for word in word_tokenize(corpus) if re.search(r'[\\w\\^\\$]+', word)]\n",
    "bigrams = [pair for pair in zip(unigrams[:-1], unigrams[1:]) if pair != ('^','$')]"
   ]
  },
  {
   "cell_type": "code",
   "execution_count": 59,
   "metadata": {},
   "outputs": [],
   "source": [
    "# Target으로 사용할 sentence를 지정한다.\n",
    "target = '^ I think I will get the best score in the class $'\n",
    "target = target.split()"
   ]
  },
  {
   "cell_type": "code",
   "execution_count": 73,
   "metadata": {},
   "outputs": [],
   "source": [
    "# Unigram freq를 만든다\n",
    "unigram_freq = freq_dict(unigrams)"
   ]
  },
  {
   "cell_type": "code",
   "execution_count": 74,
   "metadata": {},
   "outputs": [],
   "source": [
    "# Bigram freq를 만든다\n",
    "bigram_freq = freq_dict(bigrams)"
   ]
  },
  {
   "cell_type": "code",
   "execution_count": 75,
   "metadata": {},
   "outputs": [
    {
     "name": "stdout",
     "output_type": "stream",
     "text": [
      "simple bigram probability of this sentence:  1.2431067408268148e-50\n"
     ]
    }
   ],
   "source": [
    "# Simple prob 결과값 출력\n",
    "print('simple bigram probability of this sentence: ', simple_prob_sent(target,len(bigram_freq),bigram_freq))"
   ]
  },
  {
   "cell_type": "code",
   "execution_count": 76,
   "metadata": {},
   "outputs": [
    {
     "name": "stdout",
     "output_type": "stream",
     "text": [
      "MLE bigram probability of this sentence:  5.879198782511026e-40\n"
     ]
    }
   ],
   "source": [
    "# MLE prob 결과값 출력\n",
    "print('MLE bigram probability of this sentence: ', MLE_prob_sent(target,unigram_freq,bigram_freq))"
   ]
  }
 ],
 "metadata": {
  "kernelspec": {
   "display_name": "Python 3",
   "language": "python",
   "name": "python3"
  },
  "language_info": {
   "codemirror_mode": {
    "name": "ipython",
    "version": 3
   },
   "file_extension": ".py",
   "mimetype": "text/x-python",
   "name": "python",
   "nbconvert_exporter": "python",
   "pygments_lexer": "ipython3",
   "version": "3.6.5"
  }
 },
 "nbformat": 4,
 "nbformat_minor": 2
}
