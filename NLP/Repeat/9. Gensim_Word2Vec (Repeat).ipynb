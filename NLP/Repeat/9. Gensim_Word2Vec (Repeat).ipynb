{
 "cells": [
  {
   "cell_type": "markdown",
   "metadata": {},
   "source": [
    "## How to Develop Word Embeddings in Python with Gensim\n",
    "\n",
    "https://machinelearningmastery.com/develop-word-embeddings-python-gensim/"
   ]
  },
  {
   "cell_type": "code",
   "execution_count": 2,
   "metadata": {},
   "outputs": [
    {
     "name": "stderr",
     "output_type": "stream",
     "text": [
      "C:\\Users\\MinhoLee\\Anaconda3\\envs\\venv\\lib\\site-packages\\gensim\\utils.py:1209: UserWarning: detected Windows; aliasing chunkize to chunkize_serial\n",
      "  warnings.warn(\"detected Windows; aliasing chunkize to chunkize_serial\")\n"
     ]
    }
   ],
   "source": [
    "from gensim.models import Word2Vec"
   ]
  },
  {
   "cell_type": "code",
   "execution_count": 3,
   "metadata": {},
   "outputs": [],
   "source": [
    "# 모델에 들어갈 training data 만들기\n",
    "sentences = [['once', 'upon', 'a', 'time', 'there', 'was', 'an', 'old', 'sow', 'with', 'three', 'little', 'pig'],\n",
    "             ['the', 'first', 'that', 'went', 'off', 'met', 'a', 'man', 'with', 'a', 'bundle', 'of', 'straw'],\n",
    "             ['the', 'second', 'pig', 'met', 'a', 'man', 'with', 'a', 'bundle', 'of', 'furze'],\n",
    "             ['the', 'third', 'little', 'pig', 'met', 'a', 'men', 'with', 'a', 'load', 'of', 'bricks']]\n",
    "\n",
    "# 모델 학습시키기\n",
    "model = Word2Vec(sentences, min_count=1) \n",
    "# size: (default 100) The number of dimensions of the embedding, e.g. the length of the dense vector to represent each token (word)."
   ]
  },
  {
   "cell_type": "code",
   "execution_count": 5,
   "metadata": {},
   "outputs": [
    {
     "name": "stdout",
     "output_type": "stream",
     "text": [
      "Word2Vec(vocab=29, size=100, alpha=0.025)\n"
     ]
    }
   ],
   "source": [
    "# 학습된 모델 확인하기\n",
    "print(model) #Word2Vec Object"
   ]
  },
  {
   "cell_type": "code",
   "execution_count": 19,
   "metadata": {},
   "outputs": [
    {
     "name": "stdout",
     "output_type": "stream",
     "text": [
      "['once', 'upon', 'a', 'time', 'there', 'was', 'an', 'old', 'sow', 'with', 'three', 'little', 'pig', 'the', 'first', 'that', 'went', 'off', 'met', 'man', 'bundle', 'of', 'straw', 'second', 'furze', 'third', 'men', 'load', 'bricks']\n"
     ]
    }
   ],
   "source": [
    "# 모델에 구축된 vocabulary 확인하기\n",
    "words = list(model.wv.vocab)\n",
    "print(words)"
   ]
  },
  {
   "cell_type": "code",
   "execution_count": 20,
   "metadata": {},
   "outputs": [
    {
     "name": "stdout",
     "output_type": "stream",
     "text": [
      "[-3.5005081e-03 -2.0400407e-03 -2.8942220e-03  1.0099463e-03\n",
      "  1.7477629e-03 -1.5886693e-03 -3.7007597e-03 -4.8326273e-03\n",
      " -1.3613992e-03  2.8600667e-03 -1.8359156e-03 -1.1294035e-03\n",
      "  3.2451446e-03 -1.1254676e-03 -3.8663070e-03  2.2014284e-04\n",
      "  4.0546171e-03 -1.9128283e-03 -7.3113898e-04  2.4573054e-04\n",
      "  4.9430679e-04  2.4564411e-03 -2.2246335e-03 -2.3726923e-03\n",
      "  3.8744056e-05  4.2194766e-03  3.7053782e-03 -3.4633642e-03\n",
      "  2.8408010e-04 -5.7875662e-04  3.2233351e-03 -2.3878051e-03\n",
      " -2.6265152e-03 -2.0940963e-03 -2.4662560e-03 -3.6714226e-03\n",
      " -2.6851571e-03 -3.6745183e-03  8.6990016e-04  1.2350564e-03\n",
      " -3.2596351e-04 -4.7890386e-03  2.7507828e-03 -2.3284070e-03\n",
      " -3.9554890e-03  2.1132161e-03  6.1944313e-04 -2.5757928e-03\n",
      "  4.5542680e-03  2.3555993e-03  1.3658043e-03  1.1087260e-03\n",
      " -9.9666082e-05  2.2766849e-03  3.2464464e-03  3.3153142e-03\n",
      "  4.8416257e-03  3.4512754e-04  1.3875354e-03  5.5277906e-04\n",
      "  3.3918140e-03 -3.5094228e-03  8.5786899e-04 -2.5881024e-04\n",
      "  3.0659600e-03 -4.2840922e-03 -4.9941000e-03 -1.9819650e-03\n",
      "  4.4224676e-04  2.5006526e-03 -1.7433397e-03 -1.4268477e-03\n",
      " -4.4753496e-03 -3.9975322e-03 -2.6424157e-03  1.5785599e-03\n",
      "  4.2374893e-03  3.6545075e-03 -4.3077534e-03  3.9946069e-03\n",
      "  1.3557577e-03 -1.8949780e-03 -3.2804764e-03 -4.4209696e-03\n",
      " -1.5144573e-03  3.6885568e-03  4.2527239e-03 -3.7887346e-03\n",
      " -1.4946442e-03  2.5647266e-03 -2.9443977e-03  1.1903642e-03\n",
      "  2.1561142e-03 -4.2161535e-04 -4.8805829e-03 -3.4963810e-03\n",
      "  3.6668053e-03 -2.0599857e-03 -2.5246388e-03  3.4147575e-03]\n"
     ]
    },
    {
     "name": "stderr",
     "output_type": "stream",
     "text": [
      "C:\\Users\\MinhoLee\\Anaconda3\\envs\\venv\\lib\\site-packages\\ipykernel_launcher.py:2: DeprecationWarning: Call to deprecated `__getitem__` (Method will be removed in 4.0.0, use self.wv.__getitem__() instead).\n",
      "  \n"
     ]
    }
   ],
   "source": [
    "# 단어 하나하나에 대한 임베딩 벡터 확인\n",
    "print(model['pig'])"
   ]
  },
  {
   "cell_type": "code",
   "execution_count": 21,
   "metadata": {},
   "outputs": [
    {
     "name": "stdout",
     "output_type": "stream",
     "text": [
      "[ 8.76727165e-04 -2.86451168e-03 -1.32564048e-03  2.14483752e-03\n",
      " -2.66182330e-03  6.56392134e-04 -2.05472950e-03  9.88974120e-04\n",
      "  4.63046134e-03  3.82269057e-03 -4.26461268e-03  1.85093714e-03\n",
      " -2.74224649e-03 -3.30907525e-03 -2.03896966e-03  1.92426192e-03\n",
      " -4.33079991e-03 -3.32756061e-03  6.95031544e-04  4.68026521e-03\n",
      "  2.89415941e-03  1.05277891e-03  9.23939398e-04  1.48765976e-03\n",
      "  2.96139694e-03  2.38858862e-03  4.01987974e-03 -4.87840734e-03\n",
      "  1.33192062e-03 -1.38803211e-04 -6.15856028e-04  2.19272496e-03\n",
      " -1.18004601e-03 -1.87535610e-04  4.30092448e-03  3.17750196e-03\n",
      "  2.61653401e-03  1.47749193e-03 -2.49998877e-03 -2.37935106e-03\n",
      "  4.72504133e-03  1.74679770e-03  4.53051925e-03  7.35969399e-04\n",
      " -1.53174193e-03 -3.85871134e-03  3.80691397e-03  4.93228389e-03\n",
      " -4.68838634e-03  4.34720051e-03 -1.48108101e-03  2.80081783e-03\n",
      " -4.35253093e-03 -4.89137694e-03 -2.99365446e-03 -4.86954302e-03\n",
      "  3.92218237e-04 -1.10053064e-04  1.37684203e-03  4.45951801e-03\n",
      "  4.50217538e-03 -4.47716145e-03  1.00380008e-03  4.85824385e-05\n",
      "  4.69394028e-03  1.71685137e-03 -1.54520420e-03  2.95997830e-03\n",
      " -7.03420956e-05  4.20615030e-03  3.33118788e-03 -4.14558034e-03\n",
      " -3.84517061e-03 -2.35664356e-03 -4.65492019e-03 -1.34498987e-03\n",
      "  2.46950076e-03 -1.36722100e-03  4.67549870e-03  3.12549504e-03\n",
      "  1.78064907e-03 -1.99916726e-03  4.24216595e-03  4.07327013e-03\n",
      "  2.46139290e-03  3.16554471e-03  5.81379863e-05  1.70178234e-03\n",
      "  4.97895712e-03  4.41024639e-03  2.90280231e-03  8.26982548e-04\n",
      " -1.81309914e-03  4.83696815e-03 -2.78319488e-03 -2.31931196e-03\n",
      " -1.15576200e-03  2.83870706e-03  1.41593104e-03  1.31239722e-04]\n"
     ]
    },
    {
     "name": "stderr",
     "output_type": "stream",
     "text": [
      "C:\\Users\\MinhoLee\\Anaconda3\\envs\\venv\\lib\\site-packages\\ipykernel_launcher.py:1: DeprecationWarning: Call to deprecated `__getitem__` (Method will be removed in 4.0.0, use self.wv.__getitem__() instead).\n",
      "  \"\"\"Entry point for launching an IPython kernel.\n"
     ]
    }
   ],
   "source": [
    "print(model['little'])"
   ]
  },
  {
   "cell_type": "code",
   "execution_count": 22,
   "metadata": {},
   "outputs": [],
   "source": [
    "# 별도의 파일로 모델 저장하기\n",
    "model.save('model.bin')"
   ]
  },
  {
   "cell_type": "code",
   "execution_count": 23,
   "metadata": {},
   "outputs": [
    {
     "name": "stdout",
     "output_type": "stream",
     "text": [
      "Word2Vec(vocab=29, size=100, alpha=0.025)\n"
     ]
    }
   ],
   "source": [
    "# 저장해 둔 모델 불러오기\n",
    "new_model = Word2Vec.load('model.bin')\n",
    "print(new_model)"
   ]
  },
  {
   "cell_type": "markdown",
   "metadata": {},
   "source": [
    "---------"
   ]
  },
  {
   "cell_type": "markdown",
   "metadata": {},
   "source": [
    "#### 단어 임베딩 시각화"
   ]
  },
  {
   "cell_type": "code",
   "execution_count": 24,
   "metadata": {},
   "outputs": [],
   "source": [
    "# PCA를 이용하여 단어 벡터를 시각화\n",
    "# PCA는 고차원의 단어 벡터를 2차원으로 줄여 시각화할 수 있는 형태로 만들어 줌 \n",
    "from sklearn.decomposition import PCA\n",
    "from matplotlib import pyplot"
   ]
  },
  {
   "cell_type": "code",
   "execution_count": 8,
   "metadata": {},
   "outputs": [
    {
     "name": "stdout",
     "output_type": "stream",
     "text": [
      "[[-1.8360581e-03 -4.6861558e-03 -3.3080417e-03 ... -2.6076476e-03\n",
      "  -1.7446074e-04  4.4506001e-03]\n",
      " [ 5.8116147e-04  1.6432591e-03  3.2392025e-03 ...  2.0255605e-03\n",
      "   5.6127441e-04  2.6462825e-03]\n",
      " [-4.2468235e-03  6.6000583e-05  2.3307488e-03 ... -3.2070316e-03\n",
      "  -1.7373278e-03  3.5695815e-03]\n",
      " ...\n",
      " [ 3.5770775e-03  4.4279667e-03 -3.7601106e-03 ... -3.4629623e-03\n",
      "   1.6412913e-03 -3.9125630e-03]\n",
      " [-4.9410933e-03  1.0763302e-03 -3.5368653e-03 ...  1.8754032e-04\n",
      "  -4.9472600e-03 -1.2476660e-03]\n",
      " [ 3.5625147e-03 -3.0978057e-03  4.0324023e-03 ...  3.8551076e-03\n",
      "   1.3279247e-03 -4.6373229e-03]]\n",
      "(29, 100)\n"
     ]
    },
    {
     "name": "stderr",
     "output_type": "stream",
     "text": [
      "C:\\Users\\MinhoLee\\Anaconda3\\envs\\venv\\lib\\site-packages\\ipykernel_launcher.py:3: DeprecationWarning: Call to deprecated `__getitem__` (Method will be removed in 4.0.0, use self.wv.__getitem__() instead).\n",
      "  This is separate from the ipykernel package so we can avoid doing imports until\n"
     ]
    }
   ],
   "source": [
    "# 방금 학습된 word2vec 모델\n",
    "# vocabulary에 들어 있는 단어 각각에 대해 100차원의 벡터가 생성되어 있음\n",
    "X = model[model.wv.vocab]\n",
    "print(X)\n",
    "print(X.shape)"
   ]
  },
  {
   "cell_type": "code",
   "execution_count": 26,
   "metadata": {},
   "outputs": [
    {
     "name": "stdout",
     "output_type": "stream",
     "text": [
      "[[ 0.00827098  0.00133513]\n",
      " [ 0.00200388  0.00608534]\n",
      " [ 0.00029145 -0.00037473]\n",
      " [-0.00441963 -0.00547941]\n",
      " [-0.01082745 -0.0104426 ]\n",
      " [-0.0002522   0.00973516]\n",
      " [ 0.00587795  0.00092504]\n",
      " [-0.00206337  0.00312033]\n",
      " [-0.00061246  0.0164861 ]\n",
      " [ 0.00271508  0.00485607]\n",
      " [-0.01014901 -0.00516151]\n",
      " [ 0.00399467  0.00552411]\n",
      " [ 0.00306293 -0.00546366]\n",
      " [ 0.01677958 -0.00854141]\n",
      " [ 0.00024535  0.01873367]\n",
      " [-0.00232511 -0.01092738]\n",
      " [-0.00550766 -0.00513872]\n",
      " [ 0.01205243 -0.00099623]\n",
      " [ 0.00743011 -0.00987789]\n",
      " [ 0.00499825 -0.0018441 ]\n",
      " [ 0.00705999  0.00958696]\n",
      " [-0.01012895  0.00226425]\n",
      " [-0.01402754  0.00011186]\n",
      " [ 0.00453508  0.00095792]\n",
      " [-0.01449549  0.00335793]\n",
      " [ 0.00651218 -0.01262231]\n",
      " [-0.004009    0.00185204]\n",
      " [-0.00978938 -0.00597122]\n",
      " [ 0.00277731 -0.00209075]]\n"
     ]
    }
   ],
   "source": [
    "# 이 벡터(여기서는 30x100)에 2차원 PCA 모델을 적용시켜 2차원으로 바꾸어 줌\n",
    "pca = PCA(n_components=2)\n",
    "result = pca.fit_transform(X)\n",
    "print(result)"
   ]
  },
  {
   "cell_type": "code",
   "execution_count": 12,
   "metadata": {},
   "outputs": [
    {
     "data": {
      "image/png": "[encoded data removed]",
      "text/plain": [
       "<Figure size 432x288 with 1 Axes>"
      ]
     },
     "metadata": {},
     "output_type": "display_data"
    }
   ],
   "source": [
    "# 2차원 프로젝션 결과를 산점도에 그릴 수 있음\n",
    "# 각 단어는 모델에서 학습한 의미에 따라 적절한 위치에 그려지게 됨\n",
    "pyplot.scatter(result[:, 0], result[:, 1])\n",
    "words = list(model.wv.vocab)\n",
    "for i, word in enumerate(words):\n",
    "    pyplot.annotate(word, xy=(result[i, 0], result[i, 1]))\n",
    "pyplot.show()"
   ]
  },
  {
   "cell_type": "code",
   "execution_count": null,
   "metadata": {},
   "outputs": [],
   "source": []
  }
 ],
 "metadata": {
  "kernelspec": {
   "display_name": "Python 3",
   "language": "python",
   "name": "python3"
  },
  "language_info": {
   "codemirror_mode": {
    "name": "ipython",
    "version": 3
   },
   "file_extension": ".py",
   "mimetype": "text/x-python",
   "name": "python",
   "nbconvert_exporter": "python",
   "pygments_lexer": "ipython3",
   "version": "3.6.5"
  }
 },
 "nbformat": 4,
 "nbformat_minor": 2
}
