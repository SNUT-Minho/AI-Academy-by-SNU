{
 "cells": [
  {
   "cell_type": "code",
   "execution_count": 104,
   "metadata": {},
   "outputs": [],
   "source": [
    "from random import seed\n",
    "from random import randrange\n",
    "import csv"
   ]
  },
  {
   "cell_type": "code",
   "execution_count": 105,
   "metadata": {},
   "outputs": [],
   "source": [
    "csv_reader = csv.reader(open('./insurance.csv'))\n",
    "dataset = list(csv_reader)"
   ]
  },
  {
   "cell_type": "code",
   "execution_count": 106,
   "metadata": {},
   "outputs": [
    {
     "data": {
      "text/plain": [
       "[['X', 'Y'],\n",
       " ['108', '392.5'],\n",
       " ['19', '46.2'],\n",
       " ['13', '15.7'],\n",
       " ['124', '422.2'],\n",
       " ['40', '119.4'],\n",
       " ['57', '170.9'],\n",
       " ['23', '56.9'],\n",
       " ['14', '77.5'],\n",
       " ['45', '214']]"
      ]
     },
     "execution_count": 106,
     "metadata": {},
     "output_type": "execute_result"
    }
   ],
   "source": [
    "dataset[:10]"
   ]
  },
  {
   "cell_type": "code",
   "execution_count": 107,
   "metadata": {},
   "outputs": [],
   "source": [
    "dataset = dataset[1:]\n",
    "#dataset"
   ]
  },
  {
   "cell_type": "code",
   "execution_count": 108,
   "metadata": {},
   "outputs": [],
   "source": [
    "# Convert string column to float\n",
    "for i in range(len(dataset)):\n",
    "    for x in range(len(dataset[0])):\n",
    "        dataset[i][x] = float(dataset[i][x])"
   ]
  },
  {
   "cell_type": "code",
   "execution_count": 109,
   "metadata": {},
   "outputs": [
    {
     "data": {
      "text/plain": [
       "[[108.0, 392.5],\n",
       " [19.0, 46.2],\n",
       " [13.0, 15.7],\n",
       " [124.0, 422.2],\n",
       " [40.0, 119.4],\n",
       " [57.0, 170.9],\n",
       " [23.0, 56.9],\n",
       " [14.0, 77.5],\n",
       " [45.0, 214.0],\n",
       " [10.0, 65.3]]"
      ]
     },
     "execution_count": 109,
     "metadata": {},
     "output_type": "execute_result"
    }
   ],
   "source": [
    "dataset[:10]\n",
    "#dataset"
   ]
  },
  {
   "cell_type": "code",
   "execution_count": 110,
   "metadata": {},
   "outputs": [],
   "source": [
    "import matplotlib.pyplot as plt\n",
    "import matplotlib"
   ]
  },
  {
   "cell_type": "code",
   "execution_count": 111,
   "metadata": {},
   "outputs": [
    {
     "data": {
      "image/png": "[encoded data removed]",
      "text/plain": [
       "<Figure size 432x288 with 1 Axes>"
      ]
     },
     "metadata": {},
     "output_type": "display_data"
    }
   ],
   "source": [
    "plt.plot([row[0] for row in dataset],[row[-1] for row in dataset],'ro',label='Original Data')\n",
    "plt.legend()\n",
    "plt.show()"
   ]
  },
  {
   "cell_type": "code",
   "execution_count": 112,
   "metadata": {},
   "outputs": [],
   "source": [
    "split = 0.6\n",
    "train = list()\n",
    "train_size = split*len(dataset)\n",
    "dataset_copy = list(dataset)\n",
    "#dataset_copy"
   ]
  },
  {
   "cell_type": "code",
   "execution_count": 113,
   "metadata": {},
   "outputs": [],
   "source": [
    "while len(train) < train_size:\n",
    "    index = randrange(len(dataset_copy))\n",
    "    train.append(dataset_copy.pop(index))"
   ]
  },
  {
   "cell_type": "code",
   "execution_count": 114,
   "metadata": {},
   "outputs": [],
   "source": [
    "#train  --> randrange로 random 하게 추출된 tarin데이터 list"
   ]
  },
  {
   "cell_type": "code",
   "execution_count": 115,
   "metadata": {},
   "outputs": [],
   "source": [
    "#dataset_copy --> train데이터가 추출되고 남은 데이터 list"
   ]
  },
  {
   "cell_type": "code",
   "execution_count": 116,
   "metadata": {},
   "outputs": [
    {
     "data": {
      "text/plain": [
       "392.5"
      ]
     },
     "execution_count": 116,
     "metadata": {},
     "output_type": "execute_result"
    }
   ],
   "source": [
    "dataset[0][0]\n",
    "dataset[0][1]"
   ]
  },
  {
   "cell_type": "code",
   "execution_count": 117,
   "metadata": {},
   "outputs": [
    {
     "data": {
      "text/plain": [
       "[[108.0, None],\n",
       " [19.0, None],\n",
       " [13.0, None],\n",
       " [124.0, None],\n",
       " [40.0, None],\n",
       " [57.0, None],\n",
       " [23.0, None],\n",
       " [14.0, None],\n",
       " [45.0, None],\n",
       " [10.0, None],\n",
       " [5.0, None],\n",
       " [48.0, None],\n",
       " [11.0, None],\n",
       " [23.0, None],\n",
       " [7.0, None],\n",
       " [2.0, None],\n",
       " [24.0, None],\n",
       " [6.0, None],\n",
       " [3.0, None],\n",
       " [23.0, None],\n",
       " [6.0, None],\n",
       " [9.0, None],\n",
       " [9.0, None],\n",
       " [3.0, None],\n",
       " [29.0, None],\n",
       " [7.0, None],\n",
       " [4.0, None],\n",
       " [20.0, None],\n",
       " [7.0, None],\n",
       " [4.0, None],\n",
       " [0.0, None],\n",
       " [25.0, None],\n",
       " [6.0, None],\n",
       " [5.0, None],\n",
       " [22.0, None],\n",
       " [11.0, None],\n",
       " [61.0, None],\n",
       " [12.0, None],\n",
       " [4.0, None],\n",
       " [16.0, None],\n",
       " [13.0, None],\n",
       " [60.0, None],\n",
       " [41.0, None],\n",
       " [37.0, None],\n",
       " [55.0, None],\n",
       " [41.0, None],\n",
       " [11.0, None],\n",
       " [27.0, None],\n",
       " [8.0, None],\n",
       " [3.0, None],\n",
       " [17.0, None],\n",
       " [13.0, None],\n",
       " [13.0, None],\n",
       " [15.0, None],\n",
       " [8.0, None],\n",
       " [29.0, None],\n",
       " [30.0, None],\n",
       " [24.0, None],\n",
       " [9.0, None],\n",
       " [31.0, None],\n",
       " [14.0, None],\n",
       " [53.0, None],\n",
       " [26.0, None],\n",
       " [14.0, None],\n",
       " [53.0, None],\n",
       " [26.0, None]]"
      ]
     },
     "execution_count": 117,
     "metadata": {},
     "output_type": "execute_result"
    }
   ],
   "source": [
    "test_list = []\n",
    "for row in dataset:\n",
    "    copy = [row[0],None]\n",
    "    test_list.append(copy)\n",
    "test_list    "
   ]
  },
  {
   "cell_type": "code",
   "execution_count": 118,
   "metadata": {},
   "outputs": [],
   "source": [
    "#test_list --> 모델을 validation할 test 데이터 list"
   ]
  },
  {
   "cell_type": "code",
   "execution_count": 119,
   "metadata": {},
   "outputs": [
    {
     "data": {
      "image/png": "[encoded data removed]",
      "text/plain": [
       "<Figure size 432x288 with 1 Axes>"
      ]
     },
     "metadata": {},
     "output_type": "display_data"
    }
   ],
   "source": [
    "plt.plot([row[0] for row in train],[row[1] for row in train],'ro',label='train data')\n",
    "plt.legend()\n",
    "plt.show()"
   ]
  },
  {
   "cell_type": "code",
   "execution_count": 120,
   "metadata": {},
   "outputs": [],
   "source": [
    "def mean(values):\n",
    "    return float(sum(values))/len(values)\n",
    "\n",
    "#Covariance 실제 Formula랑 다른 이유는 뭘까?\n",
    "def covariance(x, mean_x, y, mean_y):\n",
    "    cova = 0.0\n",
    "    for i in range(len(x)):\n",
    "        cova += (x[i]-mean_x)*(y[i]-mean_y)\n",
    "    return cova/(len(x)-1)    \n",
    "\n",
    "def variance(x, mean_x):\n",
    "    var = 0.0\n",
    "    for i in range(len(x)):\n",
    "        var += (x[i]-mean_x)**2\n",
    "    return var/(len(x)-1) \n",
    "\n",
    "def coefficient(dataset):\n",
    "    x= [row[0] for row in dataset]\n",
    "    y= [row[1] for row in dataset]\n",
    "    mean_x = mean(x)\n",
    "    mean_y = mean(y)\n",
    "    coef = covariance(x,mean_x,y,mean_y) / variance(x,mean_x)\n",
    "    return coef"
   ]
  },
  {
   "cell_type": "code",
   "execution_count": 121,
   "metadata": {},
   "outputs": [],
   "source": [
    "x= [row[0] for row in train]\n",
    "y= [row[1] for row in train]\n",
    "mean_x = mean(x)\n",
    "mean_y = mean(y)\n",
    "a = mean_y - coefficient(train)*mean_x\n",
    "b = coefficient(train)"
   ]
  },
  {
   "cell_type": "code",
   "execution_count": 122,
   "metadata": {},
   "outputs": [
    {
     "data": {
      "text/plain": [
       "[[108.0, None],\n",
       " [19.0, None],\n",
       " [13.0, None],\n",
       " [124.0, None],\n",
       " [40.0, None],\n",
       " [57.0, None],\n",
       " [23.0, None],\n",
       " [14.0, None],\n",
       " [45.0, None],\n",
       " [10.0, None],\n",
       " [5.0, None],\n",
       " [48.0, None],\n",
       " [11.0, None],\n",
       " [23.0, None],\n",
       " [7.0, None],\n",
       " [2.0, None],\n",
       " [24.0, None],\n",
       " [6.0, None],\n",
       " [3.0, None],\n",
       " [23.0, None],\n",
       " [6.0, None],\n",
       " [9.0, None],\n",
       " [9.0, None],\n",
       " [3.0, None],\n",
       " [29.0, None],\n",
       " [7.0, None],\n",
       " [4.0, None],\n",
       " [20.0, None],\n",
       " [7.0, None],\n",
       " [4.0, None],\n",
       " [0.0, None],\n",
       " [25.0, None],\n",
       " [6.0, None],\n",
       " [5.0, None],\n",
       " [22.0, None],\n",
       " [11.0, None],\n",
       " [61.0, None],\n",
       " [12.0, None],\n",
       " [4.0, None],\n",
       " [16.0, None],\n",
       " [13.0, None],\n",
       " [60.0, None],\n",
       " [41.0, None],\n",
       " [37.0, None],\n",
       " [55.0, None],\n",
       " [41.0, None],\n",
       " [11.0, None],\n",
       " [27.0, None],\n",
       " [8.0, None],\n",
       " [3.0, None],\n",
       " [17.0, None],\n",
       " [13.0, None],\n",
       " [13.0, None],\n",
       " [15.0, None],\n",
       " [8.0, None],\n",
       " [29.0, None],\n",
       " [30.0, None],\n",
       " [24.0, None],\n",
       " [9.0, None],\n",
       " [31.0, None],\n",
       " [14.0, None],\n",
       " [53.0, None],\n",
       " [26.0, None],\n",
       " [14.0, None],\n",
       " [53.0, None],\n",
       " [26.0, None]]"
      ]
     },
     "execution_count": 122,
     "metadata": {},
     "output_type": "execute_result"
    }
   ],
   "source": [
    "predicted = list()\n",
    "test_list"
   ]
  },
  {
   "cell_type": "code",
   "execution_count": 123,
   "metadata": {},
   "outputs": [],
   "source": [
    "for row in test_list:\n",
    "    yhat = a + b * row[0]\n",
    "    predicted.append(yhat)"
   ]
  },
  {
   "cell_type": "code",
   "execution_count": 124,
   "metadata": {},
   "outputs": [
    {
     "data": {
      "text/plain": [
       "66"
      ]
     },
     "execution_count": 124,
     "metadata": {},
     "output_type": "execute_result"
    }
   ],
   "source": [
    "len(predicted)"
   ]
  },
  {
   "cell_type": "code",
   "execution_count": 126,
   "metadata": {},
   "outputs": [],
   "source": [
    "#predicted"
   ]
  },
  {
   "cell_type": "code",
   "execution_count": 127,
   "metadata": {},
   "outputs": [],
   "source": [
    "actual = [row[-1] for row in dataset]"
   ]
  },
  {
   "cell_type": "code",
   "execution_count": 130,
   "metadata": {},
   "outputs": [
    {
     "name": "stdout",
     "output_type": "stream",
     "text": [
      "[383.9382323680654, 82.91246873873185, 62.61859703338352, 438.0552235823276, 153.941019707451, 211.4403228726046, 96.4417165422974, 66.0009089842749, 170.85257946190794, 52.471661180709354] [392.5, 46.2, 15.7, 422.2, 119.4, 170.9, 56.9, 77.5, 214.0, 65.3]\n"
     ]
    }
   ],
   "source": [
    "print(predicted[:10], actual[:10])"
   ]
  },
  {
   "cell_type": "code",
   "execution_count": 132,
   "metadata": {},
   "outputs": [],
   "source": [
    "sum_error = 0\n",
    "for i in range(len(actual)):\n",
    "    predict_error = predicted[i] - actual[i]\n",
    "    sum_error += (predict_error)**2\n",
    "mean_error =  float(sum_error) / len(actual)\n",
    "cost = mean_error"
   ]
  },
  {
   "cell_type": "code",
   "execution_count": 138,
   "metadata": {},
   "outputs": [
    {
     "name": "stdout",
     "output_type": "stream",
     "text": [
      "cost: 1343.884\n"
     ]
    }
   ],
   "source": [
    "print('cost: %.3f' % (cost))"
   ]
  },
  {
   "cell_type": "code",
   "execution_count": 141,
   "metadata": {},
   "outputs": [
    {
     "data": {
      "text/plain": [
       "[<matplotlib.lines.Line2D at 0x2782eef3ac8>]"
      ]
     },
     "execution_count": 141,
     "metadata": {},
     "output_type": "execute_result"
    },
    {
     "data": {
      "image/png": "[encoded data removed]",
      "text/plain": [
       "<Figure size 432x288 with 1 Axes>"
      ]
     },
     "metadata": {},
     "output_type": "display_data"
    }
   ],
   "source": [
    "# Linear Regerssion으로 예측된 prected data plot\n",
    "plt.plot([row[0] for row in test_list],[row for row in predicted],'ro',label='predicted yhat')"
   ]
  },
  {
   "cell_type": "code",
   "execution_count": 142,
   "metadata": {},
   "outputs": [
    {
     "data": {
      "text/plain": [
       "[<matplotlib.lines.Line2D at 0x2782ef448d0>]"
      ]
     },
     "execution_count": 142,
     "metadata": {},
     "output_type": "execute_result"
    },
    {
     "data": {
      "image/png": "[encoded data removed]",
      "text/plain": [
       "<Figure size 432x288 with 1 Axes>"
      ]
     },
     "metadata": {},
     "output_type": "display_data"
    }
   ],
   "source": [
    "# 실제 data plot\n",
    "plt.plot([row[0] for row in dataset],[row[1] for row in dataset],'ro',label='predicted yhat')"
   ]
  },
  {
   "cell_type": "code",
   "execution_count": null,
   "metadata": {},
   "outputs": [],
   "source": []
  }
 ],
 "metadata": {
  "kernelspec": {
   "display_name": "Python 3",
   "language": "python",
   "name": "python3"
  },
  "language_info": {
   "codemirror_mode": {
    "name": "ipython",
    "version": 3
   },
   "file_extension": ".py",
   "mimetype": "text/x-python",
   "name": "python",
   "nbconvert_exporter": "python",
   "pygments_lexer": "ipython3",
   "version": "3.6.5"
  }
 },
 "nbformat": 4,
 "nbformat_minor": 2
}
