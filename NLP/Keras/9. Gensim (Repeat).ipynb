{
 "cells": [
  {
   "cell_type": "code",
   "execution_count": 36,
   "metadata": {},
   "outputs": [],
   "source": [
    "from gensim.models import Word2Vec"
   ]
  },
  {
   "cell_type": "code",
   "execution_count": 37,
   "metadata": {},
   "outputs": [],
   "source": [
    "# 모델에 들어갈 training data 만들기\n",
    "sentences = [['once', 'upon', 'a', 'time', 'there', 'was', 'an', 'old', 'sow', 'with', 'three', 'little', 'pig'],\n",
    "             ['the', 'first', 'that', 'went', 'off', 'met', 'a', 'man', 'with', 'a', 'bundle', 'of', 'straw'],\n",
    "             ['the', 'second', 'pig', 'met', 'a', 'man', 'with', 'a', 'bundle', 'of', 'furze'],\n",
    "             ['the', 'third', 'little', 'pig', 'met', 'a', 'men', 'with', 'a', 'load', 'of', 'bricks']]\n",
    "\n",
    "# 모델 학습시키기\n",
    "model = Word2Vec(sentences, min_count=1) \n",
    "# size: (default 100) The number of dimensions of the embedding, e.g. the length of the dense vector to represent each token (word)."
   ]
  },
  {
   "cell_type": "code",
   "execution_count": 38,
   "metadata": {},
   "outputs": [
    {
     "name": "stdout",
     "output_type": "stream",
     "text": [
      "Word2Vec(vocab=29, size=100, alpha=0.025)\n"
     ]
    }
   ],
   "source": [
    "# 학습된 모델 확인하기\n",
    "print(model)"
   ]
  },
  {
   "cell_type": "code",
   "execution_count": 39,
   "metadata": {},
   "outputs": [
    {
     "name": "stdout",
     "output_type": "stream",
     "text": [
      "['once', 'upon', 'a', 'time', 'there', 'was', 'an', 'old', 'sow', 'with', 'three', 'little', 'pig', 'the', 'first', 'that', 'went', 'off', 'met', 'man', 'bundle', 'of', 'straw', 'second', 'furze', 'third', 'men', 'load', 'bricks']\n"
     ]
    }
   ],
   "source": [
    "# 모델에 구축된 vocabulary 확인하기\n",
    "words = list(model.wv.vocab)\n",
    "print(words)"
   ]
  },
  {
   "cell_type": "code",
   "execution_count": 40,
   "metadata": {},
   "outputs": [],
   "source": [
    "# 별도의 파일로 모델 저장하기\n",
    "model.save('model.bin')"
   ]
  },
  {
   "cell_type": "code",
   "execution_count": 41,
   "metadata": {},
   "outputs": [
    {
     "name": "stdout",
     "output_type": "stream",
     "text": [
      "Word2Vec(vocab=29, size=100, alpha=0.025)\n"
     ]
    }
   ],
   "source": [
    "# 저장해 둔 모델 불러오기\n",
    "new_model = Word2Vec.load('model.bin')\n",
    "print(new_model)"
   ]
  },
  {
   "cell_type": "code",
   "execution_count": 42,
   "metadata": {},
   "outputs": [],
   "source": [
    "# PCA를 이용하여 단어 벡터를 시각화\n",
    "# PCA는 고차원의 단어 벡터를 2차원으로 줄여 시각화할 수 있는 형태로 만들어 줌 \n",
    "from sklearn.decomposition import PCA\n",
    "from matplotlib import pyplot"
   ]
  },
  {
   "cell_type": "code",
   "execution_count": 43,
   "metadata": {},
   "outputs": [
    {
     "name": "stdout",
     "output_type": "stream",
     "text": [
      "[[-9.9358091e-04  2.1466396e-03 -4.3417756e-03 ... -1.9097324e-03\n",
      "   5.5775291e-04 -4.0080911e-03]\n",
      " [-4.7094254e-03  8.1437192e-04 -4.1195373e-03 ... -2.7740345e-04\n",
      "  -3.4418844e-03  1.6103040e-03]\n",
      " [ 1.7708667e-03  4.4609667e-03  4.6544024e-03 ... -4.7484883e-03\n",
      "  -1.6334134e-03  2.6496532e-03]\n",
      " ...\n",
      " [ 4.0677325e-03  2.7244395e-04 -2.7431420e-03 ...  1.3374110e-03\n",
      "   2.6197911e-03 -3.4560214e-03]\n",
      " [ 5.0507992e-04  2.7087049e-04  2.8332663e-03 ... -8.2358887e-04\n",
      "  -1.2653337e-03 -4.8126262e-03]\n",
      " [-3.1906308e-04  1.3377409e-03  3.1288178e-03 ... -3.5234734e-05\n",
      "   3.2247442e-03 -2.8125504e-03]]\n"
     ]
    },
    {
     "name": "stderr",
     "output_type": "stream",
     "text": [
      "C:\\Users\\MinhoLee\\Anaconda3\\envs\\venv\\lib\\site-packages\\ipykernel_launcher.py:3: DeprecationWarning: Call to deprecated `__getitem__` (Method will be removed in 4.0.0, use self.wv.__getitem__() instead).\n",
      "  This is separate from the ipykernel package so we can avoid doing imports until\n"
     ]
    }
   ],
   "source": [
    "# 방금 학습된 word2vec 모델\n",
    "# vocabulary에 들어 있는 단어 각각에 대해 100차원의 벡터가 생성되어 있음\n",
    "X = model[model.wv.vocab]\n",
    "print(X)"
   ]
  },
  {
   "cell_type": "code",
   "execution_count": 44,
   "metadata": {
    "scrolled": true
   },
   "outputs": [
    {
     "name": "stdout",
     "output_type": "stream",
     "text": [
      "[[ 3.3242952e-03  4.9579288e-03]\n",
      " [ 5.1910500e-03  2.5974463e-03]\n",
      " [-1.0791953e-03 -3.0181834e-03]\n",
      " [ 3.2325543e-03 -1.3804319e-02]\n",
      " [-4.0992191e-03  5.8465945e-03]\n",
      " [-1.5545818e-02 -8.6128013e-03]\n",
      " [ 6.2408438e-03  1.2764152e-03]\n",
      " [-8.4845219e-03 -4.7509049e-04]\n",
      " [-6.4037490e-04  9.5114680e-03]\n",
      " [-8.9065852e-03 -6.9654309e-03]\n",
      " [ 1.7529506e-02 -1.2222252e-02]\n",
      " [-6.9481751e-04 -2.2067750e-04]\n",
      " [ 3.7815562e-03 -1.2400352e-02]\n",
      " [-1.3537132e-03 -4.6906653e-03]\n",
      " [-3.1388190e-03 -1.8064466e-03]\n",
      " [ 1.1676394e-02  9.2343232e-03]\n",
      " [ 1.1007874e-03 -6.4903661e-03]\n",
      " [-1.4025853e-02 -6.8440698e-03]\n",
      " [-8.2299253e-03 -8.0093434e-03]\n",
      " [ 1.0802782e-02 -5.1449944e-04]\n",
      " [-2.6309360e-03  1.4151486e-02]\n",
      " [ 2.5862635e-03  1.4303361e-02]\n",
      " [-1.0422713e-02  1.4579286e-02]\n",
      " [-1.0834403e-03 -4.0593576e-03]\n",
      " [-9.0425909e-03  8.2433615e-03]\n",
      " [ 9.6823350e-03  3.3887222e-03]\n",
      " [-1.5254532e-03  3.4797791e-05]\n",
      " [ 1.1620268e-02  9.0090389e-04]\n",
      " [ 4.1353316e-03  1.1077564e-03]]\n"
     ]
    }
   ],
   "source": [
    "# 이 벡터(여기서는 30x100)에 2차원 PCA 모델을 적용시켜 2차원으로 바꾸어 줌\n",
    "pca = PCA(n_components=2)\n",
    "result = pca.fit_transform(X)\n",
    "print(result)"
   ]
  },
  {
   "cell_type": "code",
   "execution_count": 49,
   "metadata": {},
   "outputs": [
    {
     "data": {
      "image/png": "[encoded data removed]",
      "text/plain": [
       "<Figure size 432x288 with 1 Axes>"
      ]
     },
     "metadata": {},
     "output_type": "display_data"
    }
   ],
   "source": [
    "# 2차원 프로젝션 결과를 산점도에 그릴 수 있음\n",
    "# 각 단어는 모델에서 학습한 의미에 따라 적절한 위치에 그려지게 됨\n",
    "pyplot.scatter(result[:, 0], result[:, 1])\n",
    "words = list(model.wv.vocab)\n",
    "for i, word in enumerate(words):\n",
    "    pyplot.annotate(word, xy=(result[i, 0], result[i, 1]))\n",
    "pyplot.show()"
   ]
  }
 ],
 "metadata": {
  "kernelspec": {
   "display_name": "Python 3",
   "language": "python",
   "name": "python3"
  },
  "language_info": {
   "codemirror_mode": {
    "name": "ipython",
    "version": 3
   },
   "file_extension": ".py",
   "mimetype": "text/x-python",
   "name": "python",
   "nbconvert_exporter": "python",
   "pygments_lexer": "ipython3",
   "version": "3.6.5"
  }
 },
 "nbformat": 4,
 "nbformat_minor": 2
}
