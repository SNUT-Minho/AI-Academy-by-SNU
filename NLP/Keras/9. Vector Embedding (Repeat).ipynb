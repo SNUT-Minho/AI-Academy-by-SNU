{
 "cells": [
  {
   "cell_type": "code",
   "execution_count": 15,
   "metadata": {},
   "outputs": [],
   "source": [
    "from keras.preprocessing.text import one_hot\n",
    "from keras.preprocessing.sequence import pad_sequences\n",
    "from keras.models import Sequential\n",
    "from keras.layers import Dense\n",
    "from keras.layers import Flatten\n",
    "from keras.layers.embeddings import Embedding"
   ]
  },
  {
   "cell_type": "code",
   "execution_count": 16,
   "metadata": {},
   "outputs": [],
   "source": [
    "# define documents\n",
    "docs = ['Well done!',\n",
    "        'Good work',\n",
    "        'Great effort',\n",
    "        'nice work',\n",
    "        'Excellent!',\n",
    "        'Weak',\n",
    "        'Poor effort!',\n",
    "        'not good',\n",
    "        'poor work',\n",
    "        'Could have done better.']\n",
    "# define class labels\n",
    "labels = [1,1,1,1,1,0,0,0,0,0]"
   ]
  },
  {
   "cell_type": "code",
   "execution_count": 17,
   "metadata": {},
   "outputs": [
    {
     "name": "stdout",
     "output_type": "stream",
     "text": [
      "[[69, 55], [32, 6], [8, 16], [69, 6], [43], [83], [49, 16], [40, 32], [49, 6], [10, 86, 55, 67]]\n"
     ]
    }
   ],
   "source": [
    "# integer encode the documents  !! doucment의 word들을 max 100의 index에서 random하게 배분함\n",
    "vocab_size = 100\n",
    "encoded_docs = [one_hot(d,vocab_size) for d in docs]\n",
    "print(encoded_docs)"
   ]
  },
  {
   "cell_type": "code",
   "execution_count": 18,
   "metadata": {},
   "outputs": [
    {
     "name": "stdout",
     "output_type": "stream",
     "text": [
      "[[69 55  0  0]\n",
      " [32  6  0  0]\n",
      " [ 8 16  0  0]\n",
      " [69  6  0  0]\n",
      " [43  0  0  0]\n",
      " [83  0  0  0]\n",
      " [49 16  0  0]\n",
      " [40 32  0  0]\n",
      " [49  6  0  0]\n",
      " [10 86 55 67]]\n"
     ]
    }
   ],
   "source": [
    "# pad documents to a max length of 4 words\n",
    "max_length = 4\n",
    "padded_docs = pad_sequences(encoded_docs, maxlen=max_length, padding='post')\n",
    "print(padded_docs)"
   ]
  },
  {
   "cell_type": "code",
   "execution_count": 19,
   "metadata": {},
   "outputs": [
    {
     "name": "stdout",
     "output_type": "stream",
     "text": [
      "_________________________________________________________________\n",
      "Layer (type)                 Output Shape              Param #   \n",
      "=================================================================\n",
      "embedding_3 (Embedding)      (None, 4, 8)              800       \n",
      "_________________________________________________________________\n",
      "flatten_3 (Flatten)          (None, 32)                0         \n",
      "_________________________________________________________________\n",
      "dense_3 (Dense)              (None, 1)                 33        \n",
      "=================================================================\n",
      "Total params: 833\n",
      "Trainable params: 833\n",
      "Non-trainable params: 0\n",
      "_________________________________________________________________\n"
     ]
    }
   ],
   "source": [
    "model = Sequential()\n",
    "# Vocab_size : index화된 word의 largest number + 1 // \n",
    "# ex) vocab_size = 100이면 0~ 99까지 index화된 word들이 들어가서 vector로 변환된다\n",
    "model.add(Embedding(vocab_size, 8, input_length = max_length))\n",
    "# Embedding한 값들을 hidden layer에 전달해주기전에는 무조건 Flatten을 해야된다.\n",
    "model.add(Flatten())\n",
    "# 여기서는 그냥 Embedding후 바로 출력단에 출력을 한다\n",
    "# Dense에 1이라고 되어있으면 출력층이 1임 \n",
    "# 지금 이문제에서는 sentence를 0또는 1로 출력할 것이기때문에 출력층의 노드는 1개면 됨\n",
    "# 출력층의 ouput activation 은 sigmoid를 사용하면 0~1사이의 값을 출력\n",
    "model.add(Dense(1, activation='sigmoid'))\n",
    "model.compile(optimizer='adam', loss='binary_crossentropy', metrics=['acc'])\n",
    "model.summary()"
   ]
  },
  {
   "cell_type": "code",
   "execution_count": 22,
   "metadata": {},
   "outputs": [
    {
     "name": "stdout",
     "output_type": "stream",
     "text": [
      "Epoch 1/50\n",
      "10/10 [==============================] - 0s 97us/step - loss: 0.5130 - acc: 0.9000\n",
      "Epoch 2/50\n",
      "10/10 [==============================] - 0s 200us/step - loss: 0.5108 - acc: 0.9000\n",
      "Epoch 3/50\n",
      "10/10 [==============================] - 0s 100us/step - loss: 0.5086 - acc: 0.9000\n",
      "Epoch 4/50\n",
      "10/10 [==============================] - 0s 100us/step - loss: 0.5063 - acc: 0.9000\n",
      "Epoch 5/50\n",
      "10/10 [==============================] - 0s 200us/step - loss: 0.5041 - acc: 0.9000\n",
      "Epoch 6/50\n",
      "10/10 [==============================] - 0s 100us/step - loss: 0.5018 - acc: 0.9000\n",
      "Epoch 7/50\n",
      "10/10 [==============================] - 0s 99us/step - loss: 0.4996 - acc: 0.9000\n",
      "Epoch 8/50\n",
      "10/10 [==============================] - 0s 100us/step - loss: 0.4973 - acc: 0.9000\n",
      "Epoch 9/50\n",
      "10/10 [==============================] - 0s 100us/step - loss: 0.4951 - acc: 0.9000\n",
      "Epoch 10/50\n",
      "10/10 [==============================] - 0s 100us/step - loss: 0.4928 - acc: 0.9000\n",
      "Epoch 11/50\n",
      "10/10 [==============================] - 0s 100us/step - loss: 0.4906 - acc: 0.9000\n",
      "Epoch 12/50\n",
      "10/10 [==============================] - 0s 100us/step - loss: 0.4883 - acc: 0.9000\n",
      "Epoch 13/50\n",
      "10/10 [==============================] - 0s 100us/step - loss: 0.4861 - acc: 0.9000\n",
      "Epoch 14/50\n",
      "10/10 [==============================] - 0s 100us/step - loss: 0.4838 - acc: 0.9000\n",
      "Epoch 15/50\n",
      "10/10 [==============================] - 0s 100us/step - loss: 0.4815 - acc: 0.9000\n",
      "Epoch 16/50\n",
      "10/10 [==============================] - 0s 100us/step - loss: 0.4793 - acc: 0.9000\n",
      "Epoch 17/50\n",
      "10/10 [==============================] - 0s 100us/step - loss: 0.4770 - acc: 0.9000\n",
      "Epoch 18/50\n",
      "10/10 [==============================] - 0s 100us/step - loss: 0.4748 - acc: 0.9000\n",
      "Epoch 19/50\n",
      "10/10 [==============================] - 0s 100us/step - loss: 0.4725 - acc: 0.9000\n",
      "Epoch 20/50\n",
      "10/10 [==============================] - 0s 100us/step - loss: 0.4702 - acc: 0.9000\n",
      "Epoch 21/50\n",
      "10/10 [==============================] - 0s 100us/step - loss: 0.4680 - acc: 0.9000\n",
      "Epoch 22/50\n",
      "10/10 [==============================] - 0s 100us/step - loss: 0.4657 - acc: 0.9000\n",
      "Epoch 23/50\n",
      "10/10 [==============================] - 0s 100us/step - loss: 0.4634 - acc: 0.9000\n",
      "Epoch 24/50\n",
      "10/10 [==============================] - 0s 100us/step - loss: 0.4612 - acc: 0.9000\n",
      "Epoch 25/50\n",
      "10/10 [==============================] - 0s 99us/step - loss: 0.4589 - acc: 0.9000\n",
      "Epoch 26/50\n",
      "10/10 [==============================] - 0s 99us/step - loss: 0.4567 - acc: 0.9000\n",
      "Epoch 27/50\n",
      "10/10 [==============================] - 0s 200us/step - loss: 0.4544 - acc: 0.9000\n",
      "Epoch 28/50\n",
      "10/10 [==============================] - 0s 100us/step - loss: 0.4521 - acc: 0.9000\n",
      "Epoch 29/50\n",
      "10/10 [==============================] - 0s 100us/step - loss: 0.4499 - acc: 0.9000\n",
      "Epoch 30/50\n",
      "10/10 [==============================] - 0s 199us/step - loss: 0.4476 - acc: 0.9000\n",
      "Epoch 31/50\n",
      "10/10 [==============================] - 0s 199us/step - loss: 0.4454 - acc: 0.9000\n",
      "Epoch 32/50\n",
      "10/10 [==============================] - 0s 199us/step - loss: 0.4431 - acc: 0.9000\n",
      "Epoch 33/50\n",
      "10/10 [==============================] - 0s 100us/step - loss: 0.4409 - acc: 0.9000\n",
      "Epoch 34/50\n",
      "10/10 [==============================] - 0s 199us/step - loss: 0.4386 - acc: 0.9000\n",
      "Epoch 35/50\n",
      "10/10 [==============================] - 0s 100us/step - loss: 0.4364 - acc: 0.9000\n",
      "Epoch 36/50\n",
      "10/10 [==============================] - 0s 100us/step - loss: 0.4341 - acc: 0.9000\n",
      "Epoch 37/50\n",
      "10/10 [==============================] - 0s 100us/step - loss: 0.4319 - acc: 0.9000\n",
      "Epoch 38/50\n",
      "10/10 [==============================] - 0s 100us/step - loss: 0.4297 - acc: 0.9000\n",
      "Epoch 39/50\n",
      "10/10 [==============================] - 0s 100us/step - loss: 0.4274 - acc: 1.0000\n",
      "Epoch 40/50\n",
      "10/10 [==============================] - 0s 100us/step - loss: 0.4252 - acc: 1.0000\n",
      "Epoch 41/50\n",
      "10/10 [==============================] - 0s 100us/step - loss: 0.4230 - acc: 1.0000\n",
      "Epoch 42/50\n",
      "10/10 [==============================] - 0s 100us/step - loss: 0.4208 - acc: 1.0000\n",
      "Epoch 43/50\n",
      "10/10 [==============================] - 0s 199us/step - loss: 0.4185 - acc: 1.0000\n",
      "Epoch 44/50\n",
      "10/10 [==============================] - 0s 100us/step - loss: 0.4163 - acc: 1.0000\n",
      "Epoch 45/50\n",
      "10/10 [==============================] - 0s 100us/step - loss: 0.4141 - acc: 1.0000\n",
      "Epoch 46/50\n",
      "10/10 [==============================] - 0s 97us/step - loss: 0.4119 - acc: 1.0000\n",
      "Epoch 47/50\n",
      "10/10 [==============================] - 0s 199us/step - loss: 0.4097 - acc: 1.0000\n",
      "Epoch 48/50\n",
      "10/10 [==============================] - 0s 100us/step - loss: 0.4075 - acc: 1.0000\n",
      "Epoch 49/50\n",
      "10/10 [==============================] - 0s 100us/step - loss: 0.4054 - acc: 1.0000\n",
      "Epoch 50/50\n",
      "10/10 [==============================] - 0s 100us/step - loss: 0.4032 - acc: 1.0000\n",
      "10/10 [==============================] - 0s 100us/step\n",
      "Accuracy:  1.0\n"
     ]
    }
   ],
   "source": [
    "# fit the model\n",
    "# 이 예제의 모델을 TEST/ TRAIN 구분없이 50의 적은 epoch으로만 만들었다.\n",
    "# 그래서 결과값이 유의미하지는 않고\n",
    "# 50인 epoch을 반복해서 돌려주면 accuracy의 값이 높아지다가 1로 수렴함\n",
    "model.fit(padded_docs, labels, epochs=50, verbose=1)\n",
    "# evaluate the model\n",
    "# verbose = 1이라고하면 아래와같이 출력됨\n",
    "loss, accuracy = model.evaluate(padded_docs, labels, verbose=1)\n",
    "print('Accuracy: ', accuracy)"
   ]
  },
  {
   "cell_type": "code",
   "execution_count": null,
   "metadata": {},
   "outputs": [],
   "source": []
  }
 ],
 "metadata": {
  "kernelspec": {
   "display_name": "Python 3",
   "language": "python",
   "name": "python3"
  },
  "language_info": {
   "codemirror_mode": {
    "name": "ipython",
    "version": 3
   },
   "file_extension": ".py",
   "mimetype": "text/x-python",
   "name": "python",
   "nbconvert_exporter": "python",
   "pygments_lexer": "ipython3",
   "version": "3.6.5"
  }
 },
 "nbformat": 4,
 "nbformat_minor": 2
}
