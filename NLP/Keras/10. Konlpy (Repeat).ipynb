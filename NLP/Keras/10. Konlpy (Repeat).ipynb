{
 "cells": [
  {
   "cell_type": "markdown",
   "metadata": {},
   "source": [
    "# 한국어 데이터 처리하기"
   ]
  },
  {
   "cell_type": "markdown",
   "metadata": {},
   "source": [
    "# Install KoNLPy\n",
    "pip install konlpy\n",
    "\n",
    "# http://konlpy.org/ko/latest/install/ 참조"
   ]
  },
  {
   "cell_type": "markdown",
   "metadata": {},
   "source": [
    "#### 데이터 전처리: konlpy를 이용한 형태소 분석"
   ]
  },
  {
   "cell_type": "markdown",
   "metadata": {},
   "source": [
    "** 형태소 분석이 필요한 이유\n",
    "- 영어처럼 어절 경계로 기본 단위를 설정하면 '철수가, 철수를, 철수는, 철수도, ...'와 같은 형태가 각각 다른 단어가 됨\n",
    "- 하나의 의미 단위로서의 '철수'를 다루기 위해 형태소 경계를 사용하고자 하는 것\n",
    "- 형태소를 비롯하여, 어근, 접두사/접미사, 품사(POS, part-of-speech) 등 다양한 언어적 속성의 구조를 파악\n",
    "- 품사 정보를 이용하여 각 형태소의 문장 내 역할과 중요도 등을 생각해볼 수 있음"
   ]
  },
  {
   "cell_type": "code",
   "execution_count": 9,
   "metadata": {},
   "outputs": [],
   "source": [
    "import konlpy\n",
    "\n",
    "from konlpy.tag import Komoran\n",
    "from konlpy.tag import Twitter\n",
    "from konlpy.tag import Hannanum\n",
    "\n",
    "komo = Komoran()\n",
    "twit = Twitter()\n",
    "hann = Hannanum()"
   ]
  },
  {
   "cell_type": "code",
   "execution_count": 12,
   "metadata": {},
   "outputs": [
    {
     "name": "stdout",
     "output_type": "stream",
     "text": [
      "Komoran:[('이것', 'NP'), ('은', 'JX'), ('샘플', 'NNG'), ('문장', 'NNG'), ('이', 'VCP'), ('ㅂ니다', 'EF'), ('.', 'SF')]\n",
      "Twitter:[('이', 'Determiner'), ('것', 'Noun'), ('은', 'Josa'), ('샘플', 'Noun'), ('문장', 'Noun'), ('입니', 'Adjective'), ('다', 'Eomi'), ('.', 'Punctuation')]\n",
      "Hannanum:[('이것', 'N'), ('은', 'J'), ('샘플', 'N'), ('문장', 'N'), ('이', 'J'), ('ㅂ니다', 'E'), ('.', 'S')]\n"
     ]
    }
   ],
   "source": [
    "sent = '이것은 샘플 문장입니다.'\n",
    "\n",
    "# Komoran parsing\n",
    "print('Komoran:'+str(komo.pos(sent)))\n",
    "# Twitter parsing\n",
    "print('Twitter:'+str(twit.pos(sent)))\n",
    "# Hannanum parsing\n",
    "print('Hannanum:'+str(hann.pos(sent)))"
   ]
  },
  {
   "cell_type": "code",
   "execution_count": 13,
   "metadata": {},
   "outputs": [
    {
     "name": "stdout",
     "output_type": "stream",
     "text": [
      "Komoran:[('이것', 'NP'), ('은', 'JX'), ('샘플', 'NNG'), ('문장임ㅋㅋㅋ', 'NA')]\n",
      "Twitter:[('이', 'Determiner'), ('것', 'Noun'), ('은', 'Josa'), ('샘플', 'Noun'), ('문장', 'Noun'), ('임', 'Noun'), ('ㅋㅋㅋ', 'KoreanParticle')]\n",
      "Hannanum:[('이것', 'N'), ('은', 'J'), ('샘플', 'N'), ('문장임ㅋㅋㅋ', 'N')]\n"
     ]
    }
   ],
   "source": [
    "sent2 = '이것은 샘플 문장임ㅋㅋㅋ'\n",
    "\n",
    "# Komoran parsing\n",
    "print('Komoran:'+str(komo.pos(sent2)))\n",
    "# Twitter parsing\n",
    "print('Twitter:'+str(twit.pos(sent2)))\n",
    "# Hannanum parsing\n",
    "print('Hannanum:'+str(hann.pos(sent2)))"
   ]
  },
  {
   "cell_type": "markdown",
   "metadata": {},
   "source": [
    "#### 한국어 품사 태그 비교표\n",
    "https://docs.google.com/spreadsheets/d/1OGAjUvalBuX-oZvZ_-9tEfYD2gQe7hTGsgUpiiBSXI8/edit#gid=0"
   ]
  },
  {
   "cell_type": "markdown",
   "metadata": {},
   "source": [
    "#### Word2Vec 모델 학습시키기"
   ]
  },
  {
   "cell_type": "code",
   "execution_count": null,
   "metadata": {},
   "outputs": [],
   "source": [
    "path = r'C:/Projects/keras_talk/AI-Academy-by-SNU/NLP/''"
   ]
  }
 ],
 "metadata": {
  "kernelspec": {
   "display_name": "Python 3",
   "language": "python",
   "name": "python3"
  },
  "language_info": {
   "codemirror_mode": {
    "name": "ipython",
    "version": 3
   },
   "file_extension": ".py",
   "mimetype": "text/x-python",
   "name": "python",
   "nbconvert_exporter": "python",
   "pygments_lexer": "ipython3",
   "version": "3.6.5"
  }
 },
 "nbformat": 4,
 "nbformat_minor": 2
}
