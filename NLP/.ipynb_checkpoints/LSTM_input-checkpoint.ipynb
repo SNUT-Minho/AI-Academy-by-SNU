{
 "cells": [
  {
   "cell_type": "markdown",
   "metadata": {},
   "source": [
    "## The LSTM input layer must be 3D\n",
    "\n",
    " **Samples.** These are the rows in your data. One sample may be one sequence.  \n",
    " **Time steps.** These are the past observations for a feature, such as lag variables.  \n",
    " **Features.** These are columns in your data.\n",
    "\n",
    "#### The input shape argument takes a tuple of two values that define the number of time steps and features."
   ]
  },
  {
   "cell_type": "code",
   "execution_count": 5,
   "metadata": {},
   "outputs": [
    {
     "name": "stdout",
     "output_type": "stream",
     "text": [
      "(10,)\n",
      "(1, 10, 1)\n"
     ]
    }
   ],
   "source": [
    "from numpy import array\n",
    "\n",
    "data = array([0.1, 0.2, 0.3, 0.4, 0.5, 0.6, 0.7, 0.8, 0.9, 1.0])\n",
    "print(data.shape)\n",
    "data = data.reshape((1, 10, 1))\n",
    "print(data.shape)\n",
    "\n",
    "### a three-dimensional array with 1 sample, 10 time steps and 1 feature at each time step\n",
    "\n",
    "### model = Sequential()\n",
    "### model.add(LSTM(32, input_shape=(10, 1)))\n",
    "### ..."
   ]
  },
  {
   "cell_type": "code",
   "execution_count": 4,
   "metadata": {},
   "outputs": [
    {
     "name": "stdout",
     "output_type": "stream",
     "text": [
      "(10, 2)\n",
      "(1, 10, 2)\n"
     ]
    }
   ],
   "source": [
    "data = array([\n",
    "    [0.1, 1.0],\n",
    "    [0.2, 0.9],\n",
    "    [0.3, 0.8],\n",
    "    [0.4, 0.7],\n",
    "    [0.5, 0.6],\n",
    "    [0.6, 0.5],\n",
    "    [0.7, 0.4],\n",
    "    [0.8, 0.3],\n",
    "    [0.9, 0.2],\n",
    "    [1.0, 0.1]])\n",
    "print(data.shape)\n",
    "data = data.reshape(1, 10, 2)\n",
    "print(data.shape)\n",
    "\n",
    "### 1 sample with 10 time steps and 2 features\n",
    "\n",
    "### model = Sequential()\n",
    "### model.add(LSTM(32, input_shape=(10, 2)))\n",
    "### ..."
   ]
  },
  {
   "cell_type": "markdown",
   "metadata": {},
   "source": [
    "LSTM에서 표준적인 상황에서의 input 설정이므로 다른 상황은 아래 참고  \n",
    "https://keras.io/getting-started/sequential-model-guide/"
   ]
  },
  {
   "cell_type": "code",
   "execution_count": null,
   "metadata": {},
   "outputs": [],
   "source": []
  }
 ],
 "metadata": {
  "kernelspec": {
   "display_name": "Python 3",
   "language": "python",
   "name": "python3"
  },
  "language_info": {
   "codemirror_mode": {
    "name": "ipython",
    "version": 3
   },
   "file_extension": ".py",
   "mimetype": "text/x-python",
   "name": "python",
   "nbconvert_exporter": "python",
   "pygments_lexer": "ipython3",
   "version": "3.6.5"
  }
 },
 "nbformat": 4,
 "nbformat_minor": 2
}
