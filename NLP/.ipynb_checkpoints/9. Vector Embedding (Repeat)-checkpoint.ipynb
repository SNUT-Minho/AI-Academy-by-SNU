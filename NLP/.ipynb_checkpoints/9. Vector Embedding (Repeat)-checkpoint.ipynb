{
 "cells": [
  {
   "cell_type": "code",
   "execution_count": 1,
   "metadata": {},
   "outputs": [
    {
     "name": "stderr",
     "output_type": "stream",
     "text": [
      "Using TensorFlow backend.\n"
     ]
    }
   ],
   "source": [
    "from keras.preprocessing.text import one_hot\n",
    "from keras.preprocessing.sequence import pad_sequences\n",
    "from keras.models import Sequential\n",
    "from keras.layers import Dense\n",
    "from keras.layers import Flatten\n",
    "from keras.layers.embeddings import Embedding"
   ]
  },
  {
   "cell_type": "code",
   "execution_count": 2,
   "metadata": {},
   "outputs": [],
   "source": [
    "# define documents\n",
    "docs = ['Well done!',\n",
    "        'Good work',\n",
    "        'Great effort',\n",
    "        'nice work',\n",
    "        'Excellent!',\n",
    "        'Weak',\n",
    "        'Poor effort!',\n",
    "        'not good',\n",
    "        'poor work',\n",
    "        'Could have done better.']\n",
    "# define class labels\n",
    "labels = [1,1,1,1,1,0,0,0,0,0]"
   ]
  },
  {
   "cell_type": "code",
   "execution_count": 5,
   "metadata": {},
   "outputs": [],
   "source": [
    "# integer encode the documents\n",
    "vocab_size = 100\n",
    "encoded_docs = [one_hot(d, vocab_size)for d in docs]"
   ]
  },
  {
   "cell_type": "code",
   "execution_count": 7,
   "metadata": {},
   "outputs": [
    {
     "name": "stdout",
     "output_type": "stream",
     "text": [
      "[[47, 53], [22, 26], [67, 49], [16, 26], [36], [75], [20, 49], [44, 22], [20, 26], [85, 89, 53, 1]]\n"
     ]
    }
   ],
   "source": [
    "print(encoded_docs)"
   ]
  },
  {
   "cell_type": "code",
   "execution_count": 8,
   "metadata": {},
   "outputs": [
    {
     "name": "stdout",
     "output_type": "stream",
     "text": [
      "[[47 53  0  0]\n",
      " [22 26  0  0]\n",
      " [67 49  0  0]\n",
      " [16 26  0  0]\n",
      " [36  0  0  0]\n",
      " [75  0  0  0]\n",
      " [20 49  0  0]\n",
      " [44 22  0  0]\n",
      " [20 26  0  0]\n",
      " [85 89 53  1]]\n"
     ]
    }
   ],
   "source": [
    "max_length = 4\n",
    "padded_docs = pad_sequences(encoded_docs, maxlen = max_length, padding='post')\n",
    "print(padded_docs)"
   ]
  },
  {
   "cell_type": "code",
   "execution_count": 20,
   "metadata": {},
   "outputs": [
    {
     "name": "stdout",
     "output_type": "stream",
     "text": [
      "_________________________________________________________________\n",
      "Layer (type)                 Output Shape              Param #   \n",
      "=================================================================\n",
      "embedding_7 (Embedding)      (None, 4, 8)              800       \n",
      "_________________________________________________________________\n",
      "flatten_2 (Flatten)          (None, 32)                0         \n",
      "_________________________________________________________________\n",
      "dense_2 (Dense)              (None, 1)                 33        \n",
      "=================================================================\n",
      "Total params: 833\n",
      "Trainable params: 833\n",
      "Non-trainable params: 0\n",
      "_________________________________________________________________\n"
     ]
    }
   ],
   "source": [
    "# define the model\n",
    "model = Sequential()\n",
    "model.add(Embedding(vocab_size, 8, input_length=max_length))\n",
    "model.add(Flatten())\n",
    "model.add(Dense(1, activation='sigmoid'))\n",
    "# compile the model\n",
    "model.compile(optimizer='adam', loss='binary_crossentropy', metrics=['acc'])\n",
    "# summarize the model\n",
    "model.summary()"
   ]
  },
  {
   "cell_type": "code",
   "execution_count": 21,
   "metadata": {},
   "outputs": [
    {
     "name": "stdout",
     "output_type": "stream",
     "text": [
      "Epoch 1/50\n",
      "10/10 [==============================] - 0s 22ms/step - loss: 0.6911 - acc: 0.4000\n",
      "Epoch 2/50\n",
      "10/10 [==============================] - 0s 99us/step - loss: 0.6896 - acc: 0.4000\n",
      "Epoch 3/50\n",
      "10/10 [==============================] - 0s 100us/step - loss: 0.6882 - acc: 0.5000\n",
      "Epoch 4/50\n",
      "10/10 [==============================] - 0s 97us/step - loss: 0.6868 - acc: 0.6000\n",
      "Epoch 5/50\n",
      "10/10 [==============================] - 0s 100us/step - loss: 0.6854 - acc: 0.7000\n",
      "Epoch 6/50\n",
      "10/10 [==============================] - 0s 200us/step - loss: 0.6840 - acc: 0.7000\n",
      "Epoch 7/50\n",
      "10/10 [==============================] - 0s 100us/step - loss: 0.6826 - acc: 0.7000\n",
      "Epoch 8/50\n",
      "10/10 [==============================] - 0s 199us/step - loss: 0.6812 - acc: 0.7000\n",
      "Epoch 9/50\n",
      "10/10 [==============================] - 0s 199us/step - loss: 0.6798 - acc: 0.7000\n",
      "Epoch 10/50\n",
      "10/10 [==============================] - 0s 200us/step - loss: 0.6784 - acc: 0.7000\n",
      "Epoch 11/50\n",
      "10/10 [==============================] - 0s 96us/step - loss: 0.6770 - acc: 0.7000\n",
      "Epoch 12/50\n",
      "10/10 [==============================] - 0s 100us/step - loss: 0.6756 - acc: 0.7000\n",
      "Epoch 13/50\n",
      "10/10 [==============================] - 0s 200us/step - loss: 0.6742 - acc: 0.7000\n",
      "Epoch 14/50\n",
      "10/10 [==============================] - 0s 96us/step - loss: 0.6728 - acc: 0.8000\n",
      "Epoch 15/50\n",
      "10/10 [==============================] - 0s 199us/step - loss: 0.6714 - acc: 0.8000\n",
      "Epoch 16/50\n",
      "10/10 [==============================] - 0s 199us/step - loss: 0.6700 - acc: 0.8000\n",
      "Epoch 17/50\n",
      "10/10 [==============================] - 0s 199us/step - loss: 0.6686 - acc: 0.8000\n",
      "Epoch 18/50\n",
      "10/10 [==============================] - 0s 100us/step - loss: 0.6672 - acc: 0.8000\n",
      "Epoch 19/50\n",
      "10/10 [==============================] - 0s 199us/step - loss: 0.6657 - acc: 0.8000\n",
      "Epoch 20/50\n",
      "10/10 [==============================] - 0s 100us/step - loss: 0.6643 - acc: 0.8000\n",
      "Epoch 21/50\n",
      "10/10 [==============================] - 0s 199us/step - loss: 0.6629 - acc: 0.8000\n",
      "Epoch 22/50\n",
      "10/10 [==============================] - 0s 196us/step - loss: 0.6614 - acc: 0.8000\n",
      "Epoch 23/50\n",
      "10/10 [==============================] - 0s 200us/step - loss: 0.6599 - acc: 0.9000\n",
      "Epoch 24/50\n",
      "10/10 [==============================] - 0s 199us/step - loss: 0.6585 - acc: 0.9000\n",
      "Epoch 25/50\n",
      "10/10 [==============================] - 0s 100us/step - loss: 0.6570 - acc: 0.9000\n",
      "Epoch 26/50\n",
      "10/10 [==============================] - 0s 103us/step - loss: 0.6555 - acc: 0.9000\n",
      "Epoch 27/50\n",
      "10/10 [==============================] - 0s 199us/step - loss: 0.6540 - acc: 0.9000\n",
      "Epoch 28/50\n",
      "10/10 [==============================] - 0s 100us/step - loss: 0.6525 - acc: 0.9000\n",
      "Epoch 29/50\n",
      "10/10 [==============================] - 0s 100us/step - loss: 0.6510 - acc: 0.9000\n",
      "Epoch 30/50\n",
      "10/10 [==============================] - 0s 200us/step - loss: 0.6495 - acc: 0.9000\n",
      "Epoch 31/50\n",
      "10/10 [==============================] - 0s 100us/step - loss: 0.6480 - acc: 0.9000\n",
      "Epoch 32/50\n",
      "10/10 [==============================] - 0s 199us/step - loss: 0.6465 - acc: 0.9000\n",
      "Epoch 33/50\n",
      "10/10 [==============================] - 0s 100us/step - loss: 0.6449 - acc: 0.9000\n",
      "Epoch 34/50\n",
      "10/10 [==============================] - 0s 199us/step - loss: 0.6434 - acc: 0.9000\n",
      "Epoch 35/50\n",
      "10/10 [==============================] - 0s 99us/step - loss: 0.6418 - acc: 0.9000\n",
      "Epoch 36/50\n",
      "10/10 [==============================] - 0s 200us/step - loss: 0.6402 - acc: 0.9000\n",
      "Epoch 37/50\n",
      "10/10 [==============================] - 0s 100us/step - loss: 0.6386 - acc: 0.9000\n",
      "Epoch 38/50\n",
      "10/10 [==============================] - 0s 99us/step - loss: 0.6370 - acc: 0.9000\n",
      "Epoch 39/50\n",
      "10/10 [==============================] - 0s 96us/step - loss: 0.6354 - acc: 0.9000\n",
      "Epoch 40/50\n",
      "10/10 [==============================] - 0s 199us/step - loss: 0.6338 - acc: 0.9000\n",
      "Epoch 41/50\n",
      "10/10 [==============================] - 0s 100us/step - loss: 0.6322 - acc: 0.9000\n",
      "Epoch 42/50\n",
      "10/10 [==============================] - 0s 100us/step - loss: 0.6305 - acc: 0.9000\n",
      "Epoch 43/50\n",
      "10/10 [==============================] - 0s 200us/step - loss: 0.6289 - acc: 0.9000\n",
      "Epoch 44/50\n",
      "10/10 [==============================] - 0s 200us/step - loss: 0.6272 - acc: 0.9000\n",
      "Epoch 45/50\n",
      "10/10 [==============================] - 0s 100us/step - loss: 0.6255 - acc: 0.9000\n",
      "Epoch 46/50\n",
      "10/10 [==============================] - 0s 99us/step - loss: 0.6238 - acc: 0.9000\n",
      "Epoch 47/50\n",
      "10/10 [==============================] - 0s 199us/step - loss: 0.6221 - acc: 0.9000\n",
      "Epoch 48/50\n",
      "10/10 [==============================] - 0s 200us/step - loss: 0.6204 - acc: 0.9000\n",
      "Epoch 49/50\n",
      "10/10 [==============================] - 0s 199us/step - loss: 0.6187 - acc: 0.9000\n",
      "Epoch 50/50\n",
      "10/10 [==============================] - 0s 100us/step - loss: 0.6170 - acc: 0.9000\n",
      "10/10 [==============================] - 0s 5ms/step\n",
      "Accuracy: 89.999998\n"
     ]
    }
   ],
   "source": [
    "# fit the model\n",
    "model.fit(padded_docs, labels, epochs=50, verbose=1)\n",
    "# evaluate the model\n",
    "loss, accuracy = model.evaluate(padded_docs, labels, verbose=1)\n",
    "print('Accuracy: %f' % (accuracy*100))"
   ]
  },
  {
   "cell_type": "code",
   "execution_count": null,
   "metadata": {},
   "outputs": [],
   "source": []
  }
 ],
 "metadata": {
  "kernelspec": {
   "display_name": "Python 3",
   "language": "python",
   "name": "python3"
  },
  "language_info": {
   "codemirror_mode": {
    "name": "ipython",
    "version": 3
   },
   "file_extension": ".py",
   "mimetype": "text/x-python",
   "name": "python",
   "nbconvert_exporter": "python",
   "pygments_lexer": "ipython3",
   "version": "3.6.5"
  }
 },
 "nbformat": 4,
 "nbformat_minor": 2
}
