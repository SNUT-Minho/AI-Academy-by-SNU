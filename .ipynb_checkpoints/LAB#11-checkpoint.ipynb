{
 "cells": [
  {
   "cell_type": "code",
   "execution_count": 5,
   "metadata": {},
   "outputs": [],
   "source": [
    "def textsquare(c, size):\n",
    "  result =  \"\"\n",
    "  result = result + c*size + \"\\n\"\n",
    "  for i in range(size-2):\n",
    "    result = result + c\n",
    "    result = result + \" \"*(size-2)\n",
    "    result = result + c + \"\\n\"\n",
    "  result = result + c*size + \"\\n\"\n",
    "  print(result)"
   ]
  },
  {
   "cell_type": "code",
   "execution_count": 8,
   "metadata": {},
   "outputs": [
    {
     "name": "stdout",
     "output_type": "stream",
     "text": [
      "ttttt\n",
      "t   t\n",
      "t   t\n",
      "t   t\n",
      "ttttt\n",
      "\n"
     ]
    }
   ],
   "source": [
    "textsquare('t',5)"
   ]
  },
  {
   "cell_type": "code",
   "execution_count": 17,
   "metadata": {},
   "outputs": [],
   "source": [
    "def vps(vstr):\n",
    "    count = 0\n",
    "    for char in vstr :\n",
    "        if(char==\")\"):\n",
    "            if(count==0):\n",
    "                return \"NO\"\n",
    "            else:\n",
    "                count = count -1\n",
    "        else:\n",
    "            count = count + 1\n",
    "    if(count>0):\n",
    "        return \"NO\"\n",
    "    else:\n",
    "        return \"YES\""
   ]
  },
  {
   "cell_type": "code",
   "execution_count": 20,
   "metadata": {},
   "outputs": [
    {
     "data": {
      "text/plain": [
       "'NO'"
      ]
     },
     "execution_count": 20,
     "metadata": {},
     "output_type": "execute_result"
    }
   ],
   "source": [
    "vps(\"(())(()\")"
   ]
  },
  {
   "cell_type": "code",
   "execution_count": null,
   "metadata": {},
   "outputs": [],
   "source": []
  }
 ],
 "metadata": {
  "kernelspec": {
   "display_name": "Python 3",
   "language": "python",
   "name": "python3"
  },
  "language_info": {
   "codemirror_mode": {
    "name": "ipython",
    "version": 3
   },
   "file_extension": ".py",
   "mimetype": "text/x-python",
   "name": "python",
   "nbconvert_exporter": "python",
   "pygments_lexer": "ipython3",
   "version": "3.6.5"
  }
 },
 "nbformat": 4,
 "nbformat_minor": 2
}
