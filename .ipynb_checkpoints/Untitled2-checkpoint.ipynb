{
 "cells": [
  {
   "cell_type": "code",
   "execution_count": 2,
   "metadata": {},
   "outputs": [],
   "source": [
    "import numpy as np"
   ]
  },
  {
   "cell_type": "code",
   "execution_count": 24,
   "metadata": {},
   "outputs": [
    {
     "name": "stdout",
     "output_type": "stream",
     "text": [
      "0.49999999999999994\n"
     ]
    }
   ],
   "source": [
    "a = np.array([3, 0, 2, 1, 3, 2, 1, 0 , 2, 1])\n",
    "max = 0\n",
    "seta = 0\n",
    "x = 0\n",
    "\n",
    "while(x<=1):\n",
    "        p0 = 2.0*x/3\n",
    "        p1 = x/3.0\n",
    "        p2 = 2.0*(1-x)/3\n",
    "        p3 = (1-x)/3.0\n",
    "        sum = 1.0\n",
    "        for data in a:\n",
    "                if(data == 0):\n",
    "                        sum = sum*p0\n",
    "                       \n",
    "                elif(data==1):\n",
    "                        sum = sum*p1\n",
    "                     \n",
    "                elif(data==2):\n",
    "                        sum = sum*p2\n",
    "                      \n",
    "                else:\n",
    "                        sum = sum*p3\n",
    "        if(sum > max):\n",
    "                max = sum\n",
    "                seta = x\n",
    "        x = x + 0.05       \n",
    "print(seta)"
   ]
  },
  {
   "cell_type": "code",
   "execution_count": null,
   "metadata": {},
   "outputs": [],
   "source": []
  }
 ],
 "metadata": {
  "kernelspec": {
   "display_name": "Python 3",
   "language": "python",
   "name": "python3"
  },
  "language_info": {
   "codemirror_mode": {
    "name": "ipython",
    "version": 3
   },
   "file_extension": ".py",
   "mimetype": "text/x-python",
   "name": "python",
   "nbconvert_exporter": "python",
   "pygments_lexer": "ipython3",
   "version": "3.6.5"
  }
 },
 "nbformat": 4,
 "nbformat_minor": 2
}
