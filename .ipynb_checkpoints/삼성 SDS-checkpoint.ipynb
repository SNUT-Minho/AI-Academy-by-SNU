{
 "cells": [
  {
   "cell_type": "markdown",
   "metadata": {},
   "source": [
    "# Brightics AI"
   ]
  },
  {
   "cell_type": "code",
   "execution_count": null,
   "metadata": {},
   "outputs": [],
   "source": [
    "통계중심분석 / 분석가의 Python, R 선호도 증가\n",
    "다양한 딥러닝 오픈소스 등장, 표준 분석 기능으로 전환\n",
    "\n",
    "#전문 분석가중심에서 업종 전문가 Self-Analytics 증가\n",
    ">사용이 편리한 비주얼 Tool선호\n",
    ">전체 분석의 40%가 자동화되어 생산성이 향상되고 분석모델 확산이 가속화됨\n",
    "(알고리즘, 옵션을 수동선택)-> (최적의 알고리즘, 옵션 자동선택)"
   ]
  },
  {
   "cell_type": "code",
   "execution_count": null,
   "metadata": {},
   "outputs": [],
   "source": [
    "> hyper parameter 튜닝을 자동화\n",
    "> 산업현장에 분석기술 활용돌르 높이기 위해서는 다양한 관련인의 협업이 가능하여야 함"
   ]
  },
  {
   "cell_type": "code",
   "execution_count": null,
   "metadata": {},
   "outputs": [],
   "source": [
    "> 기업에서 발생하는 다양한 Big/Small 데이터 최적화된 모듈라 아키텍쳐로 다양한 AI 알고리즘을 적용하여 쉽고, 빠르게 분석"
   ]
  },
  {
   "cell_type": "code",
   "execution_count": null,
   "metadata": {},
   "outputs": [],
   "source": [
    "> Numeric(센서/계측) / >image(Detect/Map)"
   ]
  },
  {
   "cell_type": "code",
   "execution_count": null,
   "metadata": {},
   "outputs": [],
   "source": [
    "> 다양한 알고리즘 및 업종별 Best Practice 기반 prebuild 분석모델 제공\n",
    "> 분석프로세스별 분석모델 Tutorial 제공ㅠ"
   ]
  },
  {
   "cell_type": "code",
   "execution_count": null,
   "metadata": {},
   "outputs": [],
   "source": [
    "> 데이터분석가 / 개발자 / 시스템운영자\n",
    "> 올 10월에 오픈소스 예정? (시각화/협업 등 ? Brightitcs light)"
   ]
  }
 ],
 "metadata": {
  "kernelspec": {
   "display_name": "Python 3",
   "language": "python",
   "name": "python3"
  },
  "language_info": {
   "codemirror_mode": {
    "name": "ipython",
    "version": 3
   },
   "file_extension": ".py",
   "mimetype": "text/x-python",
   "name": "python",
   "nbconvert_exporter": "python",
   "pygments_lexer": "ipython3",
   "version": "3.6.5"
  }
 },
 "nbformat": 4,
 "nbformat_minor": 2
}
