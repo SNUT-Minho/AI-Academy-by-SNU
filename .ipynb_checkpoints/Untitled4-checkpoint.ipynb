{
 "cells": [
  {
   "cell_type": "code",
   "execution_count": 1,
   "metadata": {},
   "outputs": [],
   "source": [
    "import csv\n",
    "import numpy as np\n",
    "import pandas as pd"
   ]
  },
  {
   "cell_type": "code",
   "execution_count": 3,
   "metadata": {},
   "outputs": [
    {
     "data": {
      "text/plain": [
       "'print (df.head())'"
      ]
     },
     "execution_count": 3,
     "metadata": {},
     "output_type": "execute_result"
    }
   ],
   "source": [
    "df = pd.read_csv('winequality-red.csv', delimiter=';')\n",
    "\"\"\"print (df.head())\"\"\""
   ]
  },
  {
   "cell_type": "code",
   "execution_count": 4,
   "metadata": {},
   "outputs": [],
   "source": [
    "df.loc[df['quality']>5, 'quality'] = 'good'\n",
    "df.loc[df['quality'] != 'good', 'quality'] = 'bad'\n",
    "\n",
    "ind = range(len(df['quality']))\n",
    "ind = np.array(ind)\n",
    "ind = ind%4 !=0\n",
    "\"\"\"print (ind)\"\"\"\n",
    "train = df[ind==True]\n",
    "test = df[ind==False]\n",
    "features = df.columns[:11]\n",
    "\"\"\"print (features)\"\"\"\n",
    "\n",
    "train_x = train[features]\n",
    "train_y = train['quality']\n",
    "test_x = test[features]\n",
    "test_y = test['quality']"
   ]
  },
  {
   "cell_type": "code",
   "execution_count": 19,
   "metadata": {},
   "outputs": [
    {
     "data": {
      "text/plain": [
       "1       0.880\n",
       "2       0.760\n",
       "3       0.280\n",
       "5       0.660\n",
       "6       0.600\n",
       "7       0.650\n",
       "9       0.500\n",
       "10      0.580\n",
       "11      0.500\n",
       "13      0.610\n",
       "14      0.620\n",
       "15      0.620\n",
       "17      0.560\n",
       "18      0.590\n",
       "19      0.320\n",
       "21      0.390\n",
       "22      0.430\n",
       "23      0.490\n",
       "25      0.390\n",
       "26      0.410\n",
       "27      0.430\n",
       "29      0.645\n",
       "30      0.675\n",
       "31      0.685\n",
       "33      0.605\n",
       "34      0.320\n",
       "35      0.645\n",
       "37      0.380\n",
       "38      1.130\n",
       "39      0.450\n",
       "        ...  \n",
       "1559    0.600\n",
       "1561    0.600\n",
       "1562    0.695\n",
       "1563    0.695\n",
       "1565    0.670\n",
       "1566    0.160\n",
       "1567    0.695\n",
       "1569    0.510\n",
       "1570    0.360\n",
       "1571    0.380\n",
       "1573    0.580\n",
       "1574    0.310\n",
       "1575    0.520\n",
       "1577    0.700\n",
       "1578    0.670\n",
       "1579    0.560\n",
       "1581    0.560\n",
       "1582    0.715\n",
       "1583    0.460\n",
       "1585    0.390\n",
       "1586    0.310\n",
       "1587    0.610\n",
       "1589    0.725\n",
       "1590    0.550\n",
       "1591    0.740\n",
       "1593    0.620\n",
       "1594    0.600\n",
       "1595    0.550\n",
       "1597    0.645\n",
       "1598    0.310\n",
       "Name: volatile acidity, Length: 1199, dtype: float64"
      ]
     },
     "execution_count": 19,
     "metadata": {},
     "output_type": "execute_result"
    }
   ],
   "source": [
    "train_x[features[1]]"
   ]
  },
  {
   "cell_type": "code",
   "execution_count": null,
   "metadata": {},
   "outputs": [],
   "source": []
  }
 ],
 "metadata": {
  "kernelspec": {
   "display_name": "Python 3",
   "language": "python",
   "name": "python3"
  },
  "language_info": {
   "codemirror_mode": {
    "name": "ipython",
    "version": 3
   },
   "file_extension": ".py",
   "mimetype": "text/x-python",
   "name": "python",
   "nbconvert_exporter": "python",
   "pygments_lexer": "ipython3",
   "version": "3.6.5"
  }
 },
 "nbformat": 4,
 "nbformat_minor": 2
}
