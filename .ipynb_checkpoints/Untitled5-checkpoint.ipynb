{
 "cells": [
  {
   "cell_type": "code",
   "execution_count": 64,
   "metadata": {},
   "outputs": [],
   "source": [
    "def solution():\n",
    "    lines = [\"2016-09-15 01:00:04.001 2.0s\",\"2016-09-15 01:00:07.000 2s\"]\n",
    "    lines = list(lines)\n",
    "    for job in lines:\n",
    "        time = job[11:23]\n",
    "        process = job[24:-1]\n",
    "        print(time)\n",
    "        print(process)"
   ]
  },
  {
   "cell_type": "code",
   "execution_count": 65,
   "metadata": {},
   "outputs": [
    {
     "name": "stdout",
     "output_type": "stream",
     "text": [
      "01:00:04.001\n",
      "2.0\n",
      "01:00:07.000\n",
      "2\n"
     ]
    }
   ],
   "source": [
    "arr = [\"2016-09-15 01:00:04.001 2.0s\",\"2016-09-15 01:00:07.000 2s\"]\n",
    "solution()"
   ]
  },
  {
   "cell_type": "code",
   "execution_count": null,
   "metadata": {},
   "outputs": [],
   "source": []
  }
 ],
 "metadata": {
  "kernelspec": {
   "display_name": "Python 3",
   "language": "python",
   "name": "python3"
  },
  "language_info": {
   "codemirror_mode": {
    "name": "ipython",
    "version": 3
   },
   "file_extension": ".py",
   "mimetype": "text/x-python",
   "name": "python",
   "nbconvert_exporter": "python",
   "pygments_lexer": "ipython3",
   "version": "3.6.5"
  }
 },
 "nbformat": 4,
 "nbformat_minor": 2
}
