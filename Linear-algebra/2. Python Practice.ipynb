{
 "cells": [
  {
   "cell_type": "markdown",
   "metadata": {},
   "source": [
    "# Cosine similarity를 이용해서 영화 취향이 비슷한 유저를 구하시오"
   ]
  },
  {
   "cell_type": "code",
   "execution_count": 30,
   "metadata": {},
   "outputs": [],
   "source": [
    "import numpy as np\n",
    "import matplotlib.pyplot as plt"
   ]
  },
  {
   "cell_type": "code",
   "execution_count": 27,
   "metadata": {},
   "outputs": [],
   "source": [
    "a = np.array([1, 4.5, 5])\n",
    "b = np.array([2,3.5,4])\n",
    "c = np.array([4,3,1,])\n",
    "d = np.array([5, 2,1])"
   ]
  },
  {
   "cell_type": "code",
   "execution_count": 28,
   "metadata": {},
   "outputs": [],
   "source": [
    "def cosine_similiary(x,y):\n",
    "    result = np.dot(x,y.T) / (np.linalg.norm(x)*np.linalg.norm(y))\n",
    "    return result"
   ]
  },
  {
   "cell_type": "code",
   "execution_count": 29,
   "metadata": {},
   "outputs": [],
   "source": [
    "cos_ab = cosine_similiary(a,b)\n",
    "cos_ac = cosine_similiary(a,c)\n",
    "cos_ad = cosine_similiary(a,d)\n",
    "cos_bc = cosine_similiary(b,c)\n",
    "cos_bd = cosine_similiary(b,d)\n",
    "cos_cd = cosine_similiary(c,d)"
   ]
  },
  {
   "cell_type": "code",
   "execution_count": 32,
   "metadata": {},
   "outputs": [],
   "source": [
    "objects = ('cos_ab','cos_ac','cos_ad','cos_bc','cos_bd','cos_cd')\n",
    "y_pos = np.arange(len(objects))\n",
    "score = [cos_ab,cos_ac,cos_ad,cos_bc,cos_bd,cos_cd]"
   ]
  },
  {
   "cell_type": "code",
   "execution_count": 33,
   "metadata": {},
   "outputs": [
    {
     "data": {
      "image/png": "[encoded data removed]",
      "text/plain": [
       "<Figure size 432x288 with 1 Axes>"
      ]
     },
     "metadata": {},
     "output_type": "display_data"
    }
   ],
   "source": [
    "plt.bar(y_pos,score, align='center', alpha=0.5, color='green')\n",
    "plt.xticks(y_pos, objects)\n",
    "plt.ylabel('score')\n",
    "plt.title('User cosine similarity')\n",
    "\n",
    "plt.show()"
   ]
  },
  {
   "cell_type": "code",
   "execution_count": null,
   "metadata": {},
   "outputs": [],
   "source": []
  }
 ],
 "metadata": {
  "kernelspec": {
   "display_name": "Python 3",
   "language": "python",
   "name": "python3"
  },
  "language_info": {
   "codemirror_mode": {
    "name": "ipython",
    "version": 3
   },
   "file_extension": ".py",
   "mimetype": "text/x-python",
   "name": "python",
   "nbconvert_exporter": "python",
   "pygments_lexer": "ipython3",
   "version": "3.6.5"
  }
 },
 "nbformat": 4,
 "nbformat_minor": 2
}
