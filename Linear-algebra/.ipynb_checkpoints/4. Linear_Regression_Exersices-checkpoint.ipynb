{
 "cells": [
  {
   "cell_type": "markdown",
   "metadata": {},
   "source": [
    "## 선형 회귀 (Linear Regression)\n",
    "\n",
    "1. 손실 함수 (Cost Function, Loss Function)\n",
    "    1. 경사 하강법 (Gradient Descent)\n"
   ]
  },
  {
   "cell_type": "markdown",
   "metadata": {},
   "source": [
    "-----------------------------------------------------------\n",
    "Jupyter Notebook Tips  \n",
    "\n",
    "`Command Mode` (Blue Cell): Edit Mode + ESC  \n",
    "`Edit Mode` (Green Cell): Command Mode + Double Click  \n",
    "\n",
    "Shortcuts:  \n",
    "`Control` + `Enter`: execute the current cell and stay  \n",
    "`______` + `Enter`: execute the current cell and move below  \n",
    "`a`: inset a cell above  \n",
    "`__`: inset a cell below  \n",
    "`x`: cut the current  \n",
    "\n",
    "`;`: to hide output "
   ]
  },
  {
   "cell_type": "markdown",
   "metadata": {},
   "source": [
    "## 0. Import modules"
   ]
  },
  {
   "cell_type": "code",
   "execution_count": 1,
   "metadata": {},
   "outputs": [],
   "source": [
    "import numpy as np\n",
    "import matplotlib.pyplot as plt"
   ]
  },
  {
   "cell_type": "markdown",
   "metadata": {},
   "source": [
    "## 1. Load data"
   ]
  },
  {
   "cell_type": "code",
   "execution_count": 4,
   "metadata": {},
   "outputs": [
    {
     "name": "stdout",
     "output_type": "stream",
     "text": [
      "100 2\n"
     ]
    }
   ],
   "source": [
    "points = np.genfromtxt('test_data.csv', delimiter=',')\n",
    "\n",
    "[m,n] = points.shape\n",
    "# TODO\n",
    "print(m, n)\n",
    "points;"
   ]
  },
  {
   "cell_type": "markdown",
   "metadata": {},
   "source": [
    "### 1.1 Check loaded input"
   ]
  },
  {
   "cell_type": "code",
   "execution_count": 3,
   "metadata": {},
   "outputs": [],
   "source": [
    "# #Extract columns\n",
    "X = np.array(points[:,0]) # 97 x 1\n",
    "Y = np.array(points[:,1]) # 97 x 1\n",
    "X; Y;"
   ]
  },
  {
   "cell_type": "markdown",
   "metadata": {},
   "source": [
    "### 1.2 Plot data"
   ]
  },
  {
   "cell_type": "code",
   "execution_count": null,
   "metadata": {},
   "outputs": [],
   "source": [
    "plt.scatter(X, Y)\n",
    "plt.xlabel('Size of house')\n",
    "# TODO labels, titile\n",
    "# Price of house\n",
    "plt.show()\n"
   ]
  },
  {
   "cell_type": "markdown",
   "metadata": {},
   "source": [
    "## 2. Cost Function"
   ]
  },
  {
   "cell_type": "markdown",
   "metadata": {},
   "source": [
    "$$J(a,b) = \\frac {1}{2m} \\sum_{i=1}^{m} {(h(x_i) - y_i)^{2}}$$\n",
    "\n",
    "$$J(a,b) = \\frac {1}{2m} \\sum_{i=1}^{m} {(a + b * x_i - y_i)^{2}}$$\n",
    "\n",
    "HINT $$J(a,b) = \\frac {1}{2m} \\sum{( (1+X) * (a,b)^{T} - Y )^{2}}$$\n"
   ]
  },
  {
   "cell_type": "markdown",
   "metadata": {},
   "source": [
    "### 2.1 Define cost function without matrix"
   ]
  },
  {
   "cell_type": "code",
   "execution_count": null,
   "metadata": {},
   "outputs": [],
   "source": [
    "def compute_cost(a, b, points):\n",
    "    total_cost = 0\n",
    "    for i in range(0, m): # For all dataset\n",
    "        [x, y] = points[i, 0], points[i, 1]\n",
    "        cost_i = ((a + x * b) - y) ** 2\n",
    "        total_cost = total_cost + cost_i\n",
    "        \n",
    "    return total_cost / (2*m)\n",
    "\n",
    "# TODO: Compute cost for h = 2*x + 1"
   ]
  },
  {
   "cell_type": "markdown",
   "metadata": {},
   "source": [
    "### 2.2 `(TODO)` Define cost function with matrix"
   ]
  },
  {
   "cell_type": "code",
   "execution_count": null,
   "metadata": {},
   "outputs": [],
   "source": [
    "def compute_cost_matrix(a, b, points):\n",
    "    # Hint\n",
    "    ones = np.ones((m, 1))\n",
    "    X = np.array(points[:,[0]])\n",
    "    X_with_one = np.concatenate((ones, X), axis = 1)\n",
    "    \n",
    "    # TODO Compute the total cost using matrix multiplication (dot product)\n",
    "    Y = np.array(points[:,[1]])\n",
    "    ab = np.array([[a],[b]])\n",
    "    total_cost = (np.dot(X_with_one, ab) - Y) **2;\n",
    "    \n",
    "    # Hint\n",
    "    return np.sum(total_cost) / (2*m)\n",
    "\n",
    "\n",
    "# TODO: Compute cost for h = 2*x + 1 using the matrix"
   ]
  },
  {
   "cell_type": "markdown",
   "metadata": {},
   "source": [
    "## 3. Find Optimal a, b"
   ]
  },
  {
   "cell_type": "markdown",
   "metadata": {},
   "source": [
    "### 3.1 Random iteration"
   ]
  },
  {
   "cell_type": "code",
   "execution_count": null,
   "metadata": {},
   "outputs": [],
   "source": [
    "# TODO: Fix the code to find optimal a, b\n",
    "\n",
    "import random\n",
    "\n",
    "Opt_cost = 1 # HINT\n",
    "\n",
    "for i in range (1, 1000):\n",
    "    a = random.random() * 2 + 0 # [0, 2)\n",
    "    b = random.random() * 10 + 0 # [0, 10)\n",
    "    current_cost = compute_cost_matrix(a, b, points)\n",
    "    if Opt_cost > current_cost:\n",
    "        # TODO\n",
    "        \n",
    "        \n",
    "        \n",
    "        \n",
    "        "
   ]
  },
  {
   "cell_type": "markdown",
   "metadata": {},
   "source": [
    "\n",
    "### 3.2 Plot the regression line"
   ]
  },
  {
   "cell_type": "code",
   "execution_count": null,
   "metadata": {},
   "outputs": [],
   "source": [
    "# TODO: Fix the code to find optimal a, b\n",
    "\n",
    "plt.scatter(X, Y)\n",
    "\n",
    "pred = a + b * X\n",
    "plt.plot(X, pred, c='r')\n",
    "\n",
    "plt.xlabel('Size of house')\n",
    "plt.ylabel('Price of house')\n",
    "plt.title('Dataset')\n",
    "plt.show()"
   ]
  },
  {
   "cell_type": "markdown",
   "metadata": {},
   "source": [
    "### 3.3 Plot the dynamics"
   ]
  },
  {
   "cell_type": "code",
   "execution_count": null,
   "metadata": {},
   "outputs": [],
   "source": [
    "# TODO: Combine 3.1 and 3.2 to plot the multiple graphs to see the changes\n",
    "\n",
    "        "
   ]
  },
  {
   "cell_type": "markdown",
   "metadata": {},
   "source": [
    "References\n",
    "1. https://www.coursera.org/learn/machine-learning/home/welcome\n",
    "1. https://github.com/philippbauch/simple-linear-regression-notebook"
   ]
  },
  {
   "cell_type": "markdown",
   "metadata": {},
   "source": [
    "# 암호"
   ]
  },
  {
   "cell_type": "code",
   "execution_count": null,
   "metadata": {},
   "outputs": [],
   "source": [
    "plain_text = np.array([[20, 11], [8, 25], [1, 15], [14, 21]])\n",
    "M = np.array([[1, 2], [6, 7]])\n",
    "\n",
    "# TODO\n"
   ]
  },
  {
   "cell_type": "code",
   "execution_count": null,
   "metadata": {},
   "outputs": [],
   "source": []
  }
 ],
 "metadata": {
  "kernelspec": {
   "display_name": "Python 3",
   "language": "python",
   "name": "python3"
  },
  "language_info": {
   "codemirror_mode": {
    "name": "ipython",
    "version": 3
   },
   "file_extension": ".py",
   "mimetype": "text/x-python",
   "name": "python",
   "nbconvert_exporter": "python",
   "pygments_lexer": "ipython3",
   "version": "3.6.5"
  }
 },
 "nbformat": 4,
 "nbformat_minor": 2
}
