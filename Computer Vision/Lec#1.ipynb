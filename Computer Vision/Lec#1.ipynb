{
 "cells": [
  {
   "cell_type": "markdown",
   "metadata": {},
   "source": [
    "#10"
   ]
  },
  {
   "cell_type": "code",
   "execution_count": null,
   "metadata": {},
   "outputs": [],
   "source": [
    "Blur를 할때 그냥 average하는게 아니라 \n",
    "가까운데는 가중치를 높게주고 먼데는낮게 주고 하는것이 가우시안 스무딩"
   ]
  },
  {
   "cell_type": "code",
   "execution_count": null,
   "metadata": {},
   "outputs": [],
   "source": [
    "Convolution : 필터를 사용해서 새로운 pixel의 값을 얻는다.\n",
    "-> 무조건 홀수갯수의 필터를 사용해야한다. (홀수 by 홀수)\n",
    "-> 필터가 여러개면 각각의 필터로 얻게되는 output image값이 생기게 된다.\n",
    "-> 필터 depths or channel = 필터의 갯수 "
   ]
  },
  {
   "cell_type": "code",
   "execution_count": null,
   "metadata": {},
   "outputs": [],
   "source": [
    "- f,g로 부터 h를 만드는 function -> Convolution\n",
    "g(t-타우)"
   ]
  },
  {
   "cell_type": "code",
   "execution_count": null,
   "metadata": {},
   "outputs": [],
   "source": [
    "- 공을 떨어트린다고 할때 f(A)는 내가 떨어트린 공이 a라는 위치에 떨어질 확률 분포\n",
    "- 여기서 a는 떨어트린지점에서 a만큼 떨어진 지점에 공이 떨어질 확률\n",
    "- 만약 두번떨어트린다고하면 a지점에 떨어진 후 다시 거기서 떨어트리면 b만큼 떨어질확률은?\n",
    "- > F(A)*g(b) 서로 독립사건"
   ]
  },
  {
   "cell_type": "markdown",
   "metadata": {},
   "source": [
    "#15"
   ]
  },
  {
   "cell_type": "code",
   "execution_count": null,
   "metadata": {},
   "outputs": [],
   "source": [
    "- 그럼 이번에는 두번던져서 3만큼 떨어질 확률의 likelihood를 계산하자."
   ]
  },
  {
   "cell_type": "code",
   "execution_count": null,
   "metadata": {},
   "outputs": [],
   "source": [
    "17p\n",
    "f(t) g(t)를 타우로 변환\n"
   ]
  },
  {
   "cell_type": "markdown",
   "metadata": {},
   "source": [
    "#22p"
   ]
  },
  {
   "cell_type": "code",
   "execution_count": null,
   "metadata": {},
   "outputs": [],
   "source": [
    "Convolution은 2개의 f,g 함수를 정의한다.\n",
    "cascade system : f를 h1 conv하고 h2 conv한 g가 나온 결과랑 밑의 수식들은 결과가 동일"
   ]
  },
  {
   "cell_type": "code",
   "execution_count": null,
   "metadata": {},
   "outputs": [],
   "source": [
    "#23\n",
    "- linearity를 이용하면 기존에 계산되어있던 conv값들을 사용해서 af1+bf2등의 값을 구할 수 있다.\n",
    "- O(mnpq) : conv의 계산 복잡도 (m by n image / p by q filter)"
   ]
  },
  {
   "cell_type": "markdown",
   "metadata": {},
   "source": [
    "#24"
   ]
  },
  {
   "cell_type": "code",
   "execution_count": null,
   "metadata": {},
   "outputs": [],
   "source": [
    "- identity operator \n",
    "- + 의 identity 는 0\n",
    "- - 의 identity 도 0\n",
    "그렇다면 convolution의 identity는 뭐냐? -> f*h - > f가 나오는 h가 뭐냐?\n",
    "-> 답은 Dirac Delta function 이다. \n",
    "두가지 특성의 Dirac\n",
    "1. area의 넓이는 1, 폭이 무한대로 작은 폭, 이거를 델타(t)로 정의함  \n",
    "왼쪽 입실론 / 오른쪽 입실론 / lim 입실론 -> 0 으로\n",
    "2. zero에서만 값을 가진다. 대신 전체에 대한 integral은 1이다."
   ]
  },
  {
   "cell_type": "markdown",
   "metadata": {},
   "source": [
    "#25"
   ]
  },
  {
   "cell_type": "code",
   "execution_count": null,
   "metadata": {},
   "outputs": [],
   "source": [
    "- Dirac delta의 예\n",
    "-> - 타우 에서 integral -무한 +무한의 자리를 바꾸면 +타우로 정의가능\n",
    "A = 0에서 F(타우)델타(타우)값을 얻을 수 있다.\n",
    "Dirac delta는 0이 아닌 곳에서는 모드 0을 가지므로 두번째 수식 가능\n",
    "-> 마지막에 integral Deiracdelta 는 1이므로 -> 결과는 f(0)"
   ]
  },
  {
   "cell_type": "markdown",
   "metadata": {},
   "source": [
    "#26"
   ]
  },
  {
   "cell_type": "code",
   "execution_count": null,
   "metadata": {},
   "outputs": [],
   "source": [
    "- image에 h를 적용하기위해서는 flip을 한다. / 근데 CNN에서는 FLIP을 안한다.\n",
    "- 공식적으로는 필터를 FLIP하지만, 많은 경우에는 CNN에서는 굳이 FLIP과정을 하지 않는다.\n",
    "- Cross correlation은 conv랑 다똒같은데 flip만 안한거다."
   ]
  },
  {
   "cell_type": "markdown",
   "metadata": {},
   "source": [
    "#27"
   ]
  },
  {
   "cell_type": "markdown",
   "metadata": {},
   "source": [
    "[Border Problem]\n",
    "ignore : input과 output의 사이즈가 달라진다.\n",
    "pdding: zero padding 바깥을 다 0으로 채움 (이걸 가장 많이 쓴다)\n",
    "reflection: 반대쪽에 있는거 가져옴"
   ]
  },
  {
   "cell_type": "markdown",
   "metadata": {},
   "source": [
    "# Gaussian Smootihing"
   ]
  },
  {
   "cell_type": "markdown",
   "metadata": {},
   "source": [
    "#30"
   ]
  },
  {
   "cell_type": "code",
   "execution_count": null,
   "metadata": {},
   "outputs": [],
   "source": [
    "- 이미지를 blur하게 만드는것\n",
    "- 이미지를 할때는 주로 blur를 하고 operation을 적용하는 경우가 많다\n",
    "-> 가우시안으로 blurring을하고 CNN적용하는 경우도 있다.\n",
    "- 같이 옆에 붙어있는 PIXEL 들끼리 Averge를 반복적으로 실행한다\n",
    "\n",
    "n = 1 -> /2\n",
    "n = 2 -> /4\n",
    "n = 3 -> /8\n",
    "\n",
    "-> 결국 n=2일때의 값은 origin pixel에 1/2/1 Conv를 적용한 값이랑 동일하다.\n",
    "- Iterative averaging = 가우시안 스무딩\n",
    "-> 얼마나 iterative 할건지는 나중에 시그마로 결정하게된다. (시그마가 크면 넓고 평평/ 작으면 가운데가 솟아오른다)\n",
    "가우시안 필터를 가지고 COnv를 하면 repeated avergae가 만들어지게된다?"
   ]
  },
  {
   "cell_type": "code",
   "execution_count": null,
   "metadata": {},
   "outputs": [],
   "source": [
    "- 가우시안 필터를 정의하고 개를 이미지에 대해서 COnv하면 가우시안 smooting이 적용된 이미지가 나오게 된다.\n",
    "- 그럼 filter사이즈를 어덯게 정할 것인가? 그것은 시그마의값에 달려있다."
   ]
  },
  {
   "cell_type": "markdown",
   "metadata": {},
   "source": [
    "# 33"
   ]
  },
  {
   "cell_type": "code",
   "execution_count": null,
   "metadata": {},
   "outputs": [],
   "source": [
    "2D Gaussian is separable: 2d말고 1d를 써서 세로/가로로 돌려서 filter하면 결과값은 같다\n",
    "n*2 = 1D\n",
    "n*n = 2D\n",
    "n이 커지면 커질수록 더 좋다."
   ]
  },
  {
   "cell_type": "code",
   "execution_count": null,
   "metadata": {},
   "outputs": [],
   "source": [
    "mean filter를 쓰면 그냥 111111111/9 -> 이거 쓰면 그림에 선이생기게됨 쓰지마셈\n",
    "요즘은 filter size를 3/3 혹은 5/5 같이 작은거를 쓴다."
   ]
  },
  {
   "cell_type": "code",
   "execution_count": null,
   "metadata": {},
   "outputs": [],
   "source": [
    "# Median 전에 끝"
   ]
  }
 ],
 "metadata": {
  "kernelspec": {
   "display_name": "Python 3",
   "language": "python",
   "name": "python3"
  },
  "language_info": {
   "codemirror_mode": {
    "name": "ipython",
    "version": 3
   },
   "file_extension": ".py",
   "mimetype": "text/x-python",
   "name": "python",
   "nbconvert_exporter": "python",
   "pygments_lexer": "ipython3",
   "version": "3.6.5"
  }
 },
 "nbformat": 4,
 "nbformat_minor": 2
}
