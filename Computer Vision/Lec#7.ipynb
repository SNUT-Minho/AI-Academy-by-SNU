{
 "cells": [
  {
   "cell_type": "markdown",
   "metadata": {},
   "source": [
    "# Segmenatation"
   ]
  },
  {
   "cell_type": "code",
   "execution_count": null,
   "metadata": {},
   "outputs": [],
   "source": [
    "8p\n",
    "안좋은예 : 너무 많이 나뉘었다."
   ]
  },
  {
   "cell_type": "markdown",
   "metadata": {},
   "source": [
    "9p\n",
    "topdown 은 일단 문제를 먼저인식한뒤에 segmentation 하는 것이다."
   ]
  },
  {
   "cell_type": "code",
   "execution_count": null,
   "metadata": {},
   "outputs": [],
   "source": [
    "12p\n",
    "Mean shift: \n",
    "\n",
    "13p\n",
    "density estimation : 관찰된 값들을 distribution function으로 approximation으로 한다. (parametric function)\n",
    "\n",
    "non-parametric function = historgram을 그냥 이용\n",
    "\n",
    "kernel denstiy estimation: 오른쪽 아래 파란색 이 실제 distribution\n",
    "(non-parametric하게 distribution을 나타내고 싶다? 그럼 기본이 되는 kernal을 정하고\n",
    "해당 kernal들의 합으로 distirbution을 표현한다.) 얘도 non-parametric이다,\n",
    "즉 parametric 을 여러개 써서 마치 히스토그램같이 걔내들의 합으로 distirbution을 표현한다. \n",
    "여기서 h가 작으면 뾰족한 kernel사용? / n은 커널의 갯수 / xi는 각 kernel의 mean"
   ]
  },
  {
   "cell_type": "code",
   "execution_count": null,
   "metadata": {},
   "outputs": [],
   "source": [
    "14p\n",
    "mean shift algorithm\n",
    "find maximun value in non-parametric distribution -> 각 mode별로 클러스터링 하자"
   ]
  },
  {
   "cell_type": "code",
   "execution_count": null,
   "metadata": {},
   "outputs": [],
   "source": [
    "15p\n"
   ]
  },
  {
   "cell_type": "code",
   "execution_count": null,
   "metadata": {},
   "outputs": [],
   "source": [
    "22p\n",
    "m(x) : mean shift vector / x포인트에서 x'포인트 까지의 vector / 여기서 전체 -x는 파란색 원부분을 뜻한다.\n",
    "결국 원의 중심에서 부터 weighted sum(가우시안)을 의미한다. (원에서 가까운 부분은 가중치 높게)\n",
    "여기서 h를 적게주면 원에서 조금만 멀어져도 wegith가 0 이 되어버린다."
   ]
  },
  {
   "cell_type": "code",
   "execution_count": null,
   "metadata": {},
   "outputs": [],
   "source": [
    "26p\n",
    "bandwidth: key-parameter -> "
   ]
  },
  {
   "cell_type": "code",
   "execution_count": null,
   "metadata": {},
   "outputs": [],
   "source": [
    "28p\n",
    "같은 색깔로 칠해진 애들은 하나의 cluster이다."
   ]
  },
  {
   "cell_type": "code",
   "execution_count": null,
   "metadata": {},
   "outputs": [],
   "source": [
    "29p\n",
    "클러스터를 할때 k를 줄필요가없어서 cluster의 갯수가 variable하다.\n",
    "k-means와는 다르게 outlier가 있으면 그냥 걔가 unique한 클러스터가 되버린다.\n",
    "\n",
    "단점: 차원이 높으면 curse of dimensionlaity "
   ]
  },
  {
   "cell_type": "code",
   "execution_count": null,
   "metadata": {},
   "outputs": [],
   "source": [
    "32p Boundary-based\n",
    "최소점에 물을 점점 채워넣어서 합쳐지는 지점에 댐을 지으면 segmentation이 된다?"
   ]
  },
  {
   "cell_type": "code",
   "execution_count": null,
   "metadata": {},
   "outputs": [],
   "source": [
    "38p\n",
    "각 pixel을 node로 정하고 각 node끼리의 similiary를 구한다."
   ]
  },
  {
   "cell_type": "code",
   "execution_count": null,
   "metadata": {},
   "outputs": [],
   "source": [
    "39p\n",
    "sigma가 작으면 아주 가까이있는 놈들만 non-zero 즉 하얀색으로 나타난다."
   ]
  },
  {
   "cell_type": "code",
   "execution_count": null,
   "metadata": {},
   "outputs": [],
   "source": [
    "41p\n",
    "약한 연결을 짜르자 \n",
    "A/B는 graph\n",
    "u는 A / v는 B\n",
    "W(u,v) a와 b 노드 사이의 weight가 최소가 되도록 하는 a/b를 찾아보자"
   ]
  },
  {
   "cell_type": "code",
   "execution_count": null,
   "metadata": {},
   "outputs": [],
   "source": [
    "42p\n",
    "근데 41p의 값을 optimize하는 값으로 찾으면 제대로 안짜를수도 있다.\n",
    "식을 보면 B에 속한 node를 그냥 하나로 만들어버리면 link의 숫자 자체가 줄어드니깐 값이 좋아짐 \n",
    "따라서 이거때문에 제대로 cut을 하지 못하게 된다.\n",
    "\n",
    "하나가 압도적으로 크고 압도적으로 작으면 오히려 vol(A,B)의 값이 커지게된다?\n",
    "-> 적당히 반으로 나누는게 좋아진다. 서로 vol size가 비슷해 지도록.]]\n",
    "\n",
    "vol(A) 해당 노드들이 가지고 있는 link weight의 합\n",
    "\n",
    "-> normalize 이기때문에 각 cluster 들의 크기가 비슷하다."
   ]
  }
 ],
 "metadata": {
  "kernelspec": {
   "display_name": "Python 3",
   "language": "python",
   "name": "python3"
  },
  "language_info": {
   "codemirror_mode": {
    "name": "ipython",
    "version": 3
   },
   "file_extension": ".py",
   "mimetype": "text/x-python",
   "name": "python",
   "nbconvert_exporter": "python",
   "pygments_lexer": "ipython3",
   "version": "3.6.5"
  }
 },
 "nbformat": 4,
 "nbformat_minor": 2
}
