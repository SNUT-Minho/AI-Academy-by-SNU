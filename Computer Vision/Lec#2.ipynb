{
 "cells": [
  {
   "cell_type": "markdown",
   "metadata": {},
   "source": [
    "# Median Fliter"
   ]
  },
  {
   "cell_type": "code",
   "execution_count": null,
   "metadata": {},
   "outputs": [],
   "source": [
    "- 가우시안 필터의 문제점 : \n",
    "    1. Blurs edges (에지 정보가 중요한데 이거를 없애버림)\n",
    "    2. Sensitive to outliers : 노이즈 때문에 주변에 멀쩡하던 애들도 값이 변해버림"
   ]
  },
  {
   "cell_type": "code",
   "execution_count": null,
   "metadata": {},
   "outputs": [],
   "source": [
    "-> Median Filter로 바꾸자 / 근데 문제점은 이거는 Convolution으로 구현하기가 불가능하다.\n",
    "-> Median filter를 적용하면 Cortoonaization이 되어버림 (image가 만화처럼 보임)\n",
    "-> 근처의 애들은 비슷한 값을 가지게됨\n",
    "가우시안 Noise는 x값 + 입실론(노이즈) / 여기서 입실론은 ~ N(0,1)을 따른다."
   ]
  },
  {
   "cell_type": "markdown",
   "metadata": {},
   "source": [
    "# Cross-Correlation "
   ]
  },
  {
   "cell_type": "code",
   "execution_count": null,
   "metadata": {},
   "outputs": [],
   "source": [
    ": FLIP을 안하면 (해당 TEMPLE이 이미지 상에 있느냐? 어디에 존재하냐를 찾을때 사용)\n",
    "- 41p 공식 두번쨰줄- 2f(m,n)~~로 바꾸자 (pdf에는 +로 나와있음)\n",
    "- 똑같은애 가지고 cross를 돌리면 Auto-correlation이다"
   ]
  },
  {
   "cell_type": "code",
   "execution_count": null,
   "metadata": {},
   "outputs": [],
   "source": [
    "! 중요\n",
    "- C가 값자체가 커서 원하는 결과가 안나올 수 있다 - > Nomarlization을 해라! "
   ]
  },
  {
   "cell_type": "markdown",
   "metadata": {},
   "source": [
    "# Fourier Transformation"
   ]
  },
  {
   "cell_type": "code",
   "execution_count": null,
   "metadata": {},
   "outputs": [],
   "source": [
    "- spatial filter: 이미지 공간상에서 적용하는 필터\n",
    "- 위그림이랑 아래그림이랑 동일하다 / \n",
    "direct fourier -> frequency -> inverse fourier 로 output 구하면 동일하다.\n",
    "- 기존 시그널을 frequency domain으로 변경하고 -> filter- > inverse fourier 한다."
   ]
  },
  {
   "cell_type": "code",
   "execution_count": null,
   "metadata": {},
   "outputs": [],
   "source": [
    "A: 위아래 크기 (-1~ 1)\n",
    "F라는 sin/cos 시그널을 계속 더하면 어떤 singal도 표현할 수 있다. (주기함수)\n",
    "W: 2파이 동안 얼마만큼 frequency가 있느나\n",
    "파이 : 0을 기준으로 얼마만큼 shift 되어있느냐?"
   ]
  },
  {
   "cell_type": "code",
   "execution_count": null,
   "metadata": {},
   "outputs": [],
   "source": [
    "8p\n",
    "- 여기서 2파이f를 x앞에 곱해준것은 이 f를 common frequency라는 것이다.\n",
    "- 왼쪾위의 original signal을  Frequency spectra로 나타낼수 있다. Amplitude와 frequency로\n",
    "이 그래프는 f라는 frequency와 3f라는 frequency를 가지는 것으로 표현할 수 있다.\n",
    "\n",
    "- 그럼 주기함수가 얼마나 이세상에 존재 할 까? 대부분의 음성"
   ]
  },
  {
   "cell_type": "code",
   "execution_count": null,
   "metadata": {},
   "outputs": [],
   "source": [
    "10p\n",
    "f(X) ; 관심있는 시그널\n",
    "EXP(-iWx) = 오일러 equation을 활용해서 표현한 주기함수 공식? "
   ]
  },
  {
   "cell_type": "code",
   "execution_count": null,
   "metadata": {},
   "outputs": [],
   "source": [
    "C: complext number 복소수로 바뀌어서 표현된다? \n",
    "Fourier transform을 적용하고난 결론은 complex 넘버로 표현된다."
   ]
  },
  {
   "cell_type": "markdown",
   "metadata": {},
   "source": [
    "12p \n",
    "Frequency로 부터 f(x)를 다시 얻는다.\n",
    "Dirac delta에 Fourier 적용하면 1\n",
    "1에다 다시 inverse Foiurider 적용하면 Dirac delta\n",
    "\n",
    "-> fourier를 적용하면 dirac delta로 이루어진 그래프로 변환된다?"
   ]
  },
  {
   "cell_type": "markdown",
   "metadata": {},
   "source": [
    "# Fourier Transform and Convolution"
   ]
  },
  {
   "cell_type": "code",
   "execution_count": null,
   "metadata": {},
   "outputs": [],
   "source": [
    "15p\n",
    "f*h를 conv한 결과값인 g를 fourier하면 G(w)인데 이거를 풀면 f-> fourier h-> fourier 를 곱한 값과 같다.\n",
    "- * : Conv\n",
    "- x : 곱하기\n",
    "-> 즉 16p는 만약 conv하기 귀찮다? 그러면 h를 fourier하고 f를 fourier해서 곱한후 inverse fourier하면 conv한 g의 값이 나오게된다.\n"
   ]
  },
  {
   "cell_type": "code",
   "execution_count": null,
   "metadata": {},
   "outputs": [],
   "source": [
    "가우시안은 high frquency는 0으로 죽여주고\n",
    "low frequency를 살린다?   // 30p"
   ]
  },
  {
   "cell_type": "code",
   "execution_count": null,
   "metadata": {},
   "outputs": [],
   "source": [
    "이미지에서 예를 들면 픽셀의 패턴값이 낮게 변하면 low frequnecy\n",
    "high frequency는 주로 edge에서 발생한다."
   ]
  },
  {
   "cell_type": "code",
   "execution_count": null,
   "metadata": {},
   "outputs": [],
   "source": [
    "25p 어떤 이미지던 위와 같은 frequency 들의 sum으로 표현가능하다."
   ]
  },
  {
   "cell_type": "code",
   "execution_count": null,
   "metadata": {},
   "outputs": [],
   "source": [
    "28p\n",
    "- fftshif는 u=0 v=0인 값이 가운데로 오도록 shift\n",
    "u,v 값이 커지면 -> frequency가 빨리 변하는것\n",
    "FT된 그림 중심에서 멀어질수록 Frequency가 빨리 변하는 부분이다."
   ]
  }
 ],
 "metadata": {
  "kernelspec": {
   "display_name": "Python 3",
   "language": "python",
   "name": "python3"
  },
  "language_info": {
   "codemirror_mode": {
    "name": "ipython",
    "version": 3
   },
   "file_extension": ".py",
   "mimetype": "text/x-python",
   "name": "python",
   "nbconvert_exporter": "python",
   "pygments_lexer": "ipython3",
   "version": "3.6.5"
  }
 },
 "nbformat": 4,
 "nbformat_minor": 2
}
