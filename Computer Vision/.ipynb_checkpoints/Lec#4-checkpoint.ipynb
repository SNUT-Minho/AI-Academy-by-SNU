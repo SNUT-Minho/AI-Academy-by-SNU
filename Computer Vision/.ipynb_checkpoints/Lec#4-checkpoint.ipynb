{
 "cells": [
  {
   "cell_type": "markdown",
   "metadata": {},
   "source": [
    "# Edge"
   ]
  },
  {
   "cell_type": "code",
   "execution_count": null,
   "metadata": {},
   "outputs": [],
   "source": [
    "surface normal: 물체의 shape이 변경\n",
    "depth: object boundary\n",
    "7p \n",
    "edge dection을 하려면 top down과 bottom up을 모두 사용해야된다.\n",
    "Gradient: 미분의 변화량을 봐서 그게 얼마나 큰지를 보고 edge를 detect한다.\n"
   ]
  },
  {
   "cell_type": "code",
   "execution_count": null,
   "metadata": {},
   "outputs": [],
   "source": [
    "9p\n",
    "b1원 영역은 양수\n",
    "b2영역은 음수\n",
    "edge는 0이 되어버린다.\n",
    "이걸로 ideal edge를 탐색할 수있다.\n",
    "- Unit step function: "
   ]
  },
  {
   "cell_type": "code",
   "execution_count": null,
   "metadata": {},
   "outputs": [],
   "source": [
    "시그마 크면 -> 노이즈는 적지만 엣지 detect 성능은 줄어든다."
   ]
  },
  {
   "cell_type": "code",
   "execution_count": null,
   "metadata": {},
   "outputs": [],
   "source": [
    "20p\n",
    "-> Laplacian of Gausian -> max찾기는 귀찭다 \n",
    "-> 그냥 zero crossing만 찾아서 edge detection만 하자. 할떄 사용"
   ]
  },
  {
   "cell_type": "code",
   "execution_count": null,
   "metadata": {},
   "outputs": [],
   "source": [
    "22p\n",
    "가우시안과 가우시안을 뺀 그래프 == Lafalce \n",
    "두개의 시그마가다른 가우시안의 차를 그래프로 그리면 라플라스로 approximation할 수 있다.\n",
    "\n",
    "-> 다시 이전 pdf로\n",
    "라플라시안만 쓰면 노이즈가 생기기떄문에\n",
    "라플라시안 of 가우시아을 쓴다.\n",
    "\n",
    "근데 이게 시간이 많이 걸리니깐\n",
    "difference of 가우시안으로 approximation해서 쓴다.\n"
   ]
  },
  {
   "cell_type": "code",
   "execution_count": null,
   "metadata": {},
   "outputs": [],
   "source": [
    "가우시안 vs 라플라스 of 가우시안 / 둘중하나로 edge detection을 해라?"
   ]
  }
 ],
 "metadata": {
  "kernelspec": {
   "display_name": "Python 3",
   "language": "python",
   "name": "python3"
  },
  "language_info": {
   "codemirror_mode": {
    "name": "ipython",
    "version": 3
   },
   "file_extension": ".py",
   "mimetype": "text/x-python",
   "name": "python",
   "nbconvert_exporter": "python",
   "pygments_lexer": "ipython3",
   "version": "3.6.5"
  }
 },
 "nbformat": 4,
 "nbformat_minor": 2
}
