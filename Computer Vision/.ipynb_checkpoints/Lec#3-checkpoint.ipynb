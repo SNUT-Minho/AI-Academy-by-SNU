{
 "cells": [
  {
   "cell_type": "code",
   "execution_count": null,
   "metadata": {},
   "outputs": [],
   "source": [
    "그냥 row랑 colum으로 짤라서 scaling하는 것은 좋지 않다.\n",
    "검흰의 순서가 반복 -> 기존 패턴을 반복\n",
    "무작정 sampling rate을 올린다고 좋은게 아니다.\n",
    "curse of dimensionality\n",
    "만약 2차원이면 샘플링할때 예를들어 100*100\n",
    "3차원 -> 100*100*100 \n",
    "즉 단순히 이렇게 sampling하면 너무 커지게된다.? (어렵다)"
   ]
  },
  {
   "cell_type": "code",
   "execution_count": null,
   "metadata": {},
   "outputs": [],
   "source": [
    "7p\n",
    "원래 시그널보다 샘플링이 너무 크다? 왼쪽 맨위부분이 aliasing 효과이다.\n",
    "오른족 아래는 100개로 표현한 sample이라면\n",
    "왼쪽은 10개로 표현한? "
   ]
  },
  {
   "cell_type": "code",
   "execution_count": null,
   "metadata": {},
   "outputs": [],
   "source": [
    "8p \n",
    "원래 시그널에비해서 빨간색을 연결해서 보면 시그널이 frequency가 넓어보인다\n",
    "실제는 frequency가 점점빨라짐에도 불구하고\n",
    "(즉 sampling rate가 너무 적다 -> 등간격으로 샘플링을 하면안됨)\n",
    "-> 천천히 변하는곳에서는 듬성듬성하고 \n",
    "-> 빨리변하는곳에서는 샘플링수는 높이자. (비디오 등에서 이런 현상을 많이 볼수 잇다.)"
   ]
  },
  {
   "cell_type": "code",
   "execution_count": null,
   "metadata": {},
   "outputs": [],
   "source": [
    "- 바퀴가 도는데 뒤로 도는듯한 현상으로 보일때가 잇다\n",
    "왜그러냐? -> 비디오의 sampling문제? "
   ]
  },
  {
   "cell_type": "code",
   "execution_count": null,
   "metadata": {},
   "outputs": [],
   "source": [
    "11p\n",
    "-> 그럼 어떤 샘플링 rate이 최적이냐? 촘촘하면 촘촘할 수록 좋은데 -> 그렇게 하면 Dimension이 커지면 sampling수를 무작정 늘릴수는 없다.\n",
    "각각의 화살표는 Dirac Delta function이다\n",
    "Shah function: x0의 간격을 가지고 dirac delta function이 계속 나타나는 function을 나타낸다.\n",
    "Sampled function => 아래 shah function을 그냥 continuous singald에 올려서 계산\n",
    "-> 그냥 단순히 sampling한 값들의 sum을 수식으로 나타낸것임\n",
    "    "
   ]
  },
  {
   "cell_type": "code",
   "execution_count": null,
   "metadata": {},
   "outputs": [],
   "source": [
    "12p \n",
    "원래 f가 다양한 frequency들을 가지고 있는데\n",
    "여기서 오메가 max는 이 f가 가지고 잇는 가장 frqequncy가 높은것에 해당 하는 frequency\n",
    "만약 겹치게되면 frequency가 높은 부분의 정보를 잃어버리게 된다.\n",
    "그럼 어덯게 샘플링해야되냐?\n",
    "-> 먼저 각자 frequency를 탐구해서 max frequecny를 찾아내고, 그거에 2배를 해야된다?\n",
    "-> 1주기에 샘플링 갯수가 최소 2개는 있어야한다. (8p의 빨간점) - > 그래야지만 원래 정보를 복원할 수 있따.\n",
    "\n",
    "-> 가우시안 스무딩을해서 -> 고주파를 날린다음에 샘플링을 해야 안전하다? (W max를 낮추라?)\n",
    "-> 아티팩트(기존에는 없는 패턴)를 없애는거지 고화질을 사진을 얻는것은 아님. "
   ]
  },
  {
   "cell_type": "code",
   "execution_count": null,
   "metadata": {},
   "outputs": [],
   "source": [
    "23p\n",
    "가우시안 할때 시그마 값을 어떻게 줄까?\n",
    "-> 라플라시안 부분 나중에 다시ㄱㄱ"
   ]
  }
 ],
 "metadata": {
  "kernelspec": {
   "display_name": "Python 3",
   "language": "python",
   "name": "python3"
  },
  "language_info": {
   "codemirror_mode": {
    "name": "ipython",
    "version": 3
   },
   "file_extension": ".py",
   "mimetype": "text/x-python",
   "name": "python",
   "nbconvert_exporter": "python",
   "pygments_lexer": "ipython3",
   "version": "3.6.5"
  }
 },
 "nbformat": 4,
 "nbformat_minor": 2
}
