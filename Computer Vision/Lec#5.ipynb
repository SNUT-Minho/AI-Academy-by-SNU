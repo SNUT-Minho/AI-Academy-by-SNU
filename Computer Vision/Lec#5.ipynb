{
 "cells": [
  {
   "cell_type": "markdown",
   "metadata": {},
   "source": [
    "# edge"
   ]
  },
  {
   "cell_type": "code",
   "execution_count": null,
   "metadata": {},
   "outputs": [],
   "source": [
    "26p\n",
    "Sx = x방향의 gradient i/x (미분)\n",
    "Sy = y방향의 gradient i/y (미분)\n",
    "\n",
    "27p \n",
    "graident magnitue의 edge부분에서 가장 높은값만 남기고 나머지 부분은 죽여준다.\n",
    "-> sharp 한 edge를 얻을 수 있다.\n",
    "\n",
    "Non-maximum인 애들을 없애버린다."
   ]
  },
  {
   "cell_type": "code",
   "execution_count": null,
   "metadata": {},
   "outputs": [],
   "source": [
    "30p\n",
    "pixel의 값이 미리정한 값보다 커지면 edge고 아니면 0이다\n",
    "근데 이렇게 string thresholidg인 이걸 적용하면 -> 모자챙 edge중에서 끊겨잇는부분은 버리게되기때문에\n",
    "-> continous하게 할 수 없다.\n",
    "\n",
    "이걸 방지하기위해서 -> threshold를 두개 쓰자\n",
    "-> 끊겨있는 부분을 continous하게 detect하기위해서 사용됨.\n",
    "\n",
    "31p \n",
    "시그마를 크게하면 -> 노이즈는 적고 완전히 강한 edge detect한다.\n",
    "시그마 작으면 -> 노이즈도 detect할 경우가 높아진다.\n",
    "\n",
    "이미지마다 이런 파라미터들이 다르다. "
   ]
  },
  {
   "cell_type": "markdown",
   "metadata": {},
   "source": [
    "# Camera"
   ]
  },
  {
   "cell_type": "code",
   "execution_count": null,
   "metadata": {},
   "outputs": [],
   "source": [
    "- Pinhole Camera\n",
    "이미지의 한포인트와 색의 한포인트만 매칭이되어야지 -> one to one이 되야됨\n",
    "-> hole이 없으면 한 포인트에 온갖종류의 값이 들어와서 -> 평균된 값이 되어버림 "
   ]
  },
  {
   "cell_type": "code",
   "execution_count": null,
   "metadata": {},
   "outputs": [],
   "source": [
    "25p\n",
    "magnification: 실제 1cm움직였을때 이미지가 얼만큼 움직엿는가?\n",
    "멀리서 움직이면 크게 움직인다? (z)"
   ]
  },
  {
   "cell_type": "code",
   "execution_count": null,
   "metadata": {},
   "outputs": [],
   "source": [
    "27p\n",
    "pinhole읨 문제점: hole을 작게놓을거냐 크게놓을거냐\n",
    "hole을 작게: 통과하는 빛의 절대량이 적기 떄문에 흐릿해진다.\n",
    "hole이 크면: blur효과가 발생- > 하나의 point에서 여러개의 값이 들어와서 average된다.\n",
    "\n",
    "image plane은 x,y랑은 평행하고 z라는 수직이다.\n"
   ]
  },
  {
   "cell_type": "code",
   "execution_count": null,
   "metadata": {},
   "outputs": [],
   "source": [
    "28p\n",
    "포인트가 너무작으면은 빛이 굴절이된다 삐뚤어진다.\n",
    "d  = 구멍의 크기\n",
    "\n",
    "32p\n",
    "plane이 image plnae과 완전히 평행하다.\n",
    "\n",
    "o는 camera center\n",
    "실제는 image plane이 effective forcal length만큼 뒤에잇는데 \n",
    "현실에서 그 f만큼 떨어진거를 그냥 camera center 앞쪽으로 f만큼으로 이동시키면\n",
    "projection equaiton을 부호만 바뀐값이 나온다. (x,y 의 부호가 바뀜)"
   ]
  },
  {
   "cell_type": "code",
   "execution_count": null,
   "metadata": {},
   "outputs": [],
   "source": [
    "34p\n",
    "line in the scene = 철길 \n",
    "평행한 선들을 image plane으로 그리면 결국엔 vanishpoint에서 만나게된다.\n",
    "평행 선들의 방향이 달라지면 -> 다른 vanishing point를 가진다.\n",
    "예외(direction보는 방향에서 평행한 라인 예시 철길과 수직으로 평행한 라인? )"
   ]
  },
  {
   "cell_type": "code",
   "execution_count": null,
   "metadata": {},
   "outputs": [],
   "source": [
    "35p \n",
    "땅바닥의 모든 평행한 선들은 지평선의 vanhishing point를 가진다.\n",
    "폴의 밑은 내 눈높이보다 낮고 / 높이는 높고"
   ]
  },
  {
   "cell_type": "code",
   "execution_count": null,
   "metadata": {},
   "outputs": [],
   "source": [
    "44p\n",
    "sphere project : 완벽한 구인데 왜 찌그러져 보이는가?\n",
    "  "
   ]
  },
  {
   "cell_type": "markdown",
   "metadata": {},
   "source": [
    "# Camera2"
   ]
  },
  {
   "cell_type": "code",
   "execution_count": null,
   "metadata": {},
   "outputs": [],
   "source": [
    "Homogeneous Coordinate:\n",
    "-> 선형적인 벡터의 계산이 안되니깐 처음에 1을 더해서 계산후에 나중에 1을 뺴면 계산이된다\n",
    "계산 결과가 나오면 마지막 element가 1이 되도록 w로 다시나눠주고 쓰자. "
   ]
  },
  {
   "cell_type": "code",
   "execution_count": null,
   "metadata": {},
   "outputs": [],
   "source": [
    "Orthographic: 기존 projectino은 가까이있는건 크게보이고 멀리이슨거는 작게보여야되는데\n",
    "    -> 실제 게임을 예를들면 멀리잇는애를 조그마게 보이면 안되니깐\n",
    "    -> 비슷한 scale의 크기로 projection 하자.\n",
    "\n",
    "인공이성과 도시사의 거리는 수천키로미터인데 / 도시는 도시끼리 1~200m박에 안됨\n",
    "델타 z는 도시와 도시 /  z는 인공위성과 도시의거리\n",
    "아주 멀리서 바라보면 가까우면 크고 멀면 작아지는 효과가 무시할 정도이다.\n",
    "z는 엄청크고 뎅타Z는 작은경우에만 적용가능.\n",
    "\n",
    "Affine은 제외/ 10p 제외"
   ]
  },
  {
   "cell_type": "code",
   "execution_count": null,
   "metadata": {},
   "outputs": [],
   "source": [
    "effective focal length = lens와 image plane의 거리\n",
    "focal lenth: 빛이 들어올때 하나의 focal point에 모이는데 거기까지의 거리."
   ]
  }
 ],
 "metadata": {
  "kernelspec": {
   "display_name": "Python 3",
   "language": "python",
   "name": "python3"
  },
  "language_info": {
   "codemirror_mode": {
    "name": "ipython",
    "version": 3
   },
   "file_extension": ".py",
   "mimetype": "text/x-python",
   "name": "python",
   "nbconvert_exporter": "python",
   "pygments_lexer": "ipython3",
   "version": "3.6.5"
  }
 },
 "nbformat": 4,
 "nbformat_minor": 2
}
