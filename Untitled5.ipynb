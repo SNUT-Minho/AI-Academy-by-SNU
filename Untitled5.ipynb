{
 "cells": [
  {
   "cell_type": "code",
   "execution_count": 72,
   "metadata": {},
   "outputs": [],
   "source": [
    "def solution():\n",
    "    lines = [\"2016-09-15 01:00:04.001 2.0s\",\"2016-09-15 01:00:07.000 2s\"]\n",
    "    lines = list(lines)\n",
    "    for job in lines:\n",
    "        time = job[11:23]\n",
    "        process = job[24:-1]\n",
    "        print(time)\n",
    "        print(process)\n",
    "        base = time[0:2]*(60*60*1000) + time[3:5]*(60*1000) + time[6:8]*(1000) + time[9:12]\n",
    "        print(base)"
   ]
  },
  {
   "cell_type": "code",
   "execution_count": 73,
   "metadata": {},
   "outputs": [
    {
     "name": "stderr",
     "output_type": "stream",
     "text": [
      "IOPub data rate exceeded.\n",
      "The notebook server will temporarily stop sending output\n",
      "to the client in order to avoid crashing it.\n",
      "To change this limit, set the config variable\n",
      "`--NotebookApp.iopub_data_rate_limit`.\n",
      "\n",
      "Current values:\n",
      "NotebookApp.iopub_data_rate_limit=1000000.0 (bytes/sec)\n",
      "NotebookApp.rate_limit_window=3.0 (secs)\n",
      "\n"
     ]
    }
   ],
   "source": [
    "arr = [\"2016-09-15 01:00:04.001 2.0s\",\"2016-09-15 01:00:07.000 2s\"]\n",
    "solution()"
   ]
  },
  {
   "cell_type": "code",
   "execution_count": null,
   "metadata": {},
   "outputs": [],
   "source": []
  }
 ],
 "metadata": {
  "kernelspec": {
   "display_name": "Python 3",
   "language": "python",
   "name": "python3"
  },
  "language_info": {
   "codemirror_mode": {
    "name": "ipython",
    "version": 3
   },
   "file_extension": ".py",
   "mimetype": "text/x-python",
   "name": "python",
   "nbconvert_exporter": "python",
   "pygments_lexer": "ipython3",
   "version": "3.6.5"
  }
 },
 "nbformat": 4,
 "nbformat_minor": 2
}
